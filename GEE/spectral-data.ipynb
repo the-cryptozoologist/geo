{
  "nbformat": 4,
  "nbformat_minor": 0,
  "metadata": {
    "colab": {
      "name": "GEE_spectral_data.ipynb",
      "provenance": [],
      "collapsed_sections": [],
      "authorship_tag": "ABX9TyOpQaiT1D7i47Zkqso46NGW",
      "include_colab_link": true
    },
    "kernelspec": {
      "name": "python3",
      "display_name": "Python 3"
    },
    "language_info": {
      "name": "python"
    },
    "widgets": {
      "application/vnd.jupyter.widget-state+json": {
        "242629d4e86441fd810a9d7684a6d501": {
          "model_module": "jupyter-leaflet",
          "model_name": "LeafletMapModel",
          "model_module_version": "^0.15.0",
          "state": {
            "_view_name": "LeafletMapView",
            "keyboard_pan_offset": 80,
            "right": 129397,
            "tap": true,
            "_view_module": "jupyter-leaflet",
            "max_zoom": 24,
            "_model_module_version": "^0.15.0",
            "_view_count": null,
            "zoom_snap": 1,
            "min_zoom": 1,
            "bounce_at_zoom_limits": true,
            "keyboard": true,
            "north": 47.93014620109099,
            "scroll_wheel_zoom": true,
            "dragging": true,
            "_model_module": "jupyter-leaflet",
            "zoom_delta": 1,
            "close_popup_on_click": true,
            "fullscreen": false,
            "style": "IPY_MODEL_e9822f670f86443ead44d58a7c24a3ff",
            "layout": "IPY_MODEL_cb9f4e2169b14a72a77e6523b90d5546",
            "bottom": 91801,
            "prefer_canvas": false,
            "inertia_max_speed": 1500,
            "top": 91201,
            "box_zoom": true,
            "controls": [
              "IPY_MODEL_a9480576669b4b51bfbe0169ced591be",
              "IPY_MODEL_8ee8b8c03eda4826bdaf38451212b7c0",
              "IPY_MODEL_b0c1e23eb3534f1495eb859804943dea",
              "IPY_MODEL_ecb1dd52010345438207db30e9aa1083",
              "IPY_MODEL_7beee44b92484062a6820fd7a5698224",
              "IPY_MODEL_5940471ec6c3486fa2422bccc75ceb7b",
              "IPY_MODEL_f185b05658594d3fb276f31a2e58aeeb",
              "IPY_MODEL_cd90b469a60446b98cecf39df4ee230c"
            ],
            "default_style": "IPY_MODEL_e9822f670f86443ead44d58a7c24a3ff",
            "east": -2.3002624511718754,
            "double_click_zoom": true,
            "interpolation": "bilinear",
            "layers": [
              "IPY_MODEL_559fc45d7a99424b92bac5a8b330625d",
              "IPY_MODEL_3bee06bf61674e8692737b6e3edd6501",
              "IPY_MODEL_778b7a9ef5424d7cbf6887da0d8377c4"
            ],
            "dragging_style": "IPY_MODEL_43e065c344b547edb7cd1608d6d39673",
            "_dom_classes": [],
            "zoom_animation_threshold": 4,
            "_model_name": "LeafletMapModel",
            "zoom_start": 12,
            "modisdate": "2022-01-26",
            "keyboard_zoom_offset": 1,
            "inertia_deceleration": 3000,
            "inertia": true,
            "crs": {
              "name": "EPSG3857",
              "custom": false
            },
            "center": [
              47.65336285044984,
              -2.7850341796875004
            ],
            "zoom": 10,
            "world_copy_jump": false,
            "_view_module_version": "^0.15.0",
            "window_url": "https://ydxwd8zff6-496ff2e9c6d22116-0-colab.googleusercontent.com/outputframe.html?vrz=colab-20220125-060059-RC00_424040750",
            "tap_tolerance": 15,
            "west": -3.2698059082031254,
            "touch_zoom": true,
            "options": [
              "bounce_at_zoom_limits",
              "box_zoom",
              "center",
              "close_popup_on_click",
              "double_click_zoom",
              "dragging",
              "fullscreen",
              "inertia",
              "inertia_deceleration",
              "inertia_max_speed",
              "interpolation",
              "keyboard",
              "keyboard_pan_offset",
              "keyboard_zoom_offset",
              "max_zoom",
              "min_zoom",
              "prefer_canvas",
              "scroll_wheel_zoom",
              "tap",
              "tap_tolerance",
              "touch_zoom",
              "world_copy_jump",
              "zoom",
              "zoom_animation_threshold",
              "zoom_delta",
              "zoom_snap",
              "zoom_start"
            ],
            "south": 47.37510465486693,
            "left": 128691
          }
        },
        "5044a06a2b9c4e0aa206c4704bf6a7de": {
          "model_module": "jupyter-leaflet",
          "model_name": "LeafletMapStyleModel",
          "model_module_version": "^0.15.0",
          "state": {
            "_view_name": "StyleView",
            "_model_name": "LeafletMapStyleModel",
            "_view_module": "@jupyter-widgets/base",
            "_model_module_version": "^0.15.0",
            "_view_count": null,
            "cursor": "grab",
            "_view_module_version": "1.2.0",
            "_model_module": "jupyter-leaflet"
          }
        },
        "cb9f4e2169b14a72a77e6523b90d5546": {
          "model_module": "@jupyter-widgets/base",
          "model_name": "LayoutModel",
          "model_module_version": "1.2.0",
          "state": {
            "_view_name": "LayoutView",
            "grid_template_rows": null,
            "right": null,
            "justify_content": null,
            "_view_module": "@jupyter-widgets/base",
            "overflow": null,
            "_model_module_version": "1.2.0",
            "_view_count": null,
            "flex_flow": null,
            "width": null,
            "min_width": null,
            "border": null,
            "align_items": null,
            "bottom": null,
            "_model_module": "@jupyter-widgets/base",
            "top": null,
            "grid_column": null,
            "overflow_y": null,
            "overflow_x": null,
            "grid_auto_flow": null,
            "grid_area": null,
            "grid_template_columns": null,
            "flex": null,
            "_model_name": "LayoutModel",
            "justify_items": null,
            "grid_row": null,
            "max_height": null,
            "align_content": null,
            "visibility": null,
            "align_self": null,
            "height": "600px",
            "min_height": null,
            "padding": null,
            "grid_auto_rows": null,
            "grid_gap": null,
            "max_width": null,
            "order": null,
            "_view_module_version": "1.2.0",
            "grid_template_areas": null,
            "object_position": null,
            "object_fit": null,
            "grid_auto_columns": null,
            "margin": null,
            "display": null,
            "left": null
          }
        },
        "a9480576669b4b51bfbe0169ced591be": {
          "model_module": "jupyter-leaflet",
          "model_name": "LeafletWidgetControlModel",
          "model_module_version": "^0.15.0",
          "state": {
            "_view_name": "LeafletWidgetControlView",
            "widget": "IPY_MODEL_41b9fa7898d241408b76d1801bb73ada",
            "_model_name": "LeafletWidgetControlModel",
            "_view_module": "jupyter-leaflet",
            "_model_module_version": "^0.15.0",
            "max_height": null,
            "_view_count": null,
            "min_height": null,
            "_view_module_version": "^0.15.0",
            "max_width": null,
            "transparent_bg": false,
            "min_width": null,
            "position": "topleft",
            "_model_module": "jupyter-leaflet",
            "options": [
              "position",
              "transparent_bg"
            ]
          }
        },
        "8ee8b8c03eda4826bdaf38451212b7c0": {
          "model_module": "jupyter-leaflet",
          "model_name": "LeafletZoomControlModel",
          "model_module_version": "^0.15.0",
          "state": {
            "_view_name": "LeafletZoomControlView",
            "zoom_in_title": "Zoom in",
            "_model_name": "LeafletZoomControlModel",
            "_view_module": "jupyter-leaflet",
            "_model_module_version": "^0.15.0",
            "_view_count": null,
            "_view_module_version": "^0.15.0",
            "zoom_out_title": "Zoom out",
            "position": "topleft",
            "zoom_in_text": "+",
            "_model_module": "jupyter-leaflet",
            "options": [
              "position",
              "zoom_in_text",
              "zoom_in_title",
              "zoom_out_text",
              "zoom_out_title"
            ],
            "zoom_out_text": "-"
          }
        },
        "b0c1e23eb3534f1495eb859804943dea": {
          "model_module": "jupyter-leaflet",
          "model_name": "LeafletScaleControlModel",
          "model_module_version": "^0.15.0",
          "state": {
            "_view_name": "LeafletScaleControlView",
            "_model_name": "LeafletScaleControlModel",
            "metric": true,
            "_view_module": "jupyter-leaflet",
            "_model_module_version": "^0.15.0",
            "max_width": 100,
            "_view_count": null,
            "_view_module_version": "^0.15.0",
            "update_when_idle": false,
            "position": "bottomleft",
            "imperial": true,
            "_model_module": "jupyter-leaflet",
            "options": [
              "imperial",
              "max_width",
              "metric",
              "position",
              "update_when_idle"
            ]
          }
        },
        "ecb1dd52010345438207db30e9aa1083": {
          "model_module": "jupyter-leaflet",
          "model_name": "LeafletFullScreenControlModel",
          "model_module_version": "^0.15.0",
          "state": {
            "_view_name": "LeafletFullScreenControlView",
            "_model_name": "LeafletFullScreenControlModel",
            "_view_module": "jupyter-leaflet",
            "_model_module_version": "^0.15.0",
            "_view_count": null,
            "_view_module_version": "^0.15.0",
            "position": "topleft",
            "_model_module": "jupyter-leaflet",
            "options": [
              "position"
            ]
          }
        },
        "7beee44b92484062a6820fd7a5698224": {
          "model_module": "jupyter-leaflet",
          "model_name": "LeafletMeasureControlModel",
          "model_module_version": "^0.15.0",
          "state": {
            "_view_name": "LeafletMeasureControlView",
            "primary_area_unit": "acres",
            "capture_z_index": 10000,
            "secondary_area_unit": null,
            "primary_length_unit": "kilometers",
            "active_color": "orange",
            "_model_name": "LeafletMeasureControlModel",
            "popup_options": {
              "className": "leaflet-measure-resultpopup",
              "autoPanPadding": [
                10,
                10
              ]
            },
            "_view_module": "jupyter-leaflet",
            "_model_module_version": "^0.15.0",
            "_view_count": null,
            "_view_module_version": "^0.15.0",
            "secondary_length_unit": null,
            "completed_color": "#C8F2BE",
            "position": "bottomleft",
            "_model_module": "jupyter-leaflet",
            "options": [
              "active_color",
              "capture_z_index",
              "completed_color",
              "popup_options",
              "position",
              "primary_area_unit",
              "primary_length_unit",
              "secondary_area_unit",
              "secondary_length_unit"
            ],
            "_custom_units": {}
          }
        },
        "5940471ec6c3486fa2422bccc75ceb7b": {
          "model_module": "jupyter-leaflet",
          "model_name": "LeafletAttributionControlModel",
          "model_module_version": "^0.15.0",
          "state": {
            "_view_name": "LeafletAttributionControlView",
            "prefix": "ipyleaflet",
            "_model_name": "LeafletAttributionControlModel",
            "_view_module": "jupyter-leaflet",
            "_model_module_version": "^0.15.0",
            "_view_count": null,
            "_view_module_version": "^0.15.0",
            "position": "bottomright",
            "_model_module": "jupyter-leaflet",
            "options": [
              "position",
              "prefix"
            ]
          }
        },
        "f185b05658594d3fb276f31a2e58aeeb": {
          "model_module": "jupyter-leaflet",
          "model_name": "LeafletDrawControlModel",
          "model_module_version": "^0.15.0",
          "state": {
            "_view_name": "LeafletDrawControlView",
            "polygon": {
              "shapeOptions": {}
            },
            "circlemarker": {},
            "_model_name": "LeafletDrawControlModel",
            "edit": true,
            "data": [],
            "_view_module": "jupyter-leaflet",
            "_model_module_version": "^0.15.0",
            "remove": true,
            "_view_count": null,
            "_view_module_version": "^0.15.0",
            "polyline": {
              "shapeOptions": {}
            },
            "marker": {
              "shapeOptions": {
                "color": "#3388ff"
              }
            },
            "position": "topleft",
            "circle": {
              "shapeOptions": {
                "color": "#3388ff"
              }
            },
            "_model_module": "jupyter-leaflet",
            "options": [
              "position"
            ],
            "rectangle": {
              "shapeOptions": {
                "color": "#3388ff"
              }
            }
          }
        },
        "cd90b469a60446b98cecf39df4ee230c": {
          "model_module": "jupyter-leaflet",
          "model_name": "LeafletWidgetControlModel",
          "model_module_version": "^0.15.0",
          "state": {
            "_view_name": "LeafletWidgetControlView",
            "widget": "IPY_MODEL_054f359b32e74a698b0431aee404dad9",
            "_model_name": "LeafletWidgetControlModel",
            "_view_module": "jupyter-leaflet",
            "_model_module_version": "^0.15.0",
            "max_height": null,
            "_view_count": null,
            "min_height": null,
            "_view_module_version": "^0.15.0",
            "max_width": null,
            "transparent_bg": false,
            "min_width": null,
            "position": "topright",
            "_model_module": "jupyter-leaflet",
            "options": [
              "position",
              "transparent_bg"
            ]
          }
        },
        "e9822f670f86443ead44d58a7c24a3ff": {
          "model_module": "jupyter-leaflet",
          "model_name": "LeafletMapStyleModel",
          "model_module_version": "^0.15.0",
          "state": {
            "_view_name": "StyleView",
            "_model_name": "LeafletMapStyleModel",
            "_view_module": "@jupyter-widgets/base",
            "_model_module_version": "^0.15.0",
            "_view_count": null,
            "cursor": "grab",
            "_view_module_version": "1.2.0",
            "_model_module": "jupyter-leaflet"
          }
        },
        "559fc45d7a99424b92bac5a8b330625d": {
          "model_module": "jupyter-leaflet",
          "model_name": "LeafletTileLayerModel",
          "model_module_version": "^0.15.0",
          "state": {
            "_view_name": "LeafletTileLayerView",
            "_view_module": "jupyter-leaflet",
            "max_zoom": 19,
            "_model_module_version": "^0.15.0",
            "_view_count": null,
            "visible": true,
            "min_zoom": 1,
            "tms": false,
            "_model_module": "jupyter-leaflet",
            "loading": false,
            "bottom": true,
            "no_wrap": false,
            "tile_size": 256,
            "popup_min_width": 50,
            "opacity": 1,
            "popup": null,
            "attribution": "&copy; <a href=\"https://www.openstreetmap.org/copyright\">OpenStreetMap</a> contributors",
            "_model_name": "LeafletTileLayerModel",
            "max_native_zoom": 18,
            "base": true,
            "min_native_zoom": 0,
            "show_loading": false,
            "name": "OpenStreetMap.Mapnik",
            "url": "https://a.tile.openstreetmap.org/{z}/{x}/{y}.png",
            "popup_max_height": null,
            "popup_max_width": 300,
            "detect_retina": false,
            "_view_module_version": "^0.15.0",
            "options": [
              "attribution",
              "detect_retina",
              "max_native_zoom",
              "max_zoom",
              "min_native_zoom",
              "min_zoom",
              "no_wrap",
              "tile_size",
              "tms"
            ]
          }
        },
        "3bee06bf61674e8692737b6e3edd6501": {
          "model_module": "jupyter-leaflet",
          "model_name": "LeafletTileLayerModel",
          "model_module_version": "^0.15.0",
          "state": {
            "_view_name": "LeafletTileLayerView",
            "_view_module": "jupyter-leaflet",
            "max_zoom": 22,
            "_model_module_version": "^0.15.0",
            "_view_count": null,
            "visible": true,
            "min_zoom": 0,
            "tms": false,
            "_model_module": "jupyter-leaflet",
            "loading": false,
            "bottom": true,
            "no_wrap": false,
            "tile_size": 256,
            "popup_min_width": 50,
            "opacity": 1,
            "popup": null,
            "attribution": "Google",
            "_model_name": "LeafletTileLayerModel",
            "max_native_zoom": 18,
            "base": false,
            "min_native_zoom": 0,
            "show_loading": false,
            "name": "Google Maps",
            "url": "https://mt1.google.com/vt/lyrs=m&x={x}&y={y}&z={z}",
            "popup_max_height": null,
            "popup_max_width": 300,
            "detect_retina": false,
            "_view_module_version": "^0.15.0",
            "options": [
              "attribution",
              "detect_retina",
              "max_native_zoom",
              "max_zoom",
              "min_native_zoom",
              "min_zoom",
              "no_wrap",
              "tile_size",
              "tms"
            ]
          }
        },
        "778b7a9ef5424d7cbf6887da0d8377c4": {
          "model_module": "jupyter-leaflet",
          "model_name": "LeafletTileLayerModel",
          "model_module_version": "^0.15.0",
          "state": {
            "_view_name": "LeafletTileLayerView",
            "_view_module": "jupyter-leaflet",
            "max_zoom": 24,
            "_model_module_version": "^0.15.0",
            "_view_count": null,
            "visible": true,
            "min_zoom": 0,
            "tms": false,
            "_model_module": "jupyter-leaflet",
            "loading": false,
            "bottom": true,
            "no_wrap": false,
            "tile_size": 256,
            "popup_min_width": 50,
            "opacity": 1,
            "popup": null,
            "attribution": "Google Earth Engine",
            "_model_name": "LeafletTileLayerModel",
            "max_native_zoom": 18,
            "base": false,
            "min_native_zoom": 0,
            "show_loading": false,
            "name": "2020 Dry season true color",
            "url": "https://earthengine.googleapis.com/v1alpha/projects/earthengine-legacy/maps/676d2f9a62b9b706b83035fc31794436-7567235f5f175417994769c64dab5212/tiles/{z}/{x}/{y}",
            "popup_max_height": null,
            "popup_max_width": 300,
            "detect_retina": false,
            "_view_module_version": "^0.15.0",
            "options": [
              "attribution",
              "detect_retina",
              "max_native_zoom",
              "max_zoom",
              "min_native_zoom",
              "min_zoom",
              "no_wrap",
              "tile_size",
              "tms"
            ]
          }
        },
        "43e065c344b547edb7cd1608d6d39673": {
          "model_module": "jupyter-leaflet",
          "model_name": "LeafletMapStyleModel",
          "model_module_version": "^0.15.0",
          "state": {
            "_view_name": "StyleView",
            "_model_name": "LeafletMapStyleModel",
            "_view_module": "@jupyter-widgets/base",
            "_model_module_version": "^0.15.0",
            "_view_count": null,
            "cursor": "move",
            "_view_module_version": "1.2.0",
            "_model_module": "jupyter-leaflet"
          }
        },
        "41b9fa7898d241408b76d1801bb73ada": {
          "model_module": "@jupyter-widgets/controls",
          "model_name": "HBoxModel",
          "model_module_version": "1.5.0",
          "state": {
            "_view_name": "HBoxView",
            "_dom_classes": [],
            "_model_name": "HBoxModel",
            "_view_module": "@jupyter-widgets/controls",
            "_model_module_version": "1.5.0",
            "_view_count": null,
            "_view_module_version": "1.5.0",
            "box_style": "",
            "layout": "IPY_MODEL_50d3226076af4c0aa92f731654eb8481",
            "_model_module": "@jupyter-widgets/controls",
            "children": [
              "IPY_MODEL_4790f5be80764a85995ff6db3a913009"
            ]
          }
        },
        "054f359b32e74a698b0431aee404dad9": {
          "model_module": "@jupyter-widgets/controls",
          "model_name": "VBoxModel",
          "model_module_version": "1.5.0",
          "state": {
            "_view_name": "VBoxView",
            "_dom_classes": [],
            "_model_name": "VBoxModel",
            "_view_module": "@jupyter-widgets/controls",
            "_model_module_version": "1.5.0",
            "_view_count": null,
            "_view_module_version": "1.5.0",
            "box_style": "",
            "layout": "IPY_MODEL_7ddd8977cf6e416fa712c40d8df79fbb",
            "_model_module": "@jupyter-widgets/controls",
            "children": [
              "IPY_MODEL_c6e2d0300a944c298a7a66bf3075d63a"
            ]
          }
        },
        "50d3226076af4c0aa92f731654eb8481": {
          "model_module": "@jupyter-widgets/base",
          "model_name": "LayoutModel",
          "model_module_version": "1.2.0",
          "state": {
            "_view_name": "LayoutView",
            "grid_template_rows": null,
            "right": null,
            "justify_content": null,
            "_view_module": "@jupyter-widgets/base",
            "overflow": null,
            "_model_module_version": "1.2.0",
            "_view_count": null,
            "flex_flow": null,
            "width": null,
            "min_width": null,
            "border": null,
            "align_items": null,
            "bottom": null,
            "_model_module": "@jupyter-widgets/base",
            "top": null,
            "grid_column": null,
            "overflow_y": null,
            "overflow_x": null,
            "grid_auto_flow": null,
            "grid_area": null,
            "grid_template_columns": null,
            "flex": null,
            "_model_name": "LayoutModel",
            "justify_items": null,
            "grid_row": null,
            "max_height": null,
            "align_content": null,
            "visibility": null,
            "align_self": null,
            "height": null,
            "min_height": null,
            "padding": null,
            "grid_auto_rows": null,
            "grid_gap": null,
            "max_width": null,
            "order": null,
            "_view_module_version": "1.2.0",
            "grid_template_areas": null,
            "object_position": null,
            "object_fit": null,
            "grid_auto_columns": null,
            "margin": null,
            "display": null,
            "left": null
          }
        },
        "4790f5be80764a85995ff6db3a913009": {
          "model_module": "@jupyter-widgets/controls",
          "model_name": "ToggleButtonModel",
          "model_module_version": "1.5.0",
          "state": {
            "_view_name": "ToggleButtonView",
            "style": "IPY_MODEL_9ff1c5d36578494eac70ef79b2ca32df",
            "_dom_classes": [],
            "description": "",
            "_model_name": "ToggleButtonModel",
            "button_style": "",
            "_view_module": "@jupyter-widgets/controls",
            "_model_module_version": "1.5.0",
            "tooltip": "Search location/data",
            "_view_count": null,
            "disabled": false,
            "_view_module_version": "1.5.0",
            "value": false,
            "description_tooltip": null,
            "_model_module": "@jupyter-widgets/controls",
            "layout": "IPY_MODEL_2025727640744792aad550b899b81be6",
            "icon": "globe"
          }
        },
        "7ddd8977cf6e416fa712c40d8df79fbb": {
          "model_module": "@jupyter-widgets/base",
          "model_name": "LayoutModel",
          "model_module_version": "1.2.0",
          "state": {
            "_view_name": "LayoutView",
            "grid_template_rows": null,
            "right": null,
            "justify_content": null,
            "_view_module": "@jupyter-widgets/base",
            "overflow": null,
            "_model_module_version": "1.2.0",
            "_view_count": null,
            "flex_flow": null,
            "width": null,
            "min_width": null,
            "border": null,
            "align_items": null,
            "bottom": null,
            "_model_module": "@jupyter-widgets/base",
            "top": null,
            "grid_column": null,
            "overflow_y": null,
            "overflow_x": null,
            "grid_auto_flow": null,
            "grid_area": null,
            "grid_template_columns": null,
            "flex": null,
            "_model_name": "LayoutModel",
            "justify_items": null,
            "grid_row": null,
            "max_height": null,
            "align_content": null,
            "visibility": null,
            "align_self": null,
            "height": null,
            "min_height": null,
            "padding": null,
            "grid_auto_rows": null,
            "grid_gap": null,
            "max_width": null,
            "order": null,
            "_view_module_version": "1.2.0",
            "grid_template_areas": null,
            "object_position": null,
            "object_fit": null,
            "grid_auto_columns": null,
            "margin": null,
            "display": null,
            "left": null
          }
        },
        "c6e2d0300a944c298a7a66bf3075d63a": {
          "model_module": "@jupyter-widgets/controls",
          "model_name": "ToggleButtonModel",
          "model_module_version": "1.5.0",
          "state": {
            "_view_name": "ToggleButtonView",
            "style": "IPY_MODEL_d60fbf7623ab44b297261a38e1c7c58d",
            "_dom_classes": [],
            "description": "",
            "_model_name": "ToggleButtonModel",
            "button_style": "",
            "_view_module": "@jupyter-widgets/controls",
            "_model_module_version": "1.5.0",
            "tooltip": "Toolbar",
            "_view_count": null,
            "disabled": false,
            "_view_module_version": "1.5.0",
            "value": false,
            "description_tooltip": null,
            "_model_module": "@jupyter-widgets/controls",
            "layout": "IPY_MODEL_d1316facdd1041c3bb301d2dce428449",
            "icon": "wrench"
          }
        },
        "9ff1c5d36578494eac70ef79b2ca32df": {
          "model_module": "@jupyter-widgets/controls",
          "model_name": "DescriptionStyleModel",
          "model_module_version": "1.5.0",
          "state": {
            "_view_name": "StyleView",
            "_model_name": "DescriptionStyleModel",
            "description_width": "",
            "_view_module": "@jupyter-widgets/base",
            "_model_module_version": "1.5.0",
            "_view_count": null,
            "_view_module_version": "1.2.0",
            "_model_module": "@jupyter-widgets/controls"
          }
        },
        "2025727640744792aad550b899b81be6": {
          "model_module": "@jupyter-widgets/base",
          "model_name": "LayoutModel",
          "model_module_version": "1.2.0",
          "state": {
            "_view_name": "LayoutView",
            "grid_template_rows": null,
            "right": null,
            "justify_content": null,
            "_view_module": "@jupyter-widgets/base",
            "overflow": null,
            "_model_module_version": "1.2.0",
            "_view_count": null,
            "flex_flow": null,
            "width": "28px",
            "min_width": null,
            "border": null,
            "align_items": null,
            "bottom": null,
            "_model_module": "@jupyter-widgets/base",
            "top": null,
            "grid_column": null,
            "overflow_y": null,
            "overflow_x": null,
            "grid_auto_flow": null,
            "grid_area": null,
            "grid_template_columns": null,
            "flex": null,
            "_model_name": "LayoutModel",
            "justify_items": null,
            "grid_row": null,
            "max_height": null,
            "align_content": null,
            "visibility": null,
            "align_self": null,
            "height": "28px",
            "min_height": null,
            "padding": "0px 0px 0px 4px",
            "grid_auto_rows": null,
            "grid_gap": null,
            "max_width": null,
            "order": null,
            "_view_module_version": "1.2.0",
            "grid_template_areas": null,
            "object_position": null,
            "object_fit": null,
            "grid_auto_columns": null,
            "margin": null,
            "display": null,
            "left": null
          }
        },
        "d60fbf7623ab44b297261a38e1c7c58d": {
          "model_module": "@jupyter-widgets/controls",
          "model_name": "DescriptionStyleModel",
          "model_module_version": "1.5.0",
          "state": {
            "_view_name": "StyleView",
            "_model_name": "DescriptionStyleModel",
            "description_width": "",
            "_view_module": "@jupyter-widgets/base",
            "_model_module_version": "1.5.0",
            "_view_count": null,
            "_view_module_version": "1.2.0",
            "_model_module": "@jupyter-widgets/controls"
          }
        },
        "d1316facdd1041c3bb301d2dce428449": {
          "model_module": "@jupyter-widgets/base",
          "model_name": "LayoutModel",
          "model_module_version": "1.2.0",
          "state": {
            "_view_name": "LayoutView",
            "grid_template_rows": null,
            "right": null,
            "justify_content": null,
            "_view_module": "@jupyter-widgets/base",
            "overflow": null,
            "_model_module_version": "1.2.0",
            "_view_count": null,
            "flex_flow": null,
            "width": "28px",
            "min_width": null,
            "border": null,
            "align_items": null,
            "bottom": null,
            "_model_module": "@jupyter-widgets/base",
            "top": null,
            "grid_column": null,
            "overflow_y": null,
            "overflow_x": null,
            "grid_auto_flow": null,
            "grid_area": null,
            "grid_template_columns": null,
            "flex": null,
            "_model_name": "LayoutModel",
            "justify_items": null,
            "grid_row": null,
            "max_height": null,
            "align_content": null,
            "visibility": null,
            "align_self": null,
            "height": "28px",
            "min_height": null,
            "padding": "0px 0px 0px 4px",
            "grid_auto_rows": null,
            "grid_gap": null,
            "max_width": null,
            "order": null,
            "_view_module_version": "1.2.0",
            "grid_template_areas": null,
            "object_position": null,
            "object_fit": null,
            "grid_auto_columns": null,
            "margin": null,
            "display": null,
            "left": null
          }
        },
        "3a9dfc771f11445a9c8cc5e17254e937": {
          "model_module": "jupyter-leaflet",
          "model_name": "LeafletMapModel",
          "model_module_version": "^0.15.0",
          "state": {
            "_view_name": "LeafletMapView",
            "keyboard_pan_offset": 80,
            "right": 129397,
            "tap": true,
            "_view_module": "jupyter-leaflet",
            "max_zoom": 24,
            "_model_module_version": "^0.15.0",
            "_view_count": null,
            "zoom_snap": 1,
            "min_zoom": 1,
            "bounce_at_zoom_limits": true,
            "keyboard": true,
            "north": 47.93014620109099,
            "scroll_wheel_zoom": true,
            "dragging": true,
            "_model_module": "jupyter-leaflet",
            "zoom_delta": 1,
            "close_popup_on_click": true,
            "fullscreen": false,
            "style": "IPY_MODEL_34784a0a771f4029b21680cbc2ebc885",
            "layout": "IPY_MODEL_5ceedbf1df5b404c96936e93885f7652",
            "bottom": 91801,
            "prefer_canvas": false,
            "inertia_max_speed": 1500,
            "top": 91201,
            "box_zoom": true,
            "controls": [
              "IPY_MODEL_af9de5edd4074015b9f2d97446153472",
              "IPY_MODEL_6893e4a083394cad8acde835c49d4876",
              "IPY_MODEL_4eb514946764467ca404d72b85867077",
              "IPY_MODEL_6e40b9bf6b0849a19af3e69deb1acee0",
              "IPY_MODEL_0d2a648993a34f1f8520d126a700b496",
              "IPY_MODEL_a4553c6640224861aacf4aa9dff61e22",
              "IPY_MODEL_58d6db97e96942ab9a18efce126cae58",
              "IPY_MODEL_9cb4f60db1e641f3a658284a2009365b"
            ],
            "default_style": "IPY_MODEL_34784a0a771f4029b21680cbc2ebc885",
            "east": -2.3002624511718754,
            "double_click_zoom": true,
            "interpolation": "bilinear",
            "layers": [
              "IPY_MODEL_d611ecbab708476aabefb91b8390ee1b",
              "IPY_MODEL_3bee06bf61674e8692737b6e3edd6501",
              "IPY_MODEL_e87958281fd24d2b84808b8e2dfcebdc"
            ],
            "dragging_style": "IPY_MODEL_3922b2eca3324bbd8229195d2499b073",
            "_dom_classes": [],
            "zoom_animation_threshold": 4,
            "_model_name": "LeafletMapModel",
            "zoom_start": 12,
            "modisdate": "2022-01-26",
            "keyboard_zoom_offset": 1,
            "inertia_deceleration": 3000,
            "inertia": true,
            "crs": {
              "name": "EPSG3857",
              "custom": false
            },
            "center": [
              47.65336285044984,
              -2.7850341796875004
            ],
            "zoom": 10,
            "world_copy_jump": false,
            "_view_module_version": "^0.15.0",
            "window_url": "https://ydxwd8zff6-496ff2e9c6d22116-0-colab.googleusercontent.com/outputframe.html?vrz=colab-20220125-060059-RC00_424040750",
            "tap_tolerance": 15,
            "west": -3.2698059082031254,
            "touch_zoom": true,
            "options": [
              "bounce_at_zoom_limits",
              "box_zoom",
              "center",
              "close_popup_on_click",
              "double_click_zoom",
              "dragging",
              "fullscreen",
              "inertia",
              "inertia_deceleration",
              "inertia_max_speed",
              "interpolation",
              "keyboard",
              "keyboard_pan_offset",
              "keyboard_zoom_offset",
              "max_zoom",
              "min_zoom",
              "prefer_canvas",
              "scroll_wheel_zoom",
              "tap",
              "tap_tolerance",
              "touch_zoom",
              "world_copy_jump",
              "zoom",
              "zoom_animation_threshold",
              "zoom_delta",
              "zoom_snap",
              "zoom_start"
            ],
            "south": 47.37510465486693,
            "left": 128691
          }
        },
        "f9f1c6b85c354b5fa095fde674f94e1a": {
          "model_module": "jupyter-leaflet",
          "model_name": "LeafletMapStyleModel",
          "model_module_version": "^0.15.0",
          "state": {
            "_view_name": "StyleView",
            "_model_name": "LeafletMapStyleModel",
            "_view_module": "@jupyter-widgets/base",
            "_model_module_version": "^0.15.0",
            "_view_count": null,
            "cursor": "grab",
            "_view_module_version": "1.2.0",
            "_model_module": "jupyter-leaflet"
          }
        },
        "5ceedbf1df5b404c96936e93885f7652": {
          "model_module": "@jupyter-widgets/base",
          "model_name": "LayoutModel",
          "model_module_version": "1.2.0",
          "state": {
            "_view_name": "LayoutView",
            "grid_template_rows": null,
            "right": null,
            "justify_content": null,
            "_view_module": "@jupyter-widgets/base",
            "overflow": null,
            "_model_module_version": "1.2.0",
            "_view_count": null,
            "flex_flow": null,
            "width": null,
            "min_width": null,
            "border": null,
            "align_items": null,
            "bottom": null,
            "_model_module": "@jupyter-widgets/base",
            "top": null,
            "grid_column": null,
            "overflow_y": null,
            "overflow_x": null,
            "grid_auto_flow": null,
            "grid_area": null,
            "grid_template_columns": null,
            "flex": null,
            "_model_name": "LayoutModel",
            "justify_items": null,
            "grid_row": null,
            "max_height": null,
            "align_content": null,
            "visibility": null,
            "align_self": null,
            "height": "600px",
            "min_height": null,
            "padding": null,
            "grid_auto_rows": null,
            "grid_gap": null,
            "max_width": null,
            "order": null,
            "_view_module_version": "1.2.0",
            "grid_template_areas": null,
            "object_position": null,
            "object_fit": null,
            "grid_auto_columns": null,
            "margin": null,
            "display": null,
            "left": null
          }
        },
        "af9de5edd4074015b9f2d97446153472": {
          "model_module": "jupyter-leaflet",
          "model_name": "LeafletWidgetControlModel",
          "model_module_version": "^0.15.0",
          "state": {
            "_view_name": "LeafletWidgetControlView",
            "widget": "IPY_MODEL_17239f3a638c493eae7cd686877e7d1d",
            "_model_name": "LeafletWidgetControlModel",
            "_view_module": "jupyter-leaflet",
            "_model_module_version": "^0.15.0",
            "max_height": null,
            "_view_count": null,
            "min_height": null,
            "_view_module_version": "^0.15.0",
            "max_width": null,
            "transparent_bg": false,
            "min_width": null,
            "position": "topleft",
            "_model_module": "jupyter-leaflet",
            "options": [
              "position",
              "transparent_bg"
            ]
          }
        },
        "6893e4a083394cad8acde835c49d4876": {
          "model_module": "jupyter-leaflet",
          "model_name": "LeafletZoomControlModel",
          "model_module_version": "^0.15.0",
          "state": {
            "_view_name": "LeafletZoomControlView",
            "zoom_in_title": "Zoom in",
            "_model_name": "LeafletZoomControlModel",
            "_view_module": "jupyter-leaflet",
            "_model_module_version": "^0.15.0",
            "_view_count": null,
            "_view_module_version": "^0.15.0",
            "zoom_out_title": "Zoom out",
            "position": "topleft",
            "zoom_in_text": "+",
            "_model_module": "jupyter-leaflet",
            "options": [
              "position",
              "zoom_in_text",
              "zoom_in_title",
              "zoom_out_text",
              "zoom_out_title"
            ],
            "zoom_out_text": "-"
          }
        },
        "4eb514946764467ca404d72b85867077": {
          "model_module": "jupyter-leaflet",
          "model_name": "LeafletScaleControlModel",
          "model_module_version": "^0.15.0",
          "state": {
            "_view_name": "LeafletScaleControlView",
            "_model_name": "LeafletScaleControlModel",
            "metric": true,
            "_view_module": "jupyter-leaflet",
            "_model_module_version": "^0.15.0",
            "max_width": 100,
            "_view_count": null,
            "_view_module_version": "^0.15.0",
            "update_when_idle": false,
            "position": "bottomleft",
            "imperial": true,
            "_model_module": "jupyter-leaflet",
            "options": [
              "imperial",
              "max_width",
              "metric",
              "position",
              "update_when_idle"
            ]
          }
        },
        "6e40b9bf6b0849a19af3e69deb1acee0": {
          "model_module": "jupyter-leaflet",
          "model_name": "LeafletFullScreenControlModel",
          "model_module_version": "^0.15.0",
          "state": {
            "_view_name": "LeafletFullScreenControlView",
            "_model_name": "LeafletFullScreenControlModel",
            "_view_module": "jupyter-leaflet",
            "_model_module_version": "^0.15.0",
            "_view_count": null,
            "_view_module_version": "^0.15.0",
            "position": "topleft",
            "_model_module": "jupyter-leaflet",
            "options": [
              "position"
            ]
          }
        },
        "0d2a648993a34f1f8520d126a700b496": {
          "model_module": "jupyter-leaflet",
          "model_name": "LeafletMeasureControlModel",
          "model_module_version": "^0.15.0",
          "state": {
            "_view_name": "LeafletMeasureControlView",
            "primary_area_unit": "acres",
            "capture_z_index": 10000,
            "secondary_area_unit": null,
            "primary_length_unit": "kilometers",
            "active_color": "orange",
            "_model_name": "LeafletMeasureControlModel",
            "popup_options": {
              "className": "leaflet-measure-resultpopup",
              "autoPanPadding": [
                10,
                10
              ]
            },
            "_view_module": "jupyter-leaflet",
            "_model_module_version": "^0.15.0",
            "_view_count": null,
            "_view_module_version": "^0.15.0",
            "secondary_length_unit": null,
            "completed_color": "#C8F2BE",
            "position": "bottomleft",
            "_model_module": "jupyter-leaflet",
            "options": [
              "active_color",
              "capture_z_index",
              "completed_color",
              "popup_options",
              "position",
              "primary_area_unit",
              "primary_length_unit",
              "secondary_area_unit",
              "secondary_length_unit"
            ],
            "_custom_units": {}
          }
        },
        "a4553c6640224861aacf4aa9dff61e22": {
          "model_module": "jupyter-leaflet",
          "model_name": "LeafletAttributionControlModel",
          "model_module_version": "^0.15.0",
          "state": {
            "_view_name": "LeafletAttributionControlView",
            "prefix": "ipyleaflet",
            "_model_name": "LeafletAttributionControlModel",
            "_view_module": "jupyter-leaflet",
            "_model_module_version": "^0.15.0",
            "_view_count": null,
            "_view_module_version": "^0.15.0",
            "position": "bottomright",
            "_model_module": "jupyter-leaflet",
            "options": [
              "position",
              "prefix"
            ]
          }
        },
        "58d6db97e96942ab9a18efce126cae58": {
          "model_module": "jupyter-leaflet",
          "model_name": "LeafletDrawControlModel",
          "model_module_version": "^0.15.0",
          "state": {
            "_view_name": "LeafletDrawControlView",
            "polygon": {
              "shapeOptions": {}
            },
            "circlemarker": {},
            "_model_name": "LeafletDrawControlModel",
            "edit": true,
            "data": [],
            "_view_module": "jupyter-leaflet",
            "_model_module_version": "^0.15.0",
            "remove": true,
            "_view_count": null,
            "_view_module_version": "^0.15.0",
            "polyline": {
              "shapeOptions": {}
            },
            "marker": {
              "shapeOptions": {
                "color": "#3388ff"
              }
            },
            "position": "topleft",
            "circle": {
              "shapeOptions": {
                "color": "#3388ff"
              }
            },
            "_model_module": "jupyter-leaflet",
            "options": [
              "position"
            ],
            "rectangle": {
              "shapeOptions": {
                "color": "#3388ff"
              }
            }
          }
        },
        "9cb4f60db1e641f3a658284a2009365b": {
          "model_module": "jupyter-leaflet",
          "model_name": "LeafletWidgetControlModel",
          "model_module_version": "^0.15.0",
          "state": {
            "_view_name": "LeafletWidgetControlView",
            "widget": "IPY_MODEL_cd2ab7c387dd45d5b134eed675ef92be",
            "_model_name": "LeafletWidgetControlModel",
            "_view_module": "jupyter-leaflet",
            "_model_module_version": "^0.15.0",
            "max_height": null,
            "_view_count": null,
            "min_height": null,
            "_view_module_version": "^0.15.0",
            "max_width": null,
            "transparent_bg": false,
            "min_width": null,
            "position": "topright",
            "_model_module": "jupyter-leaflet",
            "options": [
              "position",
              "transparent_bg"
            ]
          }
        },
        "34784a0a771f4029b21680cbc2ebc885": {
          "model_module": "jupyter-leaflet",
          "model_name": "LeafletMapStyleModel",
          "model_module_version": "^0.15.0",
          "state": {
            "_view_name": "StyleView",
            "_model_name": "LeafletMapStyleModel",
            "_view_module": "@jupyter-widgets/base",
            "_model_module_version": "^0.15.0",
            "_view_count": null,
            "cursor": "grab",
            "_view_module_version": "1.2.0",
            "_model_module": "jupyter-leaflet"
          }
        },
        "d611ecbab708476aabefb91b8390ee1b": {
          "model_module": "jupyter-leaflet",
          "model_name": "LeafletTileLayerModel",
          "model_module_version": "^0.15.0",
          "state": {
            "_view_name": "LeafletTileLayerView",
            "_view_module": "jupyter-leaflet",
            "max_zoom": 19,
            "_model_module_version": "^0.15.0",
            "_view_count": null,
            "visible": true,
            "min_zoom": 1,
            "tms": false,
            "_model_module": "jupyter-leaflet",
            "loading": false,
            "bottom": true,
            "no_wrap": false,
            "tile_size": 256,
            "popup_min_width": 50,
            "opacity": 1,
            "popup": null,
            "attribution": "&copy; <a href=\"https://www.openstreetmap.org/copyright\">OpenStreetMap</a> contributors",
            "_model_name": "LeafletTileLayerModel",
            "max_native_zoom": 18,
            "base": true,
            "min_native_zoom": 0,
            "show_loading": false,
            "name": "OpenStreetMap.Mapnik",
            "url": "https://a.tile.openstreetmap.org/{z}/{x}/{y}.png",
            "popup_max_height": null,
            "popup_max_width": 300,
            "detect_retina": false,
            "_view_module_version": "^0.15.0",
            "options": [
              "attribution",
              "detect_retina",
              "max_native_zoom",
              "max_zoom",
              "min_native_zoom",
              "min_zoom",
              "no_wrap",
              "tile_size",
              "tms"
            ]
          }
        },
        "e87958281fd24d2b84808b8e2dfcebdc": {
          "model_module": "jupyter-leaflet",
          "model_name": "LeafletTileLayerModel",
          "model_module_version": "^0.15.0",
          "state": {
            "_view_name": "LeafletTileLayerView",
            "_view_module": "jupyter-leaflet",
            "max_zoom": 24,
            "_model_module_version": "^0.15.0",
            "_view_count": null,
            "visible": true,
            "min_zoom": 0,
            "tms": false,
            "_model_module": "jupyter-leaflet",
            "loading": false,
            "bottom": true,
            "no_wrap": false,
            "tile_size": 256,
            "popup_min_width": 50,
            "opacity": 1,
            "popup": null,
            "attribution": "Google Earth Engine",
            "_model_name": "LeafletTileLayerModel",
            "max_native_zoom": 18,
            "base": false,
            "min_native_zoom": 0,
            "show_loading": false,
            "name": "2019-20 Wet season true color",
            "url": "https://earthengine.googleapis.com/v1alpha/projects/earthengine-legacy/maps/90acfa2938b39d77c1308261fc2b9f4f-d76e7b079c97b6860670bf55849369de/tiles/{z}/{x}/{y}",
            "popup_max_height": null,
            "popup_max_width": 300,
            "detect_retina": false,
            "_view_module_version": "^0.15.0",
            "options": [
              "attribution",
              "detect_retina",
              "max_native_zoom",
              "max_zoom",
              "min_native_zoom",
              "min_zoom",
              "no_wrap",
              "tile_size",
              "tms"
            ]
          }
        },
        "3922b2eca3324bbd8229195d2499b073": {
          "model_module": "jupyter-leaflet",
          "model_name": "LeafletMapStyleModel",
          "model_module_version": "^0.15.0",
          "state": {
            "_view_name": "StyleView",
            "_model_name": "LeafletMapStyleModel",
            "_view_module": "@jupyter-widgets/base",
            "_model_module_version": "^0.15.0",
            "_view_count": null,
            "cursor": "move",
            "_view_module_version": "1.2.0",
            "_model_module": "jupyter-leaflet"
          }
        },
        "17239f3a638c493eae7cd686877e7d1d": {
          "model_module": "@jupyter-widgets/controls",
          "model_name": "HBoxModel",
          "model_module_version": "1.5.0",
          "state": {
            "_view_name": "HBoxView",
            "_dom_classes": [],
            "_model_name": "HBoxModel",
            "_view_module": "@jupyter-widgets/controls",
            "_model_module_version": "1.5.0",
            "_view_count": null,
            "_view_module_version": "1.5.0",
            "box_style": "",
            "layout": "IPY_MODEL_6a6cd2f2a703435d9e2da47863316e80",
            "_model_module": "@jupyter-widgets/controls",
            "children": [
              "IPY_MODEL_f47abf33e4ba4473997e842d7a7ea1d9"
            ]
          }
        },
        "cd2ab7c387dd45d5b134eed675ef92be": {
          "model_module": "@jupyter-widgets/controls",
          "model_name": "VBoxModel",
          "model_module_version": "1.5.0",
          "state": {
            "_view_name": "VBoxView",
            "_dom_classes": [],
            "_model_name": "VBoxModel",
            "_view_module": "@jupyter-widgets/controls",
            "_model_module_version": "1.5.0",
            "_view_count": null,
            "_view_module_version": "1.5.0",
            "box_style": "",
            "layout": "IPY_MODEL_0eae74ad168a4c6784b9e908bae0df54",
            "_model_module": "@jupyter-widgets/controls",
            "children": [
              "IPY_MODEL_c862a74601f84834a6562d7a885d8664"
            ]
          }
        },
        "6a6cd2f2a703435d9e2da47863316e80": {
          "model_module": "@jupyter-widgets/base",
          "model_name": "LayoutModel",
          "model_module_version": "1.2.0",
          "state": {
            "_view_name": "LayoutView",
            "grid_template_rows": null,
            "right": null,
            "justify_content": null,
            "_view_module": "@jupyter-widgets/base",
            "overflow": null,
            "_model_module_version": "1.2.0",
            "_view_count": null,
            "flex_flow": null,
            "width": null,
            "min_width": null,
            "border": null,
            "align_items": null,
            "bottom": null,
            "_model_module": "@jupyter-widgets/base",
            "top": null,
            "grid_column": null,
            "overflow_y": null,
            "overflow_x": null,
            "grid_auto_flow": null,
            "grid_area": null,
            "grid_template_columns": null,
            "flex": null,
            "_model_name": "LayoutModel",
            "justify_items": null,
            "grid_row": null,
            "max_height": null,
            "align_content": null,
            "visibility": null,
            "align_self": null,
            "height": null,
            "min_height": null,
            "padding": null,
            "grid_auto_rows": null,
            "grid_gap": null,
            "max_width": null,
            "order": null,
            "_view_module_version": "1.2.0",
            "grid_template_areas": null,
            "object_position": null,
            "object_fit": null,
            "grid_auto_columns": null,
            "margin": null,
            "display": null,
            "left": null
          }
        },
        "f47abf33e4ba4473997e842d7a7ea1d9": {
          "model_module": "@jupyter-widgets/controls",
          "model_name": "ToggleButtonModel",
          "model_module_version": "1.5.0",
          "state": {
            "_view_name": "ToggleButtonView",
            "style": "IPY_MODEL_bee73a5684ee4fc08c4dac1c62741546",
            "_dom_classes": [],
            "description": "",
            "_model_name": "ToggleButtonModel",
            "button_style": "",
            "_view_module": "@jupyter-widgets/controls",
            "_model_module_version": "1.5.0",
            "tooltip": "Search location/data",
            "_view_count": null,
            "disabled": false,
            "_view_module_version": "1.5.0",
            "value": false,
            "description_tooltip": null,
            "_model_module": "@jupyter-widgets/controls",
            "layout": "IPY_MODEL_dfec4e45c21d499e9ed8cee102b43ae2",
            "icon": "globe"
          }
        },
        "0eae74ad168a4c6784b9e908bae0df54": {
          "model_module": "@jupyter-widgets/base",
          "model_name": "LayoutModel",
          "model_module_version": "1.2.0",
          "state": {
            "_view_name": "LayoutView",
            "grid_template_rows": null,
            "right": null,
            "justify_content": null,
            "_view_module": "@jupyter-widgets/base",
            "overflow": null,
            "_model_module_version": "1.2.0",
            "_view_count": null,
            "flex_flow": null,
            "width": null,
            "min_width": null,
            "border": null,
            "align_items": null,
            "bottom": null,
            "_model_module": "@jupyter-widgets/base",
            "top": null,
            "grid_column": null,
            "overflow_y": null,
            "overflow_x": null,
            "grid_auto_flow": null,
            "grid_area": null,
            "grid_template_columns": null,
            "flex": null,
            "_model_name": "LayoutModel",
            "justify_items": null,
            "grid_row": null,
            "max_height": null,
            "align_content": null,
            "visibility": null,
            "align_self": null,
            "height": null,
            "min_height": null,
            "padding": null,
            "grid_auto_rows": null,
            "grid_gap": null,
            "max_width": null,
            "order": null,
            "_view_module_version": "1.2.0",
            "grid_template_areas": null,
            "object_position": null,
            "object_fit": null,
            "grid_auto_columns": null,
            "margin": null,
            "display": null,
            "left": null
          }
        },
        "c862a74601f84834a6562d7a885d8664": {
          "model_module": "@jupyter-widgets/controls",
          "model_name": "ToggleButtonModel",
          "model_module_version": "1.5.0",
          "state": {
            "_view_name": "ToggleButtonView",
            "style": "IPY_MODEL_96cd09a95c694340a12038ec43c7fccf",
            "_dom_classes": [],
            "description": "",
            "_model_name": "ToggleButtonModel",
            "button_style": "",
            "_view_module": "@jupyter-widgets/controls",
            "_model_module_version": "1.5.0",
            "tooltip": "Toolbar",
            "_view_count": null,
            "disabled": false,
            "_view_module_version": "1.5.0",
            "value": false,
            "description_tooltip": null,
            "_model_module": "@jupyter-widgets/controls",
            "layout": "IPY_MODEL_292f57f798e347f784990b00ac617c64",
            "icon": "wrench"
          }
        },
        "bee73a5684ee4fc08c4dac1c62741546": {
          "model_module": "@jupyter-widgets/controls",
          "model_name": "DescriptionStyleModel",
          "model_module_version": "1.5.0",
          "state": {
            "_view_name": "StyleView",
            "_model_name": "DescriptionStyleModel",
            "description_width": "",
            "_view_module": "@jupyter-widgets/base",
            "_model_module_version": "1.5.0",
            "_view_count": null,
            "_view_module_version": "1.2.0",
            "_model_module": "@jupyter-widgets/controls"
          }
        },
        "dfec4e45c21d499e9ed8cee102b43ae2": {
          "model_module": "@jupyter-widgets/base",
          "model_name": "LayoutModel",
          "model_module_version": "1.2.0",
          "state": {
            "_view_name": "LayoutView",
            "grid_template_rows": null,
            "right": null,
            "justify_content": null,
            "_view_module": "@jupyter-widgets/base",
            "overflow": null,
            "_model_module_version": "1.2.0",
            "_view_count": null,
            "flex_flow": null,
            "width": "28px",
            "min_width": null,
            "border": null,
            "align_items": null,
            "bottom": null,
            "_model_module": "@jupyter-widgets/base",
            "top": null,
            "grid_column": null,
            "overflow_y": null,
            "overflow_x": null,
            "grid_auto_flow": null,
            "grid_area": null,
            "grid_template_columns": null,
            "flex": null,
            "_model_name": "LayoutModel",
            "justify_items": null,
            "grid_row": null,
            "max_height": null,
            "align_content": null,
            "visibility": null,
            "align_self": null,
            "height": "28px",
            "min_height": null,
            "padding": "0px 0px 0px 4px",
            "grid_auto_rows": null,
            "grid_gap": null,
            "max_width": null,
            "order": null,
            "_view_module_version": "1.2.0",
            "grid_template_areas": null,
            "object_position": null,
            "object_fit": null,
            "grid_auto_columns": null,
            "margin": null,
            "display": null,
            "left": null
          }
        },
        "96cd09a95c694340a12038ec43c7fccf": {
          "model_module": "@jupyter-widgets/controls",
          "model_name": "DescriptionStyleModel",
          "model_module_version": "1.5.0",
          "state": {
            "_view_name": "StyleView",
            "_model_name": "DescriptionStyleModel",
            "description_width": "",
            "_view_module": "@jupyter-widgets/base",
            "_model_module_version": "1.5.0",
            "_view_count": null,
            "_view_module_version": "1.2.0",
            "_model_module": "@jupyter-widgets/controls"
          }
        },
        "292f57f798e347f784990b00ac617c64": {
          "model_module": "@jupyter-widgets/base",
          "model_name": "LayoutModel",
          "model_module_version": "1.2.0",
          "state": {
            "_view_name": "LayoutView",
            "grid_template_rows": null,
            "right": null,
            "justify_content": null,
            "_view_module": "@jupyter-widgets/base",
            "overflow": null,
            "_model_module_version": "1.2.0",
            "_view_count": null,
            "flex_flow": null,
            "width": "28px",
            "min_width": null,
            "border": null,
            "align_items": null,
            "bottom": null,
            "_model_module": "@jupyter-widgets/base",
            "top": null,
            "grid_column": null,
            "overflow_y": null,
            "overflow_x": null,
            "grid_auto_flow": null,
            "grid_area": null,
            "grid_template_columns": null,
            "flex": null,
            "_model_name": "LayoutModel",
            "justify_items": null,
            "grid_row": null,
            "max_height": null,
            "align_content": null,
            "visibility": null,
            "align_self": null,
            "height": "28px",
            "min_height": null,
            "padding": "0px 0px 0px 4px",
            "grid_auto_rows": null,
            "grid_gap": null,
            "max_width": null,
            "order": null,
            "_view_module_version": "1.2.0",
            "grid_template_areas": null,
            "object_position": null,
            "object_fit": null,
            "grid_auto_columns": null,
            "margin": null,
            "display": null,
            "left": null
          }
        },
        "29844dfc26ec4ec7ab4596ec2330ad93": {
          "model_module": "jupyter-leaflet",
          "model_name": "LeafletMapModel",
          "model_module_version": "^0.15.0",
          "state": {
            "_view_name": "LeafletMapView",
            "keyboard_pan_offset": 80,
            "right": 129397,
            "tap": true,
            "_view_module": "jupyter-leaflet",
            "max_zoom": 24,
            "_model_module_version": "^0.15.0",
            "_view_count": null,
            "zoom_snap": 1,
            "min_zoom": 1,
            "bounce_at_zoom_limits": true,
            "keyboard": true,
            "north": 47.93014620109099,
            "scroll_wheel_zoom": true,
            "dragging": true,
            "_model_module": "jupyter-leaflet",
            "zoom_delta": 1,
            "close_popup_on_click": true,
            "fullscreen": false,
            "style": "IPY_MODEL_0c66927cb273419197b9764a2208328f",
            "layout": "IPY_MODEL_67c105887087401981125d385710ab48",
            "bottom": 91801,
            "prefer_canvas": false,
            "inertia_max_speed": 1500,
            "top": 91201,
            "box_zoom": true,
            "controls": [
              "IPY_MODEL_b7e794e334b84b8fa43acf38c3152863",
              "IPY_MODEL_2778af8231374028accb8c284e81137b",
              "IPY_MODEL_cd121857b1194deaa542e976fead350b",
              "IPY_MODEL_5ee955684b054f31a8ca28f4137c6020",
              "IPY_MODEL_39f4e9a89ba248649c80ca2cf980a0ab",
              "IPY_MODEL_1948b132293b453c841db5b7a1a7728f",
              "IPY_MODEL_e872b7808303411ba11c59bf57415e85",
              "IPY_MODEL_3e1450ebe8dd4383bb7b106bef031634"
            ],
            "default_style": "IPY_MODEL_0c66927cb273419197b9764a2208328f",
            "east": -2.3002624511718754,
            "double_click_zoom": true,
            "interpolation": "bilinear",
            "layers": [
              "IPY_MODEL_8bd2fb98d4934bdf9ee9d1a7b6d22a61",
              "IPY_MODEL_3bee06bf61674e8692737b6e3edd6501",
              "IPY_MODEL_3343730612f04407a954b3fc073ddab7",
              "IPY_MODEL_89f22782a8e14f468971d0776dbc4408"
            ],
            "dragging_style": "IPY_MODEL_eecb6f23335e4289b167598d2be45034",
            "_dom_classes": [],
            "zoom_animation_threshold": 4,
            "_model_name": "LeafletMapModel",
            "zoom_start": 12,
            "modisdate": "2022-01-26",
            "keyboard_zoom_offset": 1,
            "inertia_deceleration": 3000,
            "inertia": true,
            "crs": {
              "name": "EPSG3857",
              "custom": false
            },
            "center": [
              47.65336285044984,
              -2.7850341796875004
            ],
            "zoom": 10,
            "world_copy_jump": false,
            "_view_module_version": "^0.15.0",
            "window_url": "https://ydxwd8zff6-496ff2e9c6d22116-0-colab.googleusercontent.com/outputframe.html?vrz=colab-20220125-060059-RC00_424040750",
            "tap_tolerance": 15,
            "west": -3.2698059082031254,
            "touch_zoom": true,
            "options": [
              "bounce_at_zoom_limits",
              "box_zoom",
              "center",
              "close_popup_on_click",
              "double_click_zoom",
              "dragging",
              "fullscreen",
              "inertia",
              "inertia_deceleration",
              "inertia_max_speed",
              "interpolation",
              "keyboard",
              "keyboard_pan_offset",
              "keyboard_zoom_offset",
              "max_zoom",
              "min_zoom",
              "prefer_canvas",
              "scroll_wheel_zoom",
              "tap",
              "tap_tolerance",
              "touch_zoom",
              "world_copy_jump",
              "zoom",
              "zoom_animation_threshold",
              "zoom_delta",
              "zoom_snap",
              "zoom_start"
            ],
            "south": 47.37510465486693,
            "left": 128691
          }
        },
        "ac7f5a660f1249c5aaaecdb34f7127a1": {
          "model_module": "jupyter-leaflet",
          "model_name": "LeafletMapStyleModel",
          "model_module_version": "^0.15.0",
          "state": {
            "_view_name": "StyleView",
            "_model_name": "LeafletMapStyleModel",
            "_view_module": "@jupyter-widgets/base",
            "_model_module_version": "^0.15.0",
            "_view_count": null,
            "cursor": "grab",
            "_view_module_version": "1.2.0",
            "_model_module": "jupyter-leaflet"
          }
        },
        "67c105887087401981125d385710ab48": {
          "model_module": "@jupyter-widgets/base",
          "model_name": "LayoutModel",
          "model_module_version": "1.2.0",
          "state": {
            "_view_name": "LayoutView",
            "grid_template_rows": null,
            "right": null,
            "justify_content": null,
            "_view_module": "@jupyter-widgets/base",
            "overflow": null,
            "_model_module_version": "1.2.0",
            "_view_count": null,
            "flex_flow": null,
            "width": null,
            "min_width": null,
            "border": null,
            "align_items": null,
            "bottom": null,
            "_model_module": "@jupyter-widgets/base",
            "top": null,
            "grid_column": null,
            "overflow_y": null,
            "overflow_x": null,
            "grid_auto_flow": null,
            "grid_area": null,
            "grid_template_columns": null,
            "flex": null,
            "_model_name": "LayoutModel",
            "justify_items": null,
            "grid_row": null,
            "max_height": null,
            "align_content": null,
            "visibility": null,
            "align_self": null,
            "height": "600px",
            "min_height": null,
            "padding": null,
            "grid_auto_rows": null,
            "grid_gap": null,
            "max_width": null,
            "order": null,
            "_view_module_version": "1.2.0",
            "grid_template_areas": null,
            "object_position": null,
            "object_fit": null,
            "grid_auto_columns": null,
            "margin": null,
            "display": null,
            "left": null
          }
        },
        "b7e794e334b84b8fa43acf38c3152863": {
          "model_module": "jupyter-leaflet",
          "model_name": "LeafletWidgetControlModel",
          "model_module_version": "^0.15.0",
          "state": {
            "_view_name": "LeafletWidgetControlView",
            "widget": "IPY_MODEL_4f1ed64dd9574ff2983a071090680e69",
            "_model_name": "LeafletWidgetControlModel",
            "_view_module": "jupyter-leaflet",
            "_model_module_version": "^0.15.0",
            "max_height": null,
            "_view_count": null,
            "min_height": null,
            "_view_module_version": "^0.15.0",
            "max_width": null,
            "transparent_bg": false,
            "min_width": null,
            "position": "topleft",
            "_model_module": "jupyter-leaflet",
            "options": [
              "position",
              "transparent_bg"
            ]
          }
        },
        "2778af8231374028accb8c284e81137b": {
          "model_module": "jupyter-leaflet",
          "model_name": "LeafletZoomControlModel",
          "model_module_version": "^0.15.0",
          "state": {
            "_view_name": "LeafletZoomControlView",
            "zoom_in_title": "Zoom in",
            "_model_name": "LeafletZoomControlModel",
            "_view_module": "jupyter-leaflet",
            "_model_module_version": "^0.15.0",
            "_view_count": null,
            "_view_module_version": "^0.15.0",
            "zoom_out_title": "Zoom out",
            "position": "topleft",
            "zoom_in_text": "+",
            "_model_module": "jupyter-leaflet",
            "options": [
              "position",
              "zoom_in_text",
              "zoom_in_title",
              "zoom_out_text",
              "zoom_out_title"
            ],
            "zoom_out_text": "-"
          }
        },
        "cd121857b1194deaa542e976fead350b": {
          "model_module": "jupyter-leaflet",
          "model_name": "LeafletScaleControlModel",
          "model_module_version": "^0.15.0",
          "state": {
            "_view_name": "LeafletScaleControlView",
            "_model_name": "LeafletScaleControlModel",
            "metric": true,
            "_view_module": "jupyter-leaflet",
            "_model_module_version": "^0.15.0",
            "max_width": 100,
            "_view_count": null,
            "_view_module_version": "^0.15.0",
            "update_when_idle": false,
            "position": "bottomleft",
            "imperial": true,
            "_model_module": "jupyter-leaflet",
            "options": [
              "imperial",
              "max_width",
              "metric",
              "position",
              "update_when_idle"
            ]
          }
        },
        "5ee955684b054f31a8ca28f4137c6020": {
          "model_module": "jupyter-leaflet",
          "model_name": "LeafletFullScreenControlModel",
          "model_module_version": "^0.15.0",
          "state": {
            "_view_name": "LeafletFullScreenControlView",
            "_model_name": "LeafletFullScreenControlModel",
            "_view_module": "jupyter-leaflet",
            "_model_module_version": "^0.15.0",
            "_view_count": null,
            "_view_module_version": "^0.15.0",
            "position": "topleft",
            "_model_module": "jupyter-leaflet",
            "options": [
              "position"
            ]
          }
        },
        "39f4e9a89ba248649c80ca2cf980a0ab": {
          "model_module": "jupyter-leaflet",
          "model_name": "LeafletMeasureControlModel",
          "model_module_version": "^0.15.0",
          "state": {
            "_view_name": "LeafletMeasureControlView",
            "primary_area_unit": "acres",
            "capture_z_index": 10000,
            "secondary_area_unit": null,
            "primary_length_unit": "kilometers",
            "active_color": "orange",
            "_model_name": "LeafletMeasureControlModel",
            "popup_options": {
              "className": "leaflet-measure-resultpopup",
              "autoPanPadding": [
                10,
                10
              ]
            },
            "_view_module": "jupyter-leaflet",
            "_model_module_version": "^0.15.0",
            "_view_count": null,
            "_view_module_version": "^0.15.0",
            "secondary_length_unit": null,
            "completed_color": "#C8F2BE",
            "position": "bottomleft",
            "_model_module": "jupyter-leaflet",
            "options": [
              "active_color",
              "capture_z_index",
              "completed_color",
              "popup_options",
              "position",
              "primary_area_unit",
              "primary_length_unit",
              "secondary_area_unit",
              "secondary_length_unit"
            ],
            "_custom_units": {}
          }
        },
        "1948b132293b453c841db5b7a1a7728f": {
          "model_module": "jupyter-leaflet",
          "model_name": "LeafletAttributionControlModel",
          "model_module_version": "^0.15.0",
          "state": {
            "_view_name": "LeafletAttributionControlView",
            "prefix": "ipyleaflet",
            "_model_name": "LeafletAttributionControlModel",
            "_view_module": "jupyter-leaflet",
            "_model_module_version": "^0.15.0",
            "_view_count": null,
            "_view_module_version": "^0.15.0",
            "position": "bottomright",
            "_model_module": "jupyter-leaflet",
            "options": [
              "position",
              "prefix"
            ]
          }
        },
        "e872b7808303411ba11c59bf57415e85": {
          "model_module": "jupyter-leaflet",
          "model_name": "LeafletDrawControlModel",
          "model_module_version": "^0.15.0",
          "state": {
            "_view_name": "LeafletDrawControlView",
            "polygon": {
              "shapeOptions": {}
            },
            "circlemarker": {},
            "_model_name": "LeafletDrawControlModel",
            "edit": true,
            "data": [],
            "_view_module": "jupyter-leaflet",
            "_model_module_version": "^0.15.0",
            "remove": true,
            "_view_count": null,
            "_view_module_version": "^0.15.0",
            "polyline": {
              "shapeOptions": {}
            },
            "marker": {
              "shapeOptions": {
                "color": "#3388ff"
              }
            },
            "position": "topleft",
            "circle": {
              "shapeOptions": {
                "color": "#3388ff"
              }
            },
            "_model_module": "jupyter-leaflet",
            "options": [
              "position"
            ],
            "rectangle": {
              "shapeOptions": {
                "color": "#3388ff"
              }
            }
          }
        },
        "3e1450ebe8dd4383bb7b106bef031634": {
          "model_module": "jupyter-leaflet",
          "model_name": "LeafletWidgetControlModel",
          "model_module_version": "^0.15.0",
          "state": {
            "_view_name": "LeafletWidgetControlView",
            "widget": "IPY_MODEL_8127d245160e41b1be16e61541211575",
            "_model_name": "LeafletWidgetControlModel",
            "_view_module": "jupyter-leaflet",
            "_model_module_version": "^0.15.0",
            "max_height": null,
            "_view_count": null,
            "min_height": null,
            "_view_module_version": "^0.15.0",
            "max_width": null,
            "transparent_bg": false,
            "min_width": null,
            "position": "topright",
            "_model_module": "jupyter-leaflet",
            "options": [
              "position",
              "transparent_bg"
            ]
          }
        },
        "0c66927cb273419197b9764a2208328f": {
          "model_module": "jupyter-leaflet",
          "model_name": "LeafletMapStyleModel",
          "model_module_version": "^0.15.0",
          "state": {
            "_view_name": "StyleView",
            "_model_name": "LeafletMapStyleModel",
            "_view_module": "@jupyter-widgets/base",
            "_model_module_version": "^0.15.0",
            "_view_count": null,
            "cursor": "grab",
            "_view_module_version": "1.2.0",
            "_model_module": "jupyter-leaflet"
          }
        },
        "8bd2fb98d4934bdf9ee9d1a7b6d22a61": {
          "model_module": "jupyter-leaflet",
          "model_name": "LeafletTileLayerModel",
          "model_module_version": "^0.15.0",
          "state": {
            "_view_name": "LeafletTileLayerView",
            "_view_module": "jupyter-leaflet",
            "max_zoom": 19,
            "_model_module_version": "^0.15.0",
            "_view_count": null,
            "visible": true,
            "min_zoom": 1,
            "tms": false,
            "_model_module": "jupyter-leaflet",
            "loading": false,
            "bottom": true,
            "no_wrap": false,
            "tile_size": 256,
            "popup_min_width": 50,
            "opacity": 1,
            "popup": null,
            "attribution": "&copy; <a href=\"https://www.openstreetmap.org/copyright\">OpenStreetMap</a> contributors",
            "_model_name": "LeafletTileLayerModel",
            "max_native_zoom": 18,
            "base": true,
            "min_native_zoom": 0,
            "show_loading": false,
            "name": "OpenStreetMap.Mapnik",
            "url": "https://a.tile.openstreetmap.org/{z}/{x}/{y}.png",
            "popup_max_height": null,
            "popup_max_width": 300,
            "detect_retina": false,
            "_view_module_version": "^0.15.0",
            "options": [
              "attribution",
              "detect_retina",
              "max_native_zoom",
              "max_zoom",
              "min_native_zoom",
              "min_zoom",
              "no_wrap",
              "tile_size",
              "tms"
            ]
          }
        },
        "3343730612f04407a954b3fc073ddab7": {
          "model_module": "jupyter-leaflet",
          "model_name": "LeafletTileLayerModel",
          "model_module_version": "^0.15.0",
          "state": {
            "_view_name": "LeafletTileLayerView",
            "_view_module": "jupyter-leaflet",
            "max_zoom": 22,
            "_model_module_version": "^0.15.0",
            "_view_count": null,
            "visible": true,
            "min_zoom": 0,
            "tms": false,
            "_model_module": "jupyter-leaflet",
            "loading": false,
            "bottom": true,
            "no_wrap": false,
            "tile_size": 256,
            "popup_min_width": 50,
            "opacity": 1,
            "popup": null,
            "attribution": "Google",
            "_model_name": "LeafletTileLayerModel",
            "max_native_zoom": 18,
            "base": false,
            "min_native_zoom": 0,
            "show_loading": false,
            "name": "Google Satellite",
            "url": "https://mt1.google.com/vt/lyrs=s&x={x}&y={y}&z={z}",
            "popup_max_height": null,
            "popup_max_width": 300,
            "detect_retina": false,
            "_view_module_version": "^0.15.0",
            "options": [
              "attribution",
              "detect_retina",
              "max_native_zoom",
              "max_zoom",
              "min_native_zoom",
              "min_zoom",
              "no_wrap",
              "tile_size",
              "tms"
            ]
          }
        },
        "89f22782a8e14f468971d0776dbc4408": {
          "model_module": "jupyter-leaflet",
          "model_name": "LeafletTileLayerModel",
          "model_module_version": "^0.15.0",
          "state": {
            "_view_name": "LeafletTileLayerView",
            "_view_module": "jupyter-leaflet",
            "max_zoom": 24,
            "_model_module_version": "^0.15.0",
            "_view_count": null,
            "visible": true,
            "min_zoom": 0,
            "tms": false,
            "_model_module": "jupyter-leaflet",
            "loading": false,
            "bottom": true,
            "no_wrap": false,
            "tile_size": 256,
            "popup_min_width": 50,
            "opacity": 1,
            "popup": null,
            "attribution": "Google Earth Engine",
            "_model_name": "LeafletTileLayerModel",
            "max_native_zoom": 18,
            "base": false,
            "min_native_zoom": 0,
            "show_loading": false,
            "name": "sentinel 1",
            "url": "https://earthengine.googleapis.com/v1alpha/projects/earthengine-legacy/maps/e87bed3a0862ed649f0aa9cb95678331-20e737944d6f140ae9bc7e45a92cfde0/tiles/{z}/{x}/{y}",
            "popup_max_height": null,
            "popup_max_width": 300,
            "detect_retina": false,
            "_view_module_version": "^0.15.0",
            "options": [
              "attribution",
              "detect_retina",
              "max_native_zoom",
              "max_zoom",
              "min_native_zoom",
              "min_zoom",
              "no_wrap",
              "tile_size",
              "tms"
            ]
          }
        },
        "eecb6f23335e4289b167598d2be45034": {
          "model_module": "jupyter-leaflet",
          "model_name": "LeafletMapStyleModel",
          "model_module_version": "^0.15.0",
          "state": {
            "_view_name": "StyleView",
            "_model_name": "LeafletMapStyleModel",
            "_view_module": "@jupyter-widgets/base",
            "_model_module_version": "^0.15.0",
            "_view_count": null,
            "cursor": "move",
            "_view_module_version": "1.2.0",
            "_model_module": "jupyter-leaflet"
          }
        },
        "4f1ed64dd9574ff2983a071090680e69": {
          "model_module": "@jupyter-widgets/controls",
          "model_name": "HBoxModel",
          "model_module_version": "1.5.0",
          "state": {
            "_view_name": "HBoxView",
            "_dom_classes": [],
            "_model_name": "HBoxModel",
            "_view_module": "@jupyter-widgets/controls",
            "_model_module_version": "1.5.0",
            "_view_count": null,
            "_view_module_version": "1.5.0",
            "box_style": "",
            "layout": "IPY_MODEL_e7df843de1d647a8805958e91b24e1a4",
            "_model_module": "@jupyter-widgets/controls",
            "children": [
              "IPY_MODEL_27d8281661484e848543e0ece4e917ae"
            ]
          }
        },
        "8127d245160e41b1be16e61541211575": {
          "model_module": "@jupyter-widgets/controls",
          "model_name": "VBoxModel",
          "model_module_version": "1.5.0",
          "state": {
            "_view_name": "VBoxView",
            "_dom_classes": [],
            "_model_name": "VBoxModel",
            "_view_module": "@jupyter-widgets/controls",
            "_model_module_version": "1.5.0",
            "_view_count": null,
            "_view_module_version": "1.5.0",
            "box_style": "",
            "layout": "IPY_MODEL_f630b516ee454fa08dd37882df2e21c9",
            "_model_module": "@jupyter-widgets/controls",
            "children": [
              "IPY_MODEL_64093e03c917470099ae0338f9631458"
            ]
          }
        },
        "e7df843de1d647a8805958e91b24e1a4": {
          "model_module": "@jupyter-widgets/base",
          "model_name": "LayoutModel",
          "model_module_version": "1.2.0",
          "state": {
            "_view_name": "LayoutView",
            "grid_template_rows": null,
            "right": null,
            "justify_content": null,
            "_view_module": "@jupyter-widgets/base",
            "overflow": null,
            "_model_module_version": "1.2.0",
            "_view_count": null,
            "flex_flow": null,
            "width": null,
            "min_width": null,
            "border": null,
            "align_items": null,
            "bottom": null,
            "_model_module": "@jupyter-widgets/base",
            "top": null,
            "grid_column": null,
            "overflow_y": null,
            "overflow_x": null,
            "grid_auto_flow": null,
            "grid_area": null,
            "grid_template_columns": null,
            "flex": null,
            "_model_name": "LayoutModel",
            "justify_items": null,
            "grid_row": null,
            "max_height": null,
            "align_content": null,
            "visibility": null,
            "align_self": null,
            "height": null,
            "min_height": null,
            "padding": null,
            "grid_auto_rows": null,
            "grid_gap": null,
            "max_width": null,
            "order": null,
            "_view_module_version": "1.2.0",
            "grid_template_areas": null,
            "object_position": null,
            "object_fit": null,
            "grid_auto_columns": null,
            "margin": null,
            "display": null,
            "left": null
          }
        },
        "27d8281661484e848543e0ece4e917ae": {
          "model_module": "@jupyter-widgets/controls",
          "model_name": "ToggleButtonModel",
          "model_module_version": "1.5.0",
          "state": {
            "_view_name": "ToggleButtonView",
            "style": "IPY_MODEL_1954059651cb4f0c9d27b1d2bf21fdb6",
            "_dom_classes": [],
            "description": "",
            "_model_name": "ToggleButtonModel",
            "button_style": "",
            "_view_module": "@jupyter-widgets/controls",
            "_model_module_version": "1.5.0",
            "tooltip": "Search location/data",
            "_view_count": null,
            "disabled": false,
            "_view_module_version": "1.5.0",
            "value": false,
            "description_tooltip": null,
            "_model_module": "@jupyter-widgets/controls",
            "layout": "IPY_MODEL_d69cda85a6e346599567edeef756cf65",
            "icon": "globe"
          }
        },
        "f630b516ee454fa08dd37882df2e21c9": {
          "model_module": "@jupyter-widgets/base",
          "model_name": "LayoutModel",
          "model_module_version": "1.2.0",
          "state": {
            "_view_name": "LayoutView",
            "grid_template_rows": null,
            "right": null,
            "justify_content": null,
            "_view_module": "@jupyter-widgets/base",
            "overflow": null,
            "_model_module_version": "1.2.0",
            "_view_count": null,
            "flex_flow": null,
            "width": null,
            "min_width": null,
            "border": null,
            "align_items": null,
            "bottom": null,
            "_model_module": "@jupyter-widgets/base",
            "top": null,
            "grid_column": null,
            "overflow_y": null,
            "overflow_x": null,
            "grid_auto_flow": null,
            "grid_area": null,
            "grid_template_columns": null,
            "flex": null,
            "_model_name": "LayoutModel",
            "justify_items": null,
            "grid_row": null,
            "max_height": null,
            "align_content": null,
            "visibility": null,
            "align_self": null,
            "height": null,
            "min_height": null,
            "padding": null,
            "grid_auto_rows": null,
            "grid_gap": null,
            "max_width": null,
            "order": null,
            "_view_module_version": "1.2.0",
            "grid_template_areas": null,
            "object_position": null,
            "object_fit": null,
            "grid_auto_columns": null,
            "margin": null,
            "display": null,
            "left": null
          }
        },
        "64093e03c917470099ae0338f9631458": {
          "model_module": "@jupyter-widgets/controls",
          "model_name": "ToggleButtonModel",
          "model_module_version": "1.5.0",
          "state": {
            "_view_name": "ToggleButtonView",
            "style": "IPY_MODEL_96da21d90270412e94242b41f6f2770e",
            "_dom_classes": [],
            "description": "",
            "_model_name": "ToggleButtonModel",
            "button_style": "",
            "_view_module": "@jupyter-widgets/controls",
            "_model_module_version": "1.5.0",
            "tooltip": "Toolbar",
            "_view_count": null,
            "disabled": false,
            "_view_module_version": "1.5.0",
            "value": false,
            "description_tooltip": null,
            "_model_module": "@jupyter-widgets/controls",
            "layout": "IPY_MODEL_b6abfca227f441c5ba639bebe31d084a",
            "icon": "wrench"
          }
        },
        "1954059651cb4f0c9d27b1d2bf21fdb6": {
          "model_module": "@jupyter-widgets/controls",
          "model_name": "DescriptionStyleModel",
          "model_module_version": "1.5.0",
          "state": {
            "_view_name": "StyleView",
            "_model_name": "DescriptionStyleModel",
            "description_width": "",
            "_view_module": "@jupyter-widgets/base",
            "_model_module_version": "1.5.0",
            "_view_count": null,
            "_view_module_version": "1.2.0",
            "_model_module": "@jupyter-widgets/controls"
          }
        },
        "d69cda85a6e346599567edeef756cf65": {
          "model_module": "@jupyter-widgets/base",
          "model_name": "LayoutModel",
          "model_module_version": "1.2.0",
          "state": {
            "_view_name": "LayoutView",
            "grid_template_rows": null,
            "right": null,
            "justify_content": null,
            "_view_module": "@jupyter-widgets/base",
            "overflow": null,
            "_model_module_version": "1.2.0",
            "_view_count": null,
            "flex_flow": null,
            "width": "28px",
            "min_width": null,
            "border": null,
            "align_items": null,
            "bottom": null,
            "_model_module": "@jupyter-widgets/base",
            "top": null,
            "grid_column": null,
            "overflow_y": null,
            "overflow_x": null,
            "grid_auto_flow": null,
            "grid_area": null,
            "grid_template_columns": null,
            "flex": null,
            "_model_name": "LayoutModel",
            "justify_items": null,
            "grid_row": null,
            "max_height": null,
            "align_content": null,
            "visibility": null,
            "align_self": null,
            "height": "28px",
            "min_height": null,
            "padding": "0px 0px 0px 4px",
            "grid_auto_rows": null,
            "grid_gap": null,
            "max_width": null,
            "order": null,
            "_view_module_version": "1.2.0",
            "grid_template_areas": null,
            "object_position": null,
            "object_fit": null,
            "grid_auto_columns": null,
            "margin": null,
            "display": null,
            "left": null
          }
        },
        "96da21d90270412e94242b41f6f2770e": {
          "model_module": "@jupyter-widgets/controls",
          "model_name": "DescriptionStyleModel",
          "model_module_version": "1.5.0",
          "state": {
            "_view_name": "StyleView",
            "_model_name": "DescriptionStyleModel",
            "description_width": "",
            "_view_module": "@jupyter-widgets/base",
            "_model_module_version": "1.5.0",
            "_view_count": null,
            "_view_module_version": "1.2.0",
            "_model_module": "@jupyter-widgets/controls"
          }
        },
        "b6abfca227f441c5ba639bebe31d084a": {
          "model_module": "@jupyter-widgets/base",
          "model_name": "LayoutModel",
          "model_module_version": "1.2.0",
          "state": {
            "_view_name": "LayoutView",
            "grid_template_rows": null,
            "right": null,
            "justify_content": null,
            "_view_module": "@jupyter-widgets/base",
            "overflow": null,
            "_model_module_version": "1.2.0",
            "_view_count": null,
            "flex_flow": null,
            "width": "28px",
            "min_width": null,
            "border": null,
            "align_items": null,
            "bottom": null,
            "_model_module": "@jupyter-widgets/base",
            "top": null,
            "grid_column": null,
            "overflow_y": null,
            "overflow_x": null,
            "grid_auto_flow": null,
            "grid_area": null,
            "grid_template_columns": null,
            "flex": null,
            "_model_name": "LayoutModel",
            "justify_items": null,
            "grid_row": null,
            "max_height": null,
            "align_content": null,
            "visibility": null,
            "align_self": null,
            "height": "28px",
            "min_height": null,
            "padding": "0px 0px 0px 4px",
            "grid_auto_rows": null,
            "grid_gap": null,
            "max_width": null,
            "order": null,
            "_view_module_version": "1.2.0",
            "grid_template_areas": null,
            "object_position": null,
            "object_fit": null,
            "grid_auto_columns": null,
            "margin": null,
            "display": null,
            "left": null
          }
        },
        "0245e164c7504687b8a36bedfd20e182": {
          "model_module": "jupyter-leaflet",
          "model_name": "LeafletMapModel",
          "model_module_version": "^0.15.0",
          "state": {
            "_view_name": "LeafletMapView",
            "keyboard_pan_offset": 80,
            "right": 2801,
            "tap": true,
            "_view_module": "jupyter-leaflet",
            "max_zoom": 24,
            "_model_module_version": "^0.15.0",
            "_view_count": null,
            "zoom_snap": 1,
            "min_zoom": 1,
            "bounce_at_zoom_limits": true,
            "keyboard": true,
            "north": 56.607885465009254,
            "scroll_wheel_zoom": true,
            "dragging": true,
            "_model_module": "jupyter-leaflet",
            "zoom_delta": 1,
            "close_popup_on_click": true,
            "fullscreen": false,
            "style": "IPY_MODEL_c1cefdf74c4b4d0a845739ca64eeaf23",
            "layout": "IPY_MODEL_97ddd2cc707040219d0dcf3bd0ec259a",
            "bottom": 1863,
            "prefer_canvas": false,
            "inertia_max_speed": 1500,
            "top": 1263,
            "box_zoom": true,
            "controls": [
              "IPY_MODEL_ae9b952f38c844b297641eb2b0233be4",
              "IPY_MODEL_e2ae9a9d726645e2ac44819664796233",
              "IPY_MODEL_f05af585015b4f229d63542d5dff5e6a",
              "IPY_MODEL_4218464f87cc456aa96f3888d80fbfdd",
              "IPY_MODEL_d529ecc9ce774b0cb1e6fcade2465e95",
              "IPY_MODEL_4e9907c9c8904ec189eb1db780da0628",
              "IPY_MODEL_7f84a502592146c6833bfcde435f87c9",
              "IPY_MODEL_e8bb9c143d8f4e0b9f14487cc2835af4"
            ],
            "default_style": "IPY_MODEL_c1cefdf74c4b4d0a845739ca64eeaf23",
            "east": 66.18164062500001,
            "double_click_zoom": true,
            "interpolation": "bilinear",
            "layers": [
              "IPY_MODEL_45922d5bd988488d85f2a8b6123e4c89",
              "IPY_MODEL_3bee06bf61674e8692737b6e3edd6501",
              "IPY_MODEL_3343730612f04407a954b3fc073ddab7",
              "IPY_MODEL_321eb8b23f3f4a26ae8e36a572045e85"
            ],
            "dragging_style": "IPY_MODEL_0f577b61de4342caaea9a6310623811a",
            "_dom_classes": [],
            "zoom_animation_threshold": 4,
            "_model_name": "LeafletMapModel",
            "zoom_start": 12,
            "modisdate": "2022-01-26",
            "keyboard_zoom_offset": 1,
            "inertia_deceleration": 3000,
            "inertia": true,
            "crs": {
              "name": "EPSG3857",
              "custom": false
            },
            "center": [
              39.16414104768742,
              35.15625000000001
            ],
            "zoom": 4,
            "world_copy_jump": false,
            "_view_module_version": "^0.15.0",
            "window_url": "https://ydxwd8zff6-496ff2e9c6d22116-0-colab.googleusercontent.com/outputframe.html?vrz=colab-20220125-060059-RC00_424040750",
            "tap_tolerance": 15,
            "west": 4.130859375000001,
            "touch_zoom": true,
            "options": [
              "bounce_at_zoom_limits",
              "box_zoom",
              "center",
              "close_popup_on_click",
              "double_click_zoom",
              "dragging",
              "fullscreen",
              "inertia",
              "inertia_deceleration",
              "inertia_max_speed",
              "interpolation",
              "keyboard",
              "keyboard_pan_offset",
              "keyboard_zoom_offset",
              "max_zoom",
              "min_zoom",
              "prefer_canvas",
              "scroll_wheel_zoom",
              "tap",
              "tap_tolerance",
              "touch_zoom",
              "world_copy_jump",
              "zoom",
              "zoom_animation_threshold",
              "zoom_delta",
              "zoom_snap",
              "zoom_start"
            ],
            "south": 16.04581345375218,
            "left": 2095
          }
        },
        "533560c2950a41ff814704a18887c51a": {
          "model_module": "jupyter-leaflet",
          "model_name": "LeafletMapStyleModel",
          "model_module_version": "^0.15.0",
          "state": {
            "_view_name": "StyleView",
            "_model_name": "LeafletMapStyleModel",
            "_view_module": "@jupyter-widgets/base",
            "_model_module_version": "^0.15.0",
            "_view_count": null,
            "cursor": "grab",
            "_view_module_version": "1.2.0",
            "_model_module": "jupyter-leaflet"
          }
        },
        "97ddd2cc707040219d0dcf3bd0ec259a": {
          "model_module": "@jupyter-widgets/base",
          "model_name": "LayoutModel",
          "model_module_version": "1.2.0",
          "state": {
            "_view_name": "LayoutView",
            "grid_template_rows": null,
            "right": null,
            "justify_content": null,
            "_view_module": "@jupyter-widgets/base",
            "overflow": null,
            "_model_module_version": "1.2.0",
            "_view_count": null,
            "flex_flow": null,
            "width": null,
            "min_width": null,
            "border": null,
            "align_items": null,
            "bottom": null,
            "_model_module": "@jupyter-widgets/base",
            "top": null,
            "grid_column": null,
            "overflow_y": null,
            "overflow_x": null,
            "grid_auto_flow": null,
            "grid_area": null,
            "grid_template_columns": null,
            "flex": null,
            "_model_name": "LayoutModel",
            "justify_items": null,
            "grid_row": null,
            "max_height": null,
            "align_content": null,
            "visibility": null,
            "align_self": null,
            "height": "600px",
            "min_height": null,
            "padding": null,
            "grid_auto_rows": null,
            "grid_gap": null,
            "max_width": null,
            "order": null,
            "_view_module_version": "1.2.0",
            "grid_template_areas": null,
            "object_position": null,
            "object_fit": null,
            "grid_auto_columns": null,
            "margin": null,
            "display": null,
            "left": null
          }
        },
        "ae9b952f38c844b297641eb2b0233be4": {
          "model_module": "jupyter-leaflet",
          "model_name": "LeafletWidgetControlModel",
          "model_module_version": "^0.15.0",
          "state": {
            "_view_name": "LeafletWidgetControlView",
            "widget": "IPY_MODEL_322f65b2a408439996fa511a14ce1c8f",
            "_model_name": "LeafletWidgetControlModel",
            "_view_module": "jupyter-leaflet",
            "_model_module_version": "^0.15.0",
            "max_height": null,
            "_view_count": null,
            "min_height": null,
            "_view_module_version": "^0.15.0",
            "max_width": null,
            "transparent_bg": false,
            "min_width": null,
            "position": "topleft",
            "_model_module": "jupyter-leaflet",
            "options": [
              "position",
              "transparent_bg"
            ]
          }
        },
        "e2ae9a9d726645e2ac44819664796233": {
          "model_module": "jupyter-leaflet",
          "model_name": "LeafletZoomControlModel",
          "model_module_version": "^0.15.0",
          "state": {
            "_view_name": "LeafletZoomControlView",
            "zoom_in_title": "Zoom in",
            "_model_name": "LeafletZoomControlModel",
            "_view_module": "jupyter-leaflet",
            "_model_module_version": "^0.15.0",
            "_view_count": null,
            "_view_module_version": "^0.15.0",
            "zoom_out_title": "Zoom out",
            "position": "topleft",
            "zoom_in_text": "+",
            "_model_module": "jupyter-leaflet",
            "options": [
              "position",
              "zoom_in_text",
              "zoom_in_title",
              "zoom_out_text",
              "zoom_out_title"
            ],
            "zoom_out_text": "-"
          }
        },
        "f05af585015b4f229d63542d5dff5e6a": {
          "model_module": "jupyter-leaflet",
          "model_name": "LeafletScaleControlModel",
          "model_module_version": "^0.15.0",
          "state": {
            "_view_name": "LeafletScaleControlView",
            "_model_name": "LeafletScaleControlModel",
            "metric": true,
            "_view_module": "jupyter-leaflet",
            "_model_module_version": "^0.15.0",
            "max_width": 100,
            "_view_count": null,
            "_view_module_version": "^0.15.0",
            "update_when_idle": false,
            "position": "bottomleft",
            "imperial": true,
            "_model_module": "jupyter-leaflet",
            "options": [
              "imperial",
              "max_width",
              "metric",
              "position",
              "update_when_idle"
            ]
          }
        },
        "4218464f87cc456aa96f3888d80fbfdd": {
          "model_module": "jupyter-leaflet",
          "model_name": "LeafletFullScreenControlModel",
          "model_module_version": "^0.15.0",
          "state": {
            "_view_name": "LeafletFullScreenControlView",
            "_model_name": "LeafletFullScreenControlModel",
            "_view_module": "jupyter-leaflet",
            "_model_module_version": "^0.15.0",
            "_view_count": null,
            "_view_module_version": "^0.15.0",
            "position": "topleft",
            "_model_module": "jupyter-leaflet",
            "options": [
              "position"
            ]
          }
        },
        "d529ecc9ce774b0cb1e6fcade2465e95": {
          "model_module": "jupyter-leaflet",
          "model_name": "LeafletMeasureControlModel",
          "model_module_version": "^0.15.0",
          "state": {
            "_view_name": "LeafletMeasureControlView",
            "primary_area_unit": "acres",
            "capture_z_index": 10000,
            "secondary_area_unit": null,
            "primary_length_unit": "kilometers",
            "active_color": "orange",
            "_model_name": "LeafletMeasureControlModel",
            "popup_options": {
              "className": "leaflet-measure-resultpopup",
              "autoPanPadding": [
                10,
                10
              ]
            },
            "_view_module": "jupyter-leaflet",
            "_model_module_version": "^0.15.0",
            "_view_count": null,
            "_view_module_version": "^0.15.0",
            "secondary_length_unit": null,
            "completed_color": "#C8F2BE",
            "position": "bottomleft",
            "_model_module": "jupyter-leaflet",
            "options": [
              "active_color",
              "capture_z_index",
              "completed_color",
              "popup_options",
              "position",
              "primary_area_unit",
              "primary_length_unit",
              "secondary_area_unit",
              "secondary_length_unit"
            ],
            "_custom_units": {}
          }
        },
        "4e9907c9c8904ec189eb1db780da0628": {
          "model_module": "jupyter-leaflet",
          "model_name": "LeafletAttributionControlModel",
          "model_module_version": "^0.15.0",
          "state": {
            "_view_name": "LeafletAttributionControlView",
            "prefix": "ipyleaflet",
            "_model_name": "LeafletAttributionControlModel",
            "_view_module": "jupyter-leaflet",
            "_model_module_version": "^0.15.0",
            "_view_count": null,
            "_view_module_version": "^0.15.0",
            "position": "bottomright",
            "_model_module": "jupyter-leaflet",
            "options": [
              "position",
              "prefix"
            ]
          }
        },
        "7f84a502592146c6833bfcde435f87c9": {
          "model_module": "jupyter-leaflet",
          "model_name": "LeafletDrawControlModel",
          "model_module_version": "^0.15.0",
          "state": {
            "_view_name": "LeafletDrawControlView",
            "polygon": {
              "shapeOptions": {}
            },
            "circlemarker": {},
            "_model_name": "LeafletDrawControlModel",
            "edit": true,
            "data": [],
            "_view_module": "jupyter-leaflet",
            "_model_module_version": "^0.15.0",
            "remove": true,
            "_view_count": null,
            "_view_module_version": "^0.15.0",
            "polyline": {
              "shapeOptions": {}
            },
            "marker": {
              "shapeOptions": {
                "color": "#3388ff"
              }
            },
            "position": "topleft",
            "circle": {
              "shapeOptions": {
                "color": "#3388ff"
              }
            },
            "_model_module": "jupyter-leaflet",
            "options": [
              "position"
            ],
            "rectangle": {
              "shapeOptions": {
                "color": "#3388ff"
              }
            }
          }
        },
        "e8bb9c143d8f4e0b9f14487cc2835af4": {
          "model_module": "jupyter-leaflet",
          "model_name": "LeafletWidgetControlModel",
          "model_module_version": "^0.15.0",
          "state": {
            "_view_name": "LeafletWidgetControlView",
            "widget": "IPY_MODEL_851aaa3e39ad4db1b087d56f4585690d",
            "_model_name": "LeafletWidgetControlModel",
            "_view_module": "jupyter-leaflet",
            "_model_module_version": "^0.15.0",
            "max_height": null,
            "_view_count": null,
            "min_height": null,
            "_view_module_version": "^0.15.0",
            "max_width": null,
            "transparent_bg": false,
            "min_width": null,
            "position": "topright",
            "_model_module": "jupyter-leaflet",
            "options": [
              "position",
              "transparent_bg"
            ]
          }
        },
        "c1cefdf74c4b4d0a845739ca64eeaf23": {
          "model_module": "jupyter-leaflet",
          "model_name": "LeafletMapStyleModel",
          "model_module_version": "^0.15.0",
          "state": {
            "_view_name": "StyleView",
            "_model_name": "LeafletMapStyleModel",
            "_view_module": "@jupyter-widgets/base",
            "_model_module_version": "^0.15.0",
            "_view_count": null,
            "cursor": "grab",
            "_view_module_version": "1.2.0",
            "_model_module": "jupyter-leaflet"
          }
        },
        "45922d5bd988488d85f2a8b6123e4c89": {
          "model_module": "jupyter-leaflet",
          "model_name": "LeafletTileLayerModel",
          "model_module_version": "^0.15.0",
          "state": {
            "_view_name": "LeafletTileLayerView",
            "_view_module": "jupyter-leaflet",
            "max_zoom": 19,
            "_model_module_version": "^0.15.0",
            "_view_count": null,
            "visible": true,
            "min_zoom": 1,
            "tms": false,
            "_model_module": "jupyter-leaflet",
            "loading": false,
            "bottom": true,
            "no_wrap": false,
            "tile_size": 256,
            "popup_min_width": 50,
            "opacity": 1,
            "popup": null,
            "attribution": "&copy; <a href=\"https://www.openstreetmap.org/copyright\">OpenStreetMap</a> contributors",
            "_model_name": "LeafletTileLayerModel",
            "max_native_zoom": 18,
            "base": true,
            "min_native_zoom": 0,
            "show_loading": false,
            "name": "OpenStreetMap.Mapnik",
            "url": "https://a.tile.openstreetmap.org/{z}/{x}/{y}.png",
            "popup_max_height": null,
            "popup_max_width": 300,
            "detect_retina": false,
            "_view_module_version": "^0.15.0",
            "options": [
              "attribution",
              "detect_retina",
              "max_native_zoom",
              "max_zoom",
              "min_native_zoom",
              "min_zoom",
              "no_wrap",
              "tile_size",
              "tms"
            ]
          }
        },
        "321eb8b23f3f4a26ae8e36a572045e85": {
          "model_module": "jupyter-leaflet",
          "model_name": "LeafletTileLayerModel",
          "model_module_version": "^0.15.0",
          "state": {
            "_view_name": "LeafletTileLayerView",
            "_view_module": "jupyter-leaflet",
            "max_zoom": 24,
            "_model_module_version": "^0.15.0",
            "_view_count": null,
            "visible": true,
            "min_zoom": 0,
            "tms": false,
            "_model_module": "jupyter-leaflet",
            "loading": false,
            "bottom": true,
            "no_wrap": false,
            "tile_size": 256,
            "popup_min_width": 50,
            "opacity": 1,
            "popup": null,
            "attribution": "Google Earth Engine",
            "_model_name": "LeafletTileLayerModel",
            "max_native_zoom": 18,
            "base": false,
            "min_native_zoom": 0,
            "show_loading": false,
            "name": "Basins",
            "url": "https://earthengine.googleapis.com/v1alpha/projects/earthengine-legacy/maps/205c6770175520f833249712cdba04a4-d82ba118f316985c0ab2d2f709b7b3ba/tiles/{z}/{x}/{y}",
            "popup_max_height": null,
            "popup_max_width": 300,
            "detect_retina": false,
            "_view_module_version": "^0.15.0",
            "options": [
              "attribution",
              "detect_retina",
              "max_native_zoom",
              "max_zoom",
              "min_native_zoom",
              "min_zoom",
              "no_wrap",
              "tile_size",
              "tms"
            ]
          }
        },
        "0f577b61de4342caaea9a6310623811a": {
          "model_module": "jupyter-leaflet",
          "model_name": "LeafletMapStyleModel",
          "model_module_version": "^0.15.0",
          "state": {
            "_view_name": "StyleView",
            "_model_name": "LeafletMapStyleModel",
            "_view_module": "@jupyter-widgets/base",
            "_model_module_version": "^0.15.0",
            "_view_count": null,
            "cursor": "move",
            "_view_module_version": "1.2.0",
            "_model_module": "jupyter-leaflet"
          }
        },
        "322f65b2a408439996fa511a14ce1c8f": {
          "model_module": "@jupyter-widgets/controls",
          "model_name": "HBoxModel",
          "model_module_version": "1.5.0",
          "state": {
            "_view_name": "HBoxView",
            "_dom_classes": [],
            "_model_name": "HBoxModel",
            "_view_module": "@jupyter-widgets/controls",
            "_model_module_version": "1.5.0",
            "_view_count": null,
            "_view_module_version": "1.5.0",
            "box_style": "",
            "layout": "IPY_MODEL_6583573224d64084bac8bafbb3dfb1e7",
            "_model_module": "@jupyter-widgets/controls",
            "children": [
              "IPY_MODEL_cc3e210583b34a1f94b15f2a5510a2de"
            ]
          }
        },
        "851aaa3e39ad4db1b087d56f4585690d": {
          "model_module": "@jupyter-widgets/controls",
          "model_name": "VBoxModel",
          "model_module_version": "1.5.0",
          "state": {
            "_view_name": "VBoxView",
            "_dom_classes": [],
            "_model_name": "VBoxModel",
            "_view_module": "@jupyter-widgets/controls",
            "_model_module_version": "1.5.0",
            "_view_count": null,
            "_view_module_version": "1.5.0",
            "box_style": "",
            "layout": "IPY_MODEL_edd001e6bac6492084bfbe9a37137d55",
            "_model_module": "@jupyter-widgets/controls",
            "children": [
              "IPY_MODEL_74087db731bf47a2ae1d3d0fc90b5054"
            ]
          }
        },
        "6583573224d64084bac8bafbb3dfb1e7": {
          "model_module": "@jupyter-widgets/base",
          "model_name": "LayoutModel",
          "model_module_version": "1.2.0",
          "state": {
            "_view_name": "LayoutView",
            "grid_template_rows": null,
            "right": null,
            "justify_content": null,
            "_view_module": "@jupyter-widgets/base",
            "overflow": null,
            "_model_module_version": "1.2.0",
            "_view_count": null,
            "flex_flow": null,
            "width": null,
            "min_width": null,
            "border": null,
            "align_items": null,
            "bottom": null,
            "_model_module": "@jupyter-widgets/base",
            "top": null,
            "grid_column": null,
            "overflow_y": null,
            "overflow_x": null,
            "grid_auto_flow": null,
            "grid_area": null,
            "grid_template_columns": null,
            "flex": null,
            "_model_name": "LayoutModel",
            "justify_items": null,
            "grid_row": null,
            "max_height": null,
            "align_content": null,
            "visibility": null,
            "align_self": null,
            "height": null,
            "min_height": null,
            "padding": null,
            "grid_auto_rows": null,
            "grid_gap": null,
            "max_width": null,
            "order": null,
            "_view_module_version": "1.2.0",
            "grid_template_areas": null,
            "object_position": null,
            "object_fit": null,
            "grid_auto_columns": null,
            "margin": null,
            "display": null,
            "left": null
          }
        },
        "cc3e210583b34a1f94b15f2a5510a2de": {
          "model_module": "@jupyter-widgets/controls",
          "model_name": "ToggleButtonModel",
          "model_module_version": "1.5.0",
          "state": {
            "_view_name": "ToggleButtonView",
            "style": "IPY_MODEL_1c06baa8d7614f6eb0752db774a82d38",
            "_dom_classes": [],
            "description": "",
            "_model_name": "ToggleButtonModel",
            "button_style": "",
            "_view_module": "@jupyter-widgets/controls",
            "_model_module_version": "1.5.0",
            "tooltip": "Search location/data",
            "_view_count": null,
            "disabled": false,
            "_view_module_version": "1.5.0",
            "value": false,
            "description_tooltip": null,
            "_model_module": "@jupyter-widgets/controls",
            "layout": "IPY_MODEL_26efbe6ec1fe46a6ac798d3ea568fa47",
            "icon": "globe"
          }
        },
        "edd001e6bac6492084bfbe9a37137d55": {
          "model_module": "@jupyter-widgets/base",
          "model_name": "LayoutModel",
          "model_module_version": "1.2.0",
          "state": {
            "_view_name": "LayoutView",
            "grid_template_rows": null,
            "right": null,
            "justify_content": null,
            "_view_module": "@jupyter-widgets/base",
            "overflow": null,
            "_model_module_version": "1.2.0",
            "_view_count": null,
            "flex_flow": null,
            "width": null,
            "min_width": null,
            "border": null,
            "align_items": null,
            "bottom": null,
            "_model_module": "@jupyter-widgets/base",
            "top": null,
            "grid_column": null,
            "overflow_y": null,
            "overflow_x": null,
            "grid_auto_flow": null,
            "grid_area": null,
            "grid_template_columns": null,
            "flex": null,
            "_model_name": "LayoutModel",
            "justify_items": null,
            "grid_row": null,
            "max_height": null,
            "align_content": null,
            "visibility": null,
            "align_self": null,
            "height": null,
            "min_height": null,
            "padding": null,
            "grid_auto_rows": null,
            "grid_gap": null,
            "max_width": null,
            "order": null,
            "_view_module_version": "1.2.0",
            "grid_template_areas": null,
            "object_position": null,
            "object_fit": null,
            "grid_auto_columns": null,
            "margin": null,
            "display": null,
            "left": null
          }
        },
        "74087db731bf47a2ae1d3d0fc90b5054": {
          "model_module": "@jupyter-widgets/controls",
          "model_name": "ToggleButtonModel",
          "model_module_version": "1.5.0",
          "state": {
            "_view_name": "ToggleButtonView",
            "style": "IPY_MODEL_1f74ab469ea847a7830d2c674d5d513d",
            "_dom_classes": [],
            "description": "",
            "_model_name": "ToggleButtonModel",
            "button_style": "",
            "_view_module": "@jupyter-widgets/controls",
            "_model_module_version": "1.5.0",
            "tooltip": "Toolbar",
            "_view_count": null,
            "disabled": false,
            "_view_module_version": "1.5.0",
            "value": false,
            "description_tooltip": null,
            "_model_module": "@jupyter-widgets/controls",
            "layout": "IPY_MODEL_be8889bd156b45b0a2c13659522c7bd2",
            "icon": "wrench"
          }
        },
        "1c06baa8d7614f6eb0752db774a82d38": {
          "model_module": "@jupyter-widgets/controls",
          "model_name": "DescriptionStyleModel",
          "model_module_version": "1.5.0",
          "state": {
            "_view_name": "StyleView",
            "_model_name": "DescriptionStyleModel",
            "description_width": "",
            "_view_module": "@jupyter-widgets/base",
            "_model_module_version": "1.5.0",
            "_view_count": null,
            "_view_module_version": "1.2.0",
            "_model_module": "@jupyter-widgets/controls"
          }
        },
        "26efbe6ec1fe46a6ac798d3ea568fa47": {
          "model_module": "@jupyter-widgets/base",
          "model_name": "LayoutModel",
          "model_module_version": "1.2.0",
          "state": {
            "_view_name": "LayoutView",
            "grid_template_rows": null,
            "right": null,
            "justify_content": null,
            "_view_module": "@jupyter-widgets/base",
            "overflow": null,
            "_model_module_version": "1.2.0",
            "_view_count": null,
            "flex_flow": null,
            "width": "28px",
            "min_width": null,
            "border": null,
            "align_items": null,
            "bottom": null,
            "_model_module": "@jupyter-widgets/base",
            "top": null,
            "grid_column": null,
            "overflow_y": null,
            "overflow_x": null,
            "grid_auto_flow": null,
            "grid_area": null,
            "grid_template_columns": null,
            "flex": null,
            "_model_name": "LayoutModel",
            "justify_items": null,
            "grid_row": null,
            "max_height": null,
            "align_content": null,
            "visibility": null,
            "align_self": null,
            "height": "28px",
            "min_height": null,
            "padding": "0px 0px 0px 4px",
            "grid_auto_rows": null,
            "grid_gap": null,
            "max_width": null,
            "order": null,
            "_view_module_version": "1.2.0",
            "grid_template_areas": null,
            "object_position": null,
            "object_fit": null,
            "grid_auto_columns": null,
            "margin": null,
            "display": null,
            "left": null
          }
        },
        "1f74ab469ea847a7830d2c674d5d513d": {
          "model_module": "@jupyter-widgets/controls",
          "model_name": "DescriptionStyleModel",
          "model_module_version": "1.5.0",
          "state": {
            "_view_name": "StyleView",
            "_model_name": "DescriptionStyleModel",
            "description_width": "",
            "_view_module": "@jupyter-widgets/base",
            "_model_module_version": "1.5.0",
            "_view_count": null,
            "_view_module_version": "1.2.0",
            "_model_module": "@jupyter-widgets/controls"
          }
        },
        "be8889bd156b45b0a2c13659522c7bd2": {
          "model_module": "@jupyter-widgets/base",
          "model_name": "LayoutModel",
          "model_module_version": "1.2.0",
          "state": {
            "_view_name": "LayoutView",
            "grid_template_rows": null,
            "right": null,
            "justify_content": null,
            "_view_module": "@jupyter-widgets/base",
            "overflow": null,
            "_model_module_version": "1.2.0",
            "_view_count": null,
            "flex_flow": null,
            "width": "28px",
            "min_width": null,
            "border": null,
            "align_items": null,
            "bottom": null,
            "_model_module": "@jupyter-widgets/base",
            "top": null,
            "grid_column": null,
            "overflow_y": null,
            "overflow_x": null,
            "grid_auto_flow": null,
            "grid_area": null,
            "grid_template_columns": null,
            "flex": null,
            "_model_name": "LayoutModel",
            "justify_items": null,
            "grid_row": null,
            "max_height": null,
            "align_content": null,
            "visibility": null,
            "align_self": null,
            "height": "28px",
            "min_height": null,
            "padding": "0px 0px 0px 4px",
            "grid_auto_rows": null,
            "grid_gap": null,
            "max_width": null,
            "order": null,
            "_view_module_version": "1.2.0",
            "grid_template_areas": null,
            "object_position": null,
            "object_fit": null,
            "grid_auto_columns": null,
            "margin": null,
            "display": null,
            "left": null
          }
        },
        "6b8b2546253f41b8a319ca733bc5d54c": {
          "model_module": "jupyter-leaflet",
          "model_name": "LeafletMapModel",
          "model_module_version": "^0.15.0",
          "state": {
            "_view_name": "LeafletMapView",
            "keyboard_pan_offset": 80,
            "right": 152948,
            "tap": true,
            "_view_module": "jupyter-leaflet",
            "max_zoom": 24,
            "_model_module_version": "^0.15.0",
            "_view_count": null,
            "zoom_snap": 1,
            "min_zoom": 1,
            "bounce_at_zoom_limits": true,
            "keyboard": true,
            "north": 40.96019684181136,
            "scroll_wheel_zoom": true,
            "dragging": true,
            "_model_module": "jupyter-leaflet",
            "zoom_delta": 1,
            "close_popup_on_click": true,
            "fullscreen": false,
            "style": "IPY_MODEL_8e4339ff13104ded8e73c760d6d9f57d",
            "layout": "IPY_MODEL_0c4a1c1e1b3e4388a87be01026d1ae12",
            "bottom": 98923,
            "prefer_canvas": false,
            "inertia_max_speed": 1500,
            "top": 98323,
            "box_zoom": true,
            "controls": [
              "IPY_MODEL_aec8b27b9aed47dcb16fb6e7967c7c7d",
              "IPY_MODEL_45049a75e0e84a0fbdd911d488f81545",
              "IPY_MODEL_53b0a22599b34af59bcdbdebf3b1075c",
              "IPY_MODEL_61619766948149aa9b8ea445c1cb2f18",
              "IPY_MODEL_1247d56314524b1da2ba227ae5ba801d",
              "IPY_MODEL_04fd74daf092420f954636c65550ffdb",
              "IPY_MODEL_947a7ddc695a497392e85068e789df4d",
              "IPY_MODEL_e93a8b3b6d2d490d92b20c8fdb015909"
            ],
            "default_style": "IPY_MODEL_8e4339ff13104ded8e73c760d6d9f57d",
            "east": 30.042114257812504,
            "double_click_zoom": true,
            "interpolation": "bilinear",
            "layers": [
              "IPY_MODEL_d7568b967c194760876bd5429589181e",
              "IPY_MODEL_3bee06bf61674e8692737b6e3edd6501",
              "IPY_MODEL_3343730612f04407a954b3fc073ddab7",
              "IPY_MODEL_15a2d238f1684002bb16205c68b17441"
            ],
            "dragging_style": "IPY_MODEL_4aee64379fb7400184d85950e80af268",
            "_dom_classes": [],
            "zoom_animation_threshold": 4,
            "_model_name": "LeafletMapModel",
            "zoom_start": 12,
            "modisdate": "2022-01-26",
            "keyboard_zoom_offset": 1,
            "inertia_deceleration": 3000,
            "inertia": true,
            "crs": {
              "name": "EPSG3857",
              "custom": false
            },
            "center": [
              40.64834551665461,
              29.55734252929688
            ],
            "zoom": 10,
            "world_copy_jump": false,
            "_view_module_version": "^0.15.0",
            "window_url": "https://ydxwd8zff6-496ff2e9c6d22116-0-colab.googleusercontent.com/outputframe.html?vrz=colab-20220125-060059-RC00_424040750",
            "tap_tolerance": 15,
            "west": 29.072570800781254,
            "touch_zoom": true,
            "options": [
              "bounce_at_zoom_limits",
              "box_zoom",
              "center",
              "close_popup_on_click",
              "double_click_zoom",
              "dragging",
              "fullscreen",
              "inertia",
              "inertia_deceleration",
              "inertia_max_speed",
              "interpolation",
              "keyboard",
              "keyboard_pan_offset",
              "keyboard_zoom_offset",
              "max_zoom",
              "min_zoom",
              "prefer_canvas",
              "scroll_wheel_zoom",
              "tap",
              "tap_tolerance",
              "touch_zoom",
              "world_copy_jump",
              "zoom",
              "zoom_animation_threshold",
              "zoom_delta",
              "zoom_snap",
              "zoom_start"
            ],
            "south": 40.33503005827232,
            "left": 152242
          }
        },
        "c9edde2b23b540ecb10c93737fbe9629": {
          "model_module": "jupyter-leaflet",
          "model_name": "LeafletMapStyleModel",
          "model_module_version": "^0.15.0",
          "state": {
            "_view_name": "StyleView",
            "_model_name": "LeafletMapStyleModel",
            "_view_module": "@jupyter-widgets/base",
            "_model_module_version": "^0.15.0",
            "_view_count": null,
            "cursor": "grab",
            "_view_module_version": "1.2.0",
            "_model_module": "jupyter-leaflet"
          }
        },
        "0c4a1c1e1b3e4388a87be01026d1ae12": {
          "model_module": "@jupyter-widgets/base",
          "model_name": "LayoutModel",
          "model_module_version": "1.2.0",
          "state": {
            "_view_name": "LayoutView",
            "grid_template_rows": null,
            "right": null,
            "justify_content": null,
            "_view_module": "@jupyter-widgets/base",
            "overflow": null,
            "_model_module_version": "1.2.0",
            "_view_count": null,
            "flex_flow": null,
            "width": null,
            "min_width": null,
            "border": null,
            "align_items": null,
            "bottom": null,
            "_model_module": "@jupyter-widgets/base",
            "top": null,
            "grid_column": null,
            "overflow_y": null,
            "overflow_x": null,
            "grid_auto_flow": null,
            "grid_area": null,
            "grid_template_columns": null,
            "flex": null,
            "_model_name": "LayoutModel",
            "justify_items": null,
            "grid_row": null,
            "max_height": null,
            "align_content": null,
            "visibility": null,
            "align_self": null,
            "height": "600px",
            "min_height": null,
            "padding": null,
            "grid_auto_rows": null,
            "grid_gap": null,
            "max_width": null,
            "order": null,
            "_view_module_version": "1.2.0",
            "grid_template_areas": null,
            "object_position": null,
            "object_fit": null,
            "grid_auto_columns": null,
            "margin": null,
            "display": null,
            "left": null
          }
        },
        "aec8b27b9aed47dcb16fb6e7967c7c7d": {
          "model_module": "jupyter-leaflet",
          "model_name": "LeafletWidgetControlModel",
          "model_module_version": "^0.15.0",
          "state": {
            "_view_name": "LeafletWidgetControlView",
            "widget": "IPY_MODEL_8b33e1713aa54d5f80dde6939f6b1c06",
            "_model_name": "LeafletWidgetControlModel",
            "_view_module": "jupyter-leaflet",
            "_model_module_version": "^0.15.0",
            "max_height": null,
            "_view_count": null,
            "min_height": null,
            "_view_module_version": "^0.15.0",
            "max_width": null,
            "transparent_bg": false,
            "min_width": null,
            "position": "topleft",
            "_model_module": "jupyter-leaflet",
            "options": [
              "position",
              "transparent_bg"
            ]
          }
        },
        "45049a75e0e84a0fbdd911d488f81545": {
          "model_module": "jupyter-leaflet",
          "model_name": "LeafletZoomControlModel",
          "model_module_version": "^0.15.0",
          "state": {
            "_view_name": "LeafletZoomControlView",
            "zoom_in_title": "Zoom in",
            "_model_name": "LeafletZoomControlModel",
            "_view_module": "jupyter-leaflet",
            "_model_module_version": "^0.15.0",
            "_view_count": null,
            "_view_module_version": "^0.15.0",
            "zoom_out_title": "Zoom out",
            "position": "topleft",
            "zoom_in_text": "+",
            "_model_module": "jupyter-leaflet",
            "options": [
              "position",
              "zoom_in_text",
              "zoom_in_title",
              "zoom_out_text",
              "zoom_out_title"
            ],
            "zoom_out_text": "-"
          }
        },
        "53b0a22599b34af59bcdbdebf3b1075c": {
          "model_module": "jupyter-leaflet",
          "model_name": "LeafletScaleControlModel",
          "model_module_version": "^0.15.0",
          "state": {
            "_view_name": "LeafletScaleControlView",
            "_model_name": "LeafletScaleControlModel",
            "metric": true,
            "_view_module": "jupyter-leaflet",
            "_model_module_version": "^0.15.0",
            "max_width": 100,
            "_view_count": null,
            "_view_module_version": "^0.15.0",
            "update_when_idle": false,
            "position": "bottomleft",
            "imperial": true,
            "_model_module": "jupyter-leaflet",
            "options": [
              "imperial",
              "max_width",
              "metric",
              "position",
              "update_when_idle"
            ]
          }
        },
        "61619766948149aa9b8ea445c1cb2f18": {
          "model_module": "jupyter-leaflet",
          "model_name": "LeafletFullScreenControlModel",
          "model_module_version": "^0.15.0",
          "state": {
            "_view_name": "LeafletFullScreenControlView",
            "_model_name": "LeafletFullScreenControlModel",
            "_view_module": "jupyter-leaflet",
            "_model_module_version": "^0.15.0",
            "_view_count": null,
            "_view_module_version": "^0.15.0",
            "position": "topleft",
            "_model_module": "jupyter-leaflet",
            "options": [
              "position"
            ]
          }
        },
        "1247d56314524b1da2ba227ae5ba801d": {
          "model_module": "jupyter-leaflet",
          "model_name": "LeafletMeasureControlModel",
          "model_module_version": "^0.15.0",
          "state": {
            "_view_name": "LeafletMeasureControlView",
            "primary_area_unit": "acres",
            "capture_z_index": 10000,
            "secondary_area_unit": null,
            "primary_length_unit": "kilometers",
            "active_color": "orange",
            "_model_name": "LeafletMeasureControlModel",
            "popup_options": {
              "className": "leaflet-measure-resultpopup",
              "autoPanPadding": [
                10,
                10
              ]
            },
            "_view_module": "jupyter-leaflet",
            "_model_module_version": "^0.15.0",
            "_view_count": null,
            "_view_module_version": "^0.15.0",
            "secondary_length_unit": null,
            "completed_color": "#C8F2BE",
            "position": "bottomleft",
            "_model_module": "jupyter-leaflet",
            "options": [
              "active_color",
              "capture_z_index",
              "completed_color",
              "popup_options",
              "position",
              "primary_area_unit",
              "primary_length_unit",
              "secondary_area_unit",
              "secondary_length_unit"
            ],
            "_custom_units": {}
          }
        },
        "04fd74daf092420f954636c65550ffdb": {
          "model_module": "jupyter-leaflet",
          "model_name": "LeafletAttributionControlModel",
          "model_module_version": "^0.15.0",
          "state": {
            "_view_name": "LeafletAttributionControlView",
            "prefix": "ipyleaflet",
            "_model_name": "LeafletAttributionControlModel",
            "_view_module": "jupyter-leaflet",
            "_model_module_version": "^0.15.0",
            "_view_count": null,
            "_view_module_version": "^0.15.0",
            "position": "bottomright",
            "_model_module": "jupyter-leaflet",
            "options": [
              "position",
              "prefix"
            ]
          }
        },
        "947a7ddc695a497392e85068e789df4d": {
          "model_module": "jupyter-leaflet",
          "model_name": "LeafletDrawControlModel",
          "model_module_version": "^0.15.0",
          "state": {
            "_view_name": "LeafletDrawControlView",
            "polygon": {
              "shapeOptions": {}
            },
            "circlemarker": {},
            "_model_name": "LeafletDrawControlModel",
            "edit": true,
            "data": [],
            "_view_module": "jupyter-leaflet",
            "_model_module_version": "^0.15.0",
            "remove": true,
            "_view_count": null,
            "_view_module_version": "^0.15.0",
            "polyline": {
              "shapeOptions": {}
            },
            "marker": {
              "shapeOptions": {
                "color": "#3388ff"
              }
            },
            "position": "topleft",
            "circle": {
              "shapeOptions": {
                "color": "#3388ff"
              }
            },
            "_model_module": "jupyter-leaflet",
            "options": [
              "position"
            ],
            "rectangle": {
              "shapeOptions": {
                "color": "#3388ff"
              }
            }
          }
        },
        "e93a8b3b6d2d490d92b20c8fdb015909": {
          "model_module": "jupyter-leaflet",
          "model_name": "LeafletWidgetControlModel",
          "model_module_version": "^0.15.0",
          "state": {
            "_view_name": "LeafletWidgetControlView",
            "widget": "IPY_MODEL_35f44f0b1e464e108f4c890d19092586",
            "_model_name": "LeafletWidgetControlModel",
            "_view_module": "jupyter-leaflet",
            "_model_module_version": "^0.15.0",
            "max_height": null,
            "_view_count": null,
            "min_height": null,
            "_view_module_version": "^0.15.0",
            "max_width": null,
            "transparent_bg": false,
            "min_width": null,
            "position": "topright",
            "_model_module": "jupyter-leaflet",
            "options": [
              "position",
              "transparent_bg"
            ]
          }
        },
        "8e4339ff13104ded8e73c760d6d9f57d": {
          "model_module": "jupyter-leaflet",
          "model_name": "LeafletMapStyleModel",
          "model_module_version": "^0.15.0",
          "state": {
            "_view_name": "StyleView",
            "_model_name": "LeafletMapStyleModel",
            "_view_module": "@jupyter-widgets/base",
            "_model_module_version": "^0.15.0",
            "_view_count": null,
            "cursor": "grab",
            "_view_module_version": "1.2.0",
            "_model_module": "jupyter-leaflet"
          }
        },
        "d7568b967c194760876bd5429589181e": {
          "model_module": "jupyter-leaflet",
          "model_name": "LeafletTileLayerModel",
          "model_module_version": "^0.15.0",
          "state": {
            "_view_name": "LeafletTileLayerView",
            "_view_module": "jupyter-leaflet",
            "max_zoom": 19,
            "_model_module_version": "^0.15.0",
            "_view_count": null,
            "visible": true,
            "min_zoom": 1,
            "tms": false,
            "_model_module": "jupyter-leaflet",
            "loading": false,
            "bottom": true,
            "no_wrap": false,
            "tile_size": 256,
            "popup_min_width": 50,
            "opacity": 1,
            "popup": null,
            "attribution": "&copy; <a href=\"https://www.openstreetmap.org/copyright\">OpenStreetMap</a> contributors",
            "_model_name": "LeafletTileLayerModel",
            "max_native_zoom": 18,
            "base": true,
            "min_native_zoom": 0,
            "show_loading": false,
            "name": "OpenStreetMap.Mapnik",
            "url": "https://a.tile.openstreetmap.org/{z}/{x}/{y}.png",
            "popup_max_height": null,
            "popup_max_width": 300,
            "detect_retina": false,
            "_view_module_version": "^0.15.0",
            "options": [
              "attribution",
              "detect_retina",
              "max_native_zoom",
              "max_zoom",
              "min_native_zoom",
              "min_zoom",
              "no_wrap",
              "tile_size",
              "tms"
            ]
          }
        },
        "15a2d238f1684002bb16205c68b17441": {
          "model_module": "jupyter-leaflet",
          "model_name": "LeafletTileLayerModel",
          "model_module_version": "^0.15.0",
          "state": {
            "_view_name": "LeafletTileLayerView",
            "_view_module": "jupyter-leaflet",
            "max_zoom": 24,
            "_model_module_version": "^0.15.0",
            "_view_count": null,
            "visible": true,
            "min_zoom": 0,
            "tms": false,
            "_model_module": "jupyter-leaflet",
            "loading": false,
            "bottom": true,
            "no_wrap": false,
            "tile_size": 256,
            "popup_min_width": 50,
            "opacity": 1,
            "popup": null,
            "attribution": "Google Earth Engine",
            "_model_name": "LeafletTileLayerModel",
            "max_native_zoom": 18,
            "base": false,
            "min_native_zoom": 0,
            "show_loading": false,
            "name": "Basins",
            "url": "https://earthengine.googleapis.com/v1alpha/projects/earthengine-legacy/maps/debae3114a1df923d2ac2cc6c5ea4c4a-68745842e07620be3518bbfe5491948f/tiles/{z}/{x}/{y}",
            "popup_max_height": null,
            "popup_max_width": 300,
            "detect_retina": false,
            "_view_module_version": "^0.15.0",
            "options": [
              "attribution",
              "detect_retina",
              "max_native_zoom",
              "max_zoom",
              "min_native_zoom",
              "min_zoom",
              "no_wrap",
              "tile_size",
              "tms"
            ]
          }
        },
        "4aee64379fb7400184d85950e80af268": {
          "model_module": "jupyter-leaflet",
          "model_name": "LeafletMapStyleModel",
          "model_module_version": "^0.15.0",
          "state": {
            "_view_name": "StyleView",
            "_model_name": "LeafletMapStyleModel",
            "_view_module": "@jupyter-widgets/base",
            "_model_module_version": "^0.15.0",
            "_view_count": null,
            "cursor": "move",
            "_view_module_version": "1.2.0",
            "_model_module": "jupyter-leaflet"
          }
        },
        "8b33e1713aa54d5f80dde6939f6b1c06": {
          "model_module": "@jupyter-widgets/controls",
          "model_name": "HBoxModel",
          "model_module_version": "1.5.0",
          "state": {
            "_view_name": "HBoxView",
            "_dom_classes": [],
            "_model_name": "HBoxModel",
            "_view_module": "@jupyter-widgets/controls",
            "_model_module_version": "1.5.0",
            "_view_count": null,
            "_view_module_version": "1.5.0",
            "box_style": "",
            "layout": "IPY_MODEL_416bb92964904d73a353ae63252ecac0",
            "_model_module": "@jupyter-widgets/controls",
            "children": [
              "IPY_MODEL_67c02763998f4ca98d08e5d4338dc8ad"
            ]
          }
        },
        "35f44f0b1e464e108f4c890d19092586": {
          "model_module": "@jupyter-widgets/controls",
          "model_name": "VBoxModel",
          "model_module_version": "1.5.0",
          "state": {
            "_view_name": "VBoxView",
            "_dom_classes": [],
            "_model_name": "VBoxModel",
            "_view_module": "@jupyter-widgets/controls",
            "_model_module_version": "1.5.0",
            "_view_count": null,
            "_view_module_version": "1.5.0",
            "box_style": "",
            "layout": "IPY_MODEL_969f0375ba954588a54327904f507b01",
            "_model_module": "@jupyter-widgets/controls",
            "children": [
              "IPY_MODEL_f2a4c8b39b3840578331684abef5b26d"
            ]
          }
        },
        "416bb92964904d73a353ae63252ecac0": {
          "model_module": "@jupyter-widgets/base",
          "model_name": "LayoutModel",
          "model_module_version": "1.2.0",
          "state": {
            "_view_name": "LayoutView",
            "grid_template_rows": null,
            "right": null,
            "justify_content": null,
            "_view_module": "@jupyter-widgets/base",
            "overflow": null,
            "_model_module_version": "1.2.0",
            "_view_count": null,
            "flex_flow": null,
            "width": null,
            "min_width": null,
            "border": null,
            "align_items": null,
            "bottom": null,
            "_model_module": "@jupyter-widgets/base",
            "top": null,
            "grid_column": null,
            "overflow_y": null,
            "overflow_x": null,
            "grid_auto_flow": null,
            "grid_area": null,
            "grid_template_columns": null,
            "flex": null,
            "_model_name": "LayoutModel",
            "justify_items": null,
            "grid_row": null,
            "max_height": null,
            "align_content": null,
            "visibility": null,
            "align_self": null,
            "height": null,
            "min_height": null,
            "padding": null,
            "grid_auto_rows": null,
            "grid_gap": null,
            "max_width": null,
            "order": null,
            "_view_module_version": "1.2.0",
            "grid_template_areas": null,
            "object_position": null,
            "object_fit": null,
            "grid_auto_columns": null,
            "margin": null,
            "display": null,
            "left": null
          }
        },
        "67c02763998f4ca98d08e5d4338dc8ad": {
          "model_module": "@jupyter-widgets/controls",
          "model_name": "ToggleButtonModel",
          "model_module_version": "1.5.0",
          "state": {
            "_view_name": "ToggleButtonView",
            "style": "IPY_MODEL_afc54cb6398b4552aa2643bfda722c90",
            "_dom_classes": [],
            "description": "",
            "_model_name": "ToggleButtonModel",
            "button_style": "",
            "_view_module": "@jupyter-widgets/controls",
            "_model_module_version": "1.5.0",
            "tooltip": "Search location/data",
            "_view_count": null,
            "disabled": false,
            "_view_module_version": "1.5.0",
            "value": false,
            "description_tooltip": null,
            "_model_module": "@jupyter-widgets/controls",
            "layout": "IPY_MODEL_ad4a04072c2f4afc8fa555aff59e62a8",
            "icon": "globe"
          }
        },
        "969f0375ba954588a54327904f507b01": {
          "model_module": "@jupyter-widgets/base",
          "model_name": "LayoutModel",
          "model_module_version": "1.2.0",
          "state": {
            "_view_name": "LayoutView",
            "grid_template_rows": null,
            "right": null,
            "justify_content": null,
            "_view_module": "@jupyter-widgets/base",
            "overflow": null,
            "_model_module_version": "1.2.0",
            "_view_count": null,
            "flex_flow": null,
            "width": null,
            "min_width": null,
            "border": null,
            "align_items": null,
            "bottom": null,
            "_model_module": "@jupyter-widgets/base",
            "top": null,
            "grid_column": null,
            "overflow_y": null,
            "overflow_x": null,
            "grid_auto_flow": null,
            "grid_area": null,
            "grid_template_columns": null,
            "flex": null,
            "_model_name": "LayoutModel",
            "justify_items": null,
            "grid_row": null,
            "max_height": null,
            "align_content": null,
            "visibility": null,
            "align_self": null,
            "height": null,
            "min_height": null,
            "padding": null,
            "grid_auto_rows": null,
            "grid_gap": null,
            "max_width": null,
            "order": null,
            "_view_module_version": "1.2.0",
            "grid_template_areas": null,
            "object_position": null,
            "object_fit": null,
            "grid_auto_columns": null,
            "margin": null,
            "display": null,
            "left": null
          }
        },
        "f2a4c8b39b3840578331684abef5b26d": {
          "model_module": "@jupyter-widgets/controls",
          "model_name": "ToggleButtonModel",
          "model_module_version": "1.5.0",
          "state": {
            "_view_name": "ToggleButtonView",
            "style": "IPY_MODEL_80af84c3b09541dbae2cfb784161ddb6",
            "_dom_classes": [],
            "description": "",
            "_model_name": "ToggleButtonModel",
            "button_style": "",
            "_view_module": "@jupyter-widgets/controls",
            "_model_module_version": "1.5.0",
            "tooltip": "Toolbar",
            "_view_count": null,
            "disabled": false,
            "_view_module_version": "1.5.0",
            "value": false,
            "description_tooltip": null,
            "_model_module": "@jupyter-widgets/controls",
            "layout": "IPY_MODEL_787641f67c0244a09f5c45f034f6e632",
            "icon": "wrench"
          }
        },
        "afc54cb6398b4552aa2643bfda722c90": {
          "model_module": "@jupyter-widgets/controls",
          "model_name": "DescriptionStyleModel",
          "model_module_version": "1.5.0",
          "state": {
            "_view_name": "StyleView",
            "_model_name": "DescriptionStyleModel",
            "description_width": "",
            "_view_module": "@jupyter-widgets/base",
            "_model_module_version": "1.5.0",
            "_view_count": null,
            "_view_module_version": "1.2.0",
            "_model_module": "@jupyter-widgets/controls"
          }
        },
        "ad4a04072c2f4afc8fa555aff59e62a8": {
          "model_module": "@jupyter-widgets/base",
          "model_name": "LayoutModel",
          "model_module_version": "1.2.0",
          "state": {
            "_view_name": "LayoutView",
            "grid_template_rows": null,
            "right": null,
            "justify_content": null,
            "_view_module": "@jupyter-widgets/base",
            "overflow": null,
            "_model_module_version": "1.2.0",
            "_view_count": null,
            "flex_flow": null,
            "width": "28px",
            "min_width": null,
            "border": null,
            "align_items": null,
            "bottom": null,
            "_model_module": "@jupyter-widgets/base",
            "top": null,
            "grid_column": null,
            "overflow_y": null,
            "overflow_x": null,
            "grid_auto_flow": null,
            "grid_area": null,
            "grid_template_columns": null,
            "flex": null,
            "_model_name": "LayoutModel",
            "justify_items": null,
            "grid_row": null,
            "max_height": null,
            "align_content": null,
            "visibility": null,
            "align_self": null,
            "height": "28px",
            "min_height": null,
            "padding": "0px 0px 0px 4px",
            "grid_auto_rows": null,
            "grid_gap": null,
            "max_width": null,
            "order": null,
            "_view_module_version": "1.2.0",
            "grid_template_areas": null,
            "object_position": null,
            "object_fit": null,
            "grid_auto_columns": null,
            "margin": null,
            "display": null,
            "left": null
          }
        },
        "80af84c3b09541dbae2cfb784161ddb6": {
          "model_module": "@jupyter-widgets/controls",
          "model_name": "DescriptionStyleModel",
          "model_module_version": "1.5.0",
          "state": {
            "_view_name": "StyleView",
            "_model_name": "DescriptionStyleModel",
            "description_width": "",
            "_view_module": "@jupyter-widgets/base",
            "_model_module_version": "1.5.0",
            "_view_count": null,
            "_view_module_version": "1.2.0",
            "_model_module": "@jupyter-widgets/controls"
          }
        },
        "787641f67c0244a09f5c45f034f6e632": {
          "model_module": "@jupyter-widgets/base",
          "model_name": "LayoutModel",
          "model_module_version": "1.2.0",
          "state": {
            "_view_name": "LayoutView",
            "grid_template_rows": null,
            "right": null,
            "justify_content": null,
            "_view_module": "@jupyter-widgets/base",
            "overflow": null,
            "_model_module_version": "1.2.0",
            "_view_count": null,
            "flex_flow": null,
            "width": "28px",
            "min_width": null,
            "border": null,
            "align_items": null,
            "bottom": null,
            "_model_module": "@jupyter-widgets/base",
            "top": null,
            "grid_column": null,
            "overflow_y": null,
            "overflow_x": null,
            "grid_auto_flow": null,
            "grid_area": null,
            "grid_template_columns": null,
            "flex": null,
            "_model_name": "LayoutModel",
            "justify_items": null,
            "grid_row": null,
            "max_height": null,
            "align_content": null,
            "visibility": null,
            "align_self": null,
            "height": "28px",
            "min_height": null,
            "padding": "0px 0px 0px 4px",
            "grid_auto_rows": null,
            "grid_gap": null,
            "max_width": null,
            "order": null,
            "_view_module_version": "1.2.0",
            "grid_template_areas": null,
            "object_position": null,
            "object_fit": null,
            "grid_auto_columns": null,
            "margin": null,
            "display": null,
            "left": null
          }
        },
        "4592ae5370c64a31a01593f5c686f478": {
          "model_module": "jupyter-leaflet",
          "model_name": "LeafletMapModel",
          "model_module_version": "^0.15.0",
          "state": {
            "_view_name": "LeafletMapView",
            "keyboard_pan_offset": 80,
            "right": 4883567,
            "tap": true,
            "_view_module": "jupyter-leaflet",
            "max_zoom": 24,
            "_model_module_version": "^0.15.0",
            "_view_count": null,
            "zoom_snap": 1,
            "min_zoom": 1,
            "bounce_at_zoom_limits": true,
            "keyboard": true,
            "north": 40.65941527459425,
            "scroll_wheel_zoom": true,
            "dragging": true,
            "_model_module": "jupyter-leaflet",
            "zoom_delta": 1,
            "close_popup_on_click": true,
            "fullscreen": false,
            "style": "IPY_MODEL_ed319b35461b4539948bccd440ed897c",
            "layout": "IPY_MODEL_1ff89efac66b47a39077e62942047f8f",
            "bottom": 3156196,
            "prefer_canvas": false,
            "inertia_max_speed": 1500,
            "top": 3155596,
            "box_zoom": true,
            "controls": [
              "IPY_MODEL_918256ea4e784b68979b74397fb07bc1",
              "IPY_MODEL_9d137b4e64c340bdbf1fd9d0c9f14c35",
              "IPY_MODEL_4029536d1d3b4087b4f715d901f32872",
              "IPY_MODEL_55d9b915a4cb4ecda7afba84af418ab3",
              "IPY_MODEL_c304c447c0ac4f2492092920d95d92f6",
              "IPY_MODEL_6d9042caa7ba4675bd42acc4d50257b4",
              "IPY_MODEL_36271cd7ba48472c87e14b37e978962c",
              "IPY_MODEL_8df5ddc00e734dd681200b53c28c7832"
            ],
            "default_style": "IPY_MODEL_ed319b35461b4539948bccd440ed897c",
            "east": 29.579958915710453,
            "double_click_zoom": true,
            "interpolation": "bilinear",
            "layers": [
              "IPY_MODEL_6df041a9f6c84066a002e2635395db6d",
              "IPY_MODEL_3bee06bf61674e8692737b6e3edd6501",
              "IPY_MODEL_3343730612f04407a954b3fc073ddab7",
              "IPY_MODEL_23524aa756a5416fa8a578531ba0dec0"
            ],
            "dragging_style": "IPY_MODEL_b5dc3d6551dc4a14947ef638614873c8",
            "_dom_classes": [],
            "zoom_animation_threshold": 4,
            "_model_name": "LeafletMapModel",
            "zoom_start": 12,
            "modisdate": "2022-01-26",
            "keyboard_zoom_offset": 1,
            "inertia_deceleration": 3000,
            "inertia": true,
            "crs": {
              "name": "EPSG3857",
              "custom": false
            },
            "center": [
              40.64964793644236,
              29.55708503723145
            ],
            "zoom": 15,
            "world_copy_jump": false,
            "_view_module_version": "^0.15.0",
            "window_url": "https://ydxwd8zff6-496ff2e9c6d22116-0-colab.googleusercontent.com/outputframe.html?vrz=colab-20220125-060059-RC00_424040750",
            "tap_tolerance": 15,
            "west": 29.53421115875244,
            "touch_zoom": true,
            "options": [
              "bounce_at_zoom_limits",
              "box_zoom",
              "center",
              "close_popup_on_click",
              "double_click_zoom",
              "dragging",
              "fullscreen",
              "inertia",
              "inertia_deceleration",
              "inertia_max_speed",
              "interpolation",
              "keyboard",
              "keyboard_pan_offset",
              "keyboard_zoom_offset",
              "max_zoom",
              "min_zoom",
              "prefer_canvas",
              "scroll_wheel_zoom",
              "tap",
              "tap_tolerance",
              "touch_zoom",
              "world_copy_jump",
              "zoom",
              "zoom_animation_threshold",
              "zoom_delta",
              "zoom_snap",
              "zoom_start"
            ],
            "south": 40.63987916844782,
            "left": 4882501,
            "_dragging": false
          }
        },
        "71984e9c1d1c487f840b609f621d7eaf": {
          "model_module": "jupyter-leaflet",
          "model_name": "LeafletMapStyleModel",
          "model_module_version": "^0.15.0",
          "state": {
            "_view_name": "StyleView",
            "_model_name": "LeafletMapStyleModel",
            "_view_module": "@jupyter-widgets/base",
            "_model_module_version": "^0.15.0",
            "_view_count": null,
            "cursor": "grab",
            "_view_module_version": "1.2.0",
            "_model_module": "jupyter-leaflet"
          }
        },
        "1ff89efac66b47a39077e62942047f8f": {
          "model_module": "@jupyter-widgets/base",
          "model_name": "LayoutModel",
          "model_module_version": "1.2.0",
          "state": {
            "_view_name": "LayoutView",
            "grid_template_rows": null,
            "right": null,
            "justify_content": null,
            "_view_module": "@jupyter-widgets/base",
            "overflow": null,
            "_model_module_version": "1.2.0",
            "_view_count": null,
            "flex_flow": null,
            "width": null,
            "min_width": null,
            "border": null,
            "align_items": null,
            "bottom": null,
            "_model_module": "@jupyter-widgets/base",
            "top": null,
            "grid_column": null,
            "overflow_y": null,
            "overflow_x": null,
            "grid_auto_flow": null,
            "grid_area": null,
            "grid_template_columns": null,
            "flex": null,
            "_model_name": "LayoutModel",
            "justify_items": null,
            "grid_row": null,
            "max_height": null,
            "align_content": null,
            "visibility": null,
            "align_self": null,
            "height": "600px",
            "min_height": null,
            "padding": null,
            "grid_auto_rows": null,
            "grid_gap": null,
            "max_width": null,
            "order": null,
            "_view_module_version": "1.2.0",
            "grid_template_areas": null,
            "object_position": null,
            "object_fit": null,
            "grid_auto_columns": null,
            "margin": null,
            "display": null,
            "left": null
          }
        },
        "918256ea4e784b68979b74397fb07bc1": {
          "model_module": "jupyter-leaflet",
          "model_name": "LeafletWidgetControlModel",
          "model_module_version": "^0.15.0",
          "state": {
            "_view_name": "LeafletWidgetControlView",
            "widget": "IPY_MODEL_b317b60f2ec348308f2a5ff90e698ce8",
            "_model_name": "LeafletWidgetControlModel",
            "_view_module": "jupyter-leaflet",
            "_model_module_version": "^0.15.0",
            "max_height": null,
            "_view_count": null,
            "min_height": null,
            "_view_module_version": "^0.15.0",
            "max_width": null,
            "transparent_bg": false,
            "min_width": null,
            "position": "topleft",
            "_model_module": "jupyter-leaflet",
            "options": [
              "position",
              "transparent_bg"
            ]
          }
        },
        "9d137b4e64c340bdbf1fd9d0c9f14c35": {
          "model_module": "jupyter-leaflet",
          "model_name": "LeafletZoomControlModel",
          "model_module_version": "^0.15.0",
          "state": {
            "_view_name": "LeafletZoomControlView",
            "zoom_in_title": "Zoom in",
            "_model_name": "LeafletZoomControlModel",
            "_view_module": "jupyter-leaflet",
            "_model_module_version": "^0.15.0",
            "_view_count": null,
            "_view_module_version": "^0.15.0",
            "zoom_out_title": "Zoom out",
            "position": "topleft",
            "zoom_in_text": "+",
            "_model_module": "jupyter-leaflet",
            "options": [
              "position",
              "zoom_in_text",
              "zoom_in_title",
              "zoom_out_text",
              "zoom_out_title"
            ],
            "zoom_out_text": "-"
          }
        },
        "4029536d1d3b4087b4f715d901f32872": {
          "model_module": "jupyter-leaflet",
          "model_name": "LeafletScaleControlModel",
          "model_module_version": "^0.15.0",
          "state": {
            "_view_name": "LeafletScaleControlView",
            "_model_name": "LeafletScaleControlModel",
            "metric": true,
            "_view_module": "jupyter-leaflet",
            "_model_module_version": "^0.15.0",
            "max_width": 100,
            "_view_count": null,
            "_view_module_version": "^0.15.0",
            "update_when_idle": false,
            "position": "bottomleft",
            "imperial": true,
            "_model_module": "jupyter-leaflet",
            "options": [
              "imperial",
              "max_width",
              "metric",
              "position",
              "update_when_idle"
            ]
          }
        },
        "55d9b915a4cb4ecda7afba84af418ab3": {
          "model_module": "jupyter-leaflet",
          "model_name": "LeafletFullScreenControlModel",
          "model_module_version": "^0.15.0",
          "state": {
            "_view_name": "LeafletFullScreenControlView",
            "_model_name": "LeafletFullScreenControlModel",
            "_view_module": "jupyter-leaflet",
            "_model_module_version": "^0.15.0",
            "_view_count": null,
            "_view_module_version": "^0.15.0",
            "position": "topleft",
            "_model_module": "jupyter-leaflet",
            "options": [
              "position"
            ]
          }
        },
        "c304c447c0ac4f2492092920d95d92f6": {
          "model_module": "jupyter-leaflet",
          "model_name": "LeafletMeasureControlModel",
          "model_module_version": "^0.15.0",
          "state": {
            "_view_name": "LeafletMeasureControlView",
            "primary_area_unit": "acres",
            "capture_z_index": 10000,
            "secondary_area_unit": null,
            "primary_length_unit": "kilometers",
            "active_color": "orange",
            "_model_name": "LeafletMeasureControlModel",
            "popup_options": {
              "className": "leaflet-measure-resultpopup",
              "autoPanPadding": [
                10,
                10
              ]
            },
            "_view_module": "jupyter-leaflet",
            "_model_module_version": "^0.15.0",
            "_view_count": null,
            "_view_module_version": "^0.15.0",
            "secondary_length_unit": null,
            "completed_color": "#C8F2BE",
            "position": "bottomleft",
            "_model_module": "jupyter-leaflet",
            "options": [
              "active_color",
              "capture_z_index",
              "completed_color",
              "popup_options",
              "position",
              "primary_area_unit",
              "primary_length_unit",
              "secondary_area_unit",
              "secondary_length_unit"
            ],
            "_custom_units": {}
          }
        },
        "6d9042caa7ba4675bd42acc4d50257b4": {
          "model_module": "jupyter-leaflet",
          "model_name": "LeafletAttributionControlModel",
          "model_module_version": "^0.15.0",
          "state": {
            "_view_name": "LeafletAttributionControlView",
            "prefix": "ipyleaflet",
            "_model_name": "LeafletAttributionControlModel",
            "_view_module": "jupyter-leaflet",
            "_model_module_version": "^0.15.0",
            "_view_count": null,
            "_view_module_version": "^0.15.0",
            "position": "bottomright",
            "_model_module": "jupyter-leaflet",
            "options": [
              "position",
              "prefix"
            ]
          }
        },
        "36271cd7ba48472c87e14b37e978962c": {
          "model_module": "jupyter-leaflet",
          "model_name": "LeafletDrawControlModel",
          "model_module_version": "^0.15.0",
          "state": {
            "_view_name": "LeafletDrawControlView",
            "polygon": {
              "shapeOptions": {}
            },
            "circlemarker": {},
            "_model_name": "LeafletDrawControlModel",
            "edit": true,
            "data": [],
            "_view_module": "jupyter-leaflet",
            "_model_module_version": "^0.15.0",
            "remove": true,
            "_view_count": null,
            "_view_module_version": "^0.15.0",
            "polyline": {
              "shapeOptions": {}
            },
            "marker": {
              "shapeOptions": {
                "color": "#3388ff"
              }
            },
            "position": "topleft",
            "circle": {
              "shapeOptions": {
                "color": "#3388ff"
              }
            },
            "_model_module": "jupyter-leaflet",
            "options": [
              "position"
            ],
            "rectangle": {
              "shapeOptions": {
                "color": "#3388ff"
              }
            }
          }
        },
        "8df5ddc00e734dd681200b53c28c7832": {
          "model_module": "jupyter-leaflet",
          "model_name": "LeafletWidgetControlModel",
          "model_module_version": "^0.15.0",
          "state": {
            "_view_name": "LeafletWidgetControlView",
            "widget": "IPY_MODEL_33d80a40a2b443af8d3715080d722e22",
            "_model_name": "LeafletWidgetControlModel",
            "_view_module": "jupyter-leaflet",
            "_model_module_version": "^0.15.0",
            "max_height": null,
            "_view_count": null,
            "min_height": null,
            "_view_module_version": "^0.15.0",
            "max_width": null,
            "transparent_bg": false,
            "min_width": null,
            "position": "topright",
            "_model_module": "jupyter-leaflet",
            "options": [
              "position",
              "transparent_bg"
            ]
          }
        },
        "ed319b35461b4539948bccd440ed897c": {
          "model_module": "jupyter-leaflet",
          "model_name": "LeafletMapStyleModel",
          "model_module_version": "^0.15.0",
          "state": {
            "_view_name": "StyleView",
            "_model_name": "LeafletMapStyleModel",
            "_view_module": "@jupyter-widgets/base",
            "_model_module_version": "^0.15.0",
            "_view_count": null,
            "cursor": "grab",
            "_view_module_version": "1.2.0",
            "_model_module": "jupyter-leaflet"
          }
        },
        "6df041a9f6c84066a002e2635395db6d": {
          "model_module": "jupyter-leaflet",
          "model_name": "LeafletTileLayerModel",
          "model_module_version": "^0.15.0",
          "state": {
            "_view_name": "LeafletTileLayerView",
            "_view_module": "jupyter-leaflet",
            "max_zoom": 19,
            "_model_module_version": "^0.15.0",
            "_view_count": null,
            "visible": true,
            "min_zoom": 1,
            "tms": false,
            "_model_module": "jupyter-leaflet",
            "loading": false,
            "bottom": true,
            "no_wrap": false,
            "tile_size": 256,
            "popup_min_width": 50,
            "opacity": 1,
            "popup": null,
            "attribution": "&copy; <a href=\"https://www.openstreetmap.org/copyright\">OpenStreetMap</a> contributors",
            "_model_name": "LeafletTileLayerModel",
            "max_native_zoom": 18,
            "base": true,
            "min_native_zoom": 0,
            "show_loading": false,
            "name": "OpenStreetMap.Mapnik",
            "url": "https://a.tile.openstreetmap.org/{z}/{x}/{y}.png",
            "popup_max_height": null,
            "popup_max_width": 300,
            "detect_retina": false,
            "_view_module_version": "^0.15.0",
            "options": [
              "attribution",
              "detect_retina",
              "max_native_zoom",
              "max_zoom",
              "min_native_zoom",
              "min_zoom",
              "no_wrap",
              "tile_size",
              "tms"
            ]
          }
        },
        "23524aa756a5416fa8a578531ba0dec0": {
          "model_module": "jupyter-leaflet",
          "model_name": "LeafletTileLayerModel",
          "model_module_version": "^0.15.0",
          "state": {
            "_view_name": "LeafletTileLayerView",
            "_view_module": "jupyter-leaflet",
            "max_zoom": 24,
            "_model_module_version": "^0.15.0",
            "_view_count": null,
            "visible": true,
            "min_zoom": 0,
            "tms": false,
            "_model_module": "jupyter-leaflet",
            "loading": false,
            "bottom": true,
            "no_wrap": false,
            "tile_size": 256,
            "popup_min_width": 50,
            "opacity": 1,
            "popup": null,
            "attribution": "Google Earth Engine",
            "_model_name": "LeafletTileLayerModel",
            "max_native_zoom": 18,
            "base": false,
            "min_native_zoom": 0,
            "show_loading": false,
            "name": "NDVI",
            "url": "https://earthengine.googleapis.com/v1alpha/projects/earthengine-legacy/maps/98545fb4cf41034400706dcaceefc1ce-10e561cd4dd64a8fe104ebddf41835dc/tiles/{z}/{x}/{y}",
            "popup_max_height": null,
            "popup_max_width": 300,
            "detect_retina": false,
            "_view_module_version": "^0.15.0",
            "options": [
              "attribution",
              "detect_retina",
              "max_native_zoom",
              "max_zoom",
              "min_native_zoom",
              "min_zoom",
              "no_wrap",
              "tile_size",
              "tms"
            ]
          }
        },
        "b5dc3d6551dc4a14947ef638614873c8": {
          "model_module": "jupyter-leaflet",
          "model_name": "LeafletMapStyleModel",
          "model_module_version": "^0.15.0",
          "state": {
            "_view_name": "StyleView",
            "_model_name": "LeafletMapStyleModel",
            "_view_module": "@jupyter-widgets/base",
            "_model_module_version": "^0.15.0",
            "_view_count": null,
            "cursor": "move",
            "_view_module_version": "1.2.0",
            "_model_module": "jupyter-leaflet"
          }
        },
        "b317b60f2ec348308f2a5ff90e698ce8": {
          "model_module": "@jupyter-widgets/controls",
          "model_name": "HBoxModel",
          "model_module_version": "1.5.0",
          "state": {
            "_view_name": "HBoxView",
            "_dom_classes": [],
            "_model_name": "HBoxModel",
            "_view_module": "@jupyter-widgets/controls",
            "_model_module_version": "1.5.0",
            "_view_count": null,
            "_view_module_version": "1.5.0",
            "box_style": "",
            "layout": "IPY_MODEL_c7834c4273a449e0904e5df3837467d1",
            "_model_module": "@jupyter-widgets/controls",
            "children": [
              "IPY_MODEL_a8c53a03eb534ab186051b9aa1797f06"
            ]
          }
        },
        "33d80a40a2b443af8d3715080d722e22": {
          "model_module": "@jupyter-widgets/controls",
          "model_name": "VBoxModel",
          "model_module_version": "1.5.0",
          "state": {
            "_view_name": "VBoxView",
            "_dom_classes": [],
            "_model_name": "VBoxModel",
            "_view_module": "@jupyter-widgets/controls",
            "_model_module_version": "1.5.0",
            "_view_count": null,
            "_view_module_version": "1.5.0",
            "box_style": "",
            "layout": "IPY_MODEL_0d0cbcf501904f2da65281a122044c06",
            "_model_module": "@jupyter-widgets/controls",
            "children": [
              "IPY_MODEL_de95aaf05a2e40928f77451829fce090"
            ]
          }
        },
        "c7834c4273a449e0904e5df3837467d1": {
          "model_module": "@jupyter-widgets/base",
          "model_name": "LayoutModel",
          "model_module_version": "1.2.0",
          "state": {
            "_view_name": "LayoutView",
            "grid_template_rows": null,
            "right": null,
            "justify_content": null,
            "_view_module": "@jupyter-widgets/base",
            "overflow": null,
            "_model_module_version": "1.2.0",
            "_view_count": null,
            "flex_flow": null,
            "width": null,
            "min_width": null,
            "border": null,
            "align_items": null,
            "bottom": null,
            "_model_module": "@jupyter-widgets/base",
            "top": null,
            "grid_column": null,
            "overflow_y": null,
            "overflow_x": null,
            "grid_auto_flow": null,
            "grid_area": null,
            "grid_template_columns": null,
            "flex": null,
            "_model_name": "LayoutModel",
            "justify_items": null,
            "grid_row": null,
            "max_height": null,
            "align_content": null,
            "visibility": null,
            "align_self": null,
            "height": null,
            "min_height": null,
            "padding": null,
            "grid_auto_rows": null,
            "grid_gap": null,
            "max_width": null,
            "order": null,
            "_view_module_version": "1.2.0",
            "grid_template_areas": null,
            "object_position": null,
            "object_fit": null,
            "grid_auto_columns": null,
            "margin": null,
            "display": null,
            "left": null
          }
        },
        "a8c53a03eb534ab186051b9aa1797f06": {
          "model_module": "@jupyter-widgets/controls",
          "model_name": "ToggleButtonModel",
          "model_module_version": "1.5.0",
          "state": {
            "_view_name": "ToggleButtonView",
            "style": "IPY_MODEL_50f0b03a2a7840d9b76dc721098ce73d",
            "_dom_classes": [],
            "description": "",
            "_model_name": "ToggleButtonModel",
            "button_style": "",
            "_view_module": "@jupyter-widgets/controls",
            "_model_module_version": "1.5.0",
            "tooltip": "Search location/data",
            "_view_count": null,
            "disabled": false,
            "_view_module_version": "1.5.0",
            "value": false,
            "description_tooltip": null,
            "_model_module": "@jupyter-widgets/controls",
            "layout": "IPY_MODEL_a6bdf0abf8214d2fa1398b8b56824cc7",
            "icon": "globe"
          }
        },
        "0d0cbcf501904f2da65281a122044c06": {
          "model_module": "@jupyter-widgets/base",
          "model_name": "LayoutModel",
          "model_module_version": "1.2.0",
          "state": {
            "_view_name": "LayoutView",
            "grid_template_rows": null,
            "right": null,
            "justify_content": null,
            "_view_module": "@jupyter-widgets/base",
            "overflow": null,
            "_model_module_version": "1.2.0",
            "_view_count": null,
            "flex_flow": null,
            "width": null,
            "min_width": null,
            "border": null,
            "align_items": null,
            "bottom": null,
            "_model_module": "@jupyter-widgets/base",
            "top": null,
            "grid_column": null,
            "overflow_y": null,
            "overflow_x": null,
            "grid_auto_flow": null,
            "grid_area": null,
            "grid_template_columns": null,
            "flex": null,
            "_model_name": "LayoutModel",
            "justify_items": null,
            "grid_row": null,
            "max_height": null,
            "align_content": null,
            "visibility": null,
            "align_self": null,
            "height": null,
            "min_height": null,
            "padding": null,
            "grid_auto_rows": null,
            "grid_gap": null,
            "max_width": null,
            "order": null,
            "_view_module_version": "1.2.0",
            "grid_template_areas": null,
            "object_position": null,
            "object_fit": null,
            "grid_auto_columns": null,
            "margin": null,
            "display": null,
            "left": null
          }
        },
        "de95aaf05a2e40928f77451829fce090": {
          "model_module": "@jupyter-widgets/controls",
          "model_name": "ToggleButtonModel",
          "model_module_version": "1.5.0",
          "state": {
            "_view_name": "ToggleButtonView",
            "style": "IPY_MODEL_0455865ea4344e3db8010d1d4b0b7537",
            "_dom_classes": [],
            "description": "",
            "_model_name": "ToggleButtonModel",
            "button_style": "",
            "_view_module": "@jupyter-widgets/controls",
            "_model_module_version": "1.5.0",
            "tooltip": "Toolbar",
            "_view_count": null,
            "disabled": false,
            "_view_module_version": "1.5.0",
            "value": false,
            "description_tooltip": null,
            "_model_module": "@jupyter-widgets/controls",
            "layout": "IPY_MODEL_20269f93cb994de09221b69382fc2f4a",
            "icon": "wrench"
          }
        },
        "50f0b03a2a7840d9b76dc721098ce73d": {
          "model_module": "@jupyter-widgets/controls",
          "model_name": "DescriptionStyleModel",
          "model_module_version": "1.5.0",
          "state": {
            "_view_name": "StyleView",
            "_model_name": "DescriptionStyleModel",
            "description_width": "",
            "_view_module": "@jupyter-widgets/base",
            "_model_module_version": "1.5.0",
            "_view_count": null,
            "_view_module_version": "1.2.0",
            "_model_module": "@jupyter-widgets/controls"
          }
        },
        "a6bdf0abf8214d2fa1398b8b56824cc7": {
          "model_module": "@jupyter-widgets/base",
          "model_name": "LayoutModel",
          "model_module_version": "1.2.0",
          "state": {
            "_view_name": "LayoutView",
            "grid_template_rows": null,
            "right": null,
            "justify_content": null,
            "_view_module": "@jupyter-widgets/base",
            "overflow": null,
            "_model_module_version": "1.2.0",
            "_view_count": null,
            "flex_flow": null,
            "width": "28px",
            "min_width": null,
            "border": null,
            "align_items": null,
            "bottom": null,
            "_model_module": "@jupyter-widgets/base",
            "top": null,
            "grid_column": null,
            "overflow_y": null,
            "overflow_x": null,
            "grid_auto_flow": null,
            "grid_area": null,
            "grid_template_columns": null,
            "flex": null,
            "_model_name": "LayoutModel",
            "justify_items": null,
            "grid_row": null,
            "max_height": null,
            "align_content": null,
            "visibility": null,
            "align_self": null,
            "height": "28px",
            "min_height": null,
            "padding": "0px 0px 0px 4px",
            "grid_auto_rows": null,
            "grid_gap": null,
            "max_width": null,
            "order": null,
            "_view_module_version": "1.2.0",
            "grid_template_areas": null,
            "object_position": null,
            "object_fit": null,
            "grid_auto_columns": null,
            "margin": null,
            "display": null,
            "left": null
          }
        },
        "0455865ea4344e3db8010d1d4b0b7537": {
          "model_module": "@jupyter-widgets/controls",
          "model_name": "DescriptionStyleModel",
          "model_module_version": "1.5.0",
          "state": {
            "_view_name": "StyleView",
            "_model_name": "DescriptionStyleModel",
            "description_width": "",
            "_view_module": "@jupyter-widgets/base",
            "_model_module_version": "1.5.0",
            "_view_count": null,
            "_view_module_version": "1.2.0",
            "_model_module": "@jupyter-widgets/controls"
          }
        },
        "20269f93cb994de09221b69382fc2f4a": {
          "model_module": "@jupyter-widgets/base",
          "model_name": "LayoutModel",
          "model_module_version": "1.2.0",
          "state": {
            "_view_name": "LayoutView",
            "grid_template_rows": null,
            "right": null,
            "justify_content": null,
            "_view_module": "@jupyter-widgets/base",
            "overflow": null,
            "_model_module_version": "1.2.0",
            "_view_count": null,
            "flex_flow": null,
            "width": "28px",
            "min_width": null,
            "border": null,
            "align_items": null,
            "bottom": null,
            "_model_module": "@jupyter-widgets/base",
            "top": null,
            "grid_column": null,
            "overflow_y": null,
            "overflow_x": null,
            "grid_auto_flow": null,
            "grid_area": null,
            "grid_template_columns": null,
            "flex": null,
            "_model_name": "LayoutModel",
            "justify_items": null,
            "grid_row": null,
            "max_height": null,
            "align_content": null,
            "visibility": null,
            "align_self": null,
            "height": "28px",
            "min_height": null,
            "padding": "0px 0px 0px 4px",
            "grid_auto_rows": null,
            "grid_gap": null,
            "max_width": null,
            "order": null,
            "_view_module_version": "1.2.0",
            "grid_template_areas": null,
            "object_position": null,
            "object_fit": null,
            "grid_auto_columns": null,
            "margin": null,
            "display": null,
            "left": null
          }
        }
      }
    }
  },
  "cells": [
    {
      "cell_type": "markdown",
      "metadata": {
        "id": "view-in-github",
        "colab_type": "text"
      },
      "source": [
        "<a href=\"https://colab.research.google.com/github/the-cryptozoologist/geo/blob/main/GEE/spectral-data.ipynb\" target=\"_parent\"><img src=\"https://colab.research.google.com/assets/colab-badge.svg\" alt=\"Open In Colab\"/></a>"
      ]
    },
    {
      "cell_type": "markdown",
      "source": [
        "# Multispectral Data"
      ],
      "metadata": {
        "id": "d767v-HTLAYN"
      }
    },
    {
      "cell_type": "markdown",
      "source": [
        "## Collecting optical remote sensing data"
      ],
      "metadata": {
        "id": "hW7iQsTLLEmL"
      }
    },
    {
      "cell_type": "markdown",
      "source": [
        "1) Target gets illuminated by solar radiation.\n",
        "\n",
        "2) Radiation reflected from the target is captured by the optical sensor."
      ],
      "metadata": {
        "id": "ppBAaUI6LNY1"
      }
    },
    {
      "cell_type": "markdown",
      "source": [
        "Optical data makes use of multispectral sensors that capture the reflected radiation within the electromagnetic spectrum.\n",
        "\n",
        "Radiation in the: \n",
        "* Vis (0.4-0.75 µm)\n",
        "* IR (0.75-1.4 µm)\n",
        "* Short-wave IR (1.4-3 µm)\n",
        "* Thermal (3-15 µm)\n",
        "portions of the electromagnetic spectrum."
      ],
      "metadata": {
        "id": "go6w3RTILldx"
      }
    },
    {
      "cell_type": "markdown",
      "source": [
        "Optical data makes use of multispectral sensors that capture the reflected radiation within the electromagnetic spectrum.\n",
        "\n",
        "Radiation in the: \n",
        "* Vis (0.4-0.75 µm)\n",
        "* IR (0.75-1.4 µm)\n",
        "* Short-wave IR (1.4-3 µm)\n",
        "* Thermal (3-15 µm)\n",
        "portions of the electromagnetic spectrum.\n",
        "\n",
        "\n",
        "![E9D882BD-61A4-46EB-B30F-F326853A0753.jpeg](data:image/jpeg;base64,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)\n",
        "\n"
      ],
      "metadata": {
        "id": "hXLDUN6LN2Eg"
      }
    },
    {
      "cell_type": "code",
      "execution_count": 1,
      "metadata": {
        "colab": {
          "base_uri": "https://localhost:8080/"
        },
        "id": "N3ClapHgM5SG",
        "outputId": "4626cb07-45b2-4aa3-f35c-3f0192723e1c"
      },
      "outputs": [
        {
          "output_type": "stream",
          "name": "stdout",
          "text": [
            "Requirement already satisfied: geemap in /usr/local/lib/python3.7/dist-packages (0.11.1)\n",
            "Requirement already satisfied: click in /usr/local/lib/python3.7/dist-packages (from geemap) (7.1.2)\n",
            "Requirement already satisfied: googledrivedownloader in /usr/local/lib/python3.7/dist-packages (from geemap) (0.4)\n",
            "Requirement already satisfied: ffmpeg-python in /usr/local/lib/python3.7/dist-packages (from geemap) (0.2.0)\n",
            "Requirement already satisfied: ipyleaflet>=0.14.0 in /usr/local/lib/python3.7/dist-packages (from geemap) (0.15.0)\n",
            "Requirement already satisfied: sankee in /usr/local/lib/python3.7/dist-packages (from geemap) (0.0.7)\n",
            "Requirement already satisfied: folium>=0.11.0 in /usr/local/lib/python3.7/dist-packages (from geemap) (0.12.1.post1)\n",
            "Requirement already satisfied: palettable in /usr/local/lib/python3.7/dist-packages (from geemap) (3.3.0)\n",
            "Requirement already satisfied: colour in /usr/local/lib/python3.7/dist-packages (from geemap) (0.1.5)\n",
            "Requirement already satisfied: plotly in /usr/local/lib/python3.7/dist-packages (from geemap) (5.5.0)\n",
            "Requirement already satisfied: jupyterlab>=3 in /usr/local/lib/python3.7/dist-packages (from geemap) (3.2.8)\n",
            "Requirement already satisfied: ipynb-py-convert in /usr/local/lib/python3.7/dist-packages (from geemap) (0.4.6)\n",
            "Requirement already satisfied: ipyevents in /usr/local/lib/python3.7/dist-packages (from geemap) (2.0.1)\n",
            "Requirement already satisfied: pyshp>=2.1.3 in /usr/local/lib/python3.7/dist-packages (from geemap) (2.1.3)\n",
            "Requirement already satisfied: bqplot in /usr/local/lib/python3.7/dist-packages (from geemap) (0.12.32)\n",
            "Requirement already satisfied: voila in /usr/local/lib/python3.7/dist-packages (from geemap) (0.3.0)\n",
            "Requirement already satisfied: geojson in /usr/local/lib/python3.7/dist-packages (from geemap) (2.5.0)\n",
            "Requirement already satisfied: matplotlib in /usr/local/lib/python3.7/dist-packages (from geemap) (3.2.2)\n",
            "Requirement already satisfied: pandas in /usr/local/lib/python3.7/dist-packages (from geemap) (1.1.5)\n",
            "Requirement already satisfied: ipyfilechooser>=0.6.0 in /usr/local/lib/python3.7/dist-packages (from geemap) (0.6.0)\n",
            "Requirement already satisfied: pycrs in /usr/local/lib/python3.7/dist-packages (from geemap) (1.0.2)\n",
            "Requirement already satisfied: geeadd>=0.5.1 in /usr/local/lib/python3.7/dist-packages (from geemap) (0.5.5)\n",
            "Requirement already satisfied: numpy in /usr/local/lib/python3.7/dist-packages (from geemap) (1.19.5)\n",
            "Requirement already satisfied: mss in /usr/local/lib/python3.7/dist-packages (from geemap) (6.1.0)\n",
            "Requirement already satisfied: ee-extra>=0.0.10 in /usr/local/lib/python3.7/dist-packages (from geemap) (0.0.10)\n",
            "Requirement already satisfied: pillow in /usr/local/lib/python3.7/dist-packages (from geemap) (7.1.2)\n",
            "Requirement already satisfied: earthengine-api>=0.1.230 in /usr/local/lib/python3.7/dist-packages (from geemap) (0.1.295)\n",
            "Requirement already satisfied: python-box in /usr/local/lib/python3.7/dist-packages (from geemap) (5.4.1)\n",
            "Requirement already satisfied: ipytree in /usr/local/lib/python3.7/dist-packages (from geemap) (0.2.1)\n",
            "Requirement already satisfied: owslib in /usr/local/lib/python3.7/dist-packages (from geemap) (0.25.0)\n",
            "Requirement already satisfied: geocoder in /usr/local/lib/python3.7/dist-packages (from geemap) (1.38.1)\n",
            "Requirement already satisfied: whiteboxgui>=0.6.0 in /usr/local/lib/python3.7/dist-packages (from geemap) (0.6.0)\n",
            "Requirement already satisfied: xyzservices in /usr/local/lib/python3.7/dist-packages (from geemap) (2022.1.1)\n",
            "Requirement already satisfied: here-map-widget-for-jupyter>=1.1.1 in /usr/local/lib/python3.7/dist-packages (from geemap) (1.1.3)\n",
            "Requirement already satisfied: google-auth>=1.4.1 in /usr/local/lib/python3.7/dist-packages (from earthengine-api>=0.1.230->geemap) (1.35.0)\n",
            "Requirement already satisfied: google-cloud-storage in /usr/local/lib/python3.7/dist-packages (from earthengine-api>=0.1.230->geemap) (1.18.1)\n",
            "Requirement already satisfied: six in /usr/local/lib/python3.7/dist-packages (from earthengine-api>=0.1.230->geemap) (1.15.0)\n",
            "Requirement already satisfied: httplib2shim in /usr/local/lib/python3.7/dist-packages (from earthengine-api>=0.1.230->geemap) (0.0.3)\n",
            "Requirement already satisfied: google-api-python-client<2,>=1.12.1 in /usr/local/lib/python3.7/dist-packages (from earthengine-api>=0.1.230->geemap) (1.12.10)\n",
            "Requirement already satisfied: google-auth-httplib2>=0.0.3 in /usr/local/lib/python3.7/dist-packages (from earthengine-api>=0.1.230->geemap) (0.0.4)\n",
            "Requirement already satisfied: future in /usr/local/lib/python3.7/dist-packages (from earthengine-api>=0.1.230->geemap) (0.16.0)\n",
            "Requirement already satisfied: httplib2<1dev,>=0.9.2 in /usr/local/lib/python3.7/dist-packages (from earthengine-api>=0.1.230->geemap) (0.17.4)\n",
            "Requirement already satisfied: branca>=0.3.0 in /usr/local/lib/python3.7/dist-packages (from folium>=0.11.0->geemap) (0.4.2)\n",
            "Requirement already satisfied: jinja2>=2.9 in /usr/local/lib/python3.7/dist-packages (from folium>=0.11.0->geemap) (2.11.3)\n",
            "Requirement already satisfied: requests in /usr/local/lib/python3.7/dist-packages (from folium>=0.11.0->geemap) (2.23.0)\n",
            "Requirement already satisfied: logzero>=1.5.0 in /usr/local/lib/python3.7/dist-packages (from geeadd>=0.5.1->geemap) (1.7.0)\n",
            "Requirement already satisfied: beautifulsoup4>=4.9.0 in /usr/local/lib/python3.7/dist-packages (from geeadd>=0.5.1->geemap) (4.10.0)\n",
            "Requirement already satisfied: soupsieve>1.2 in /usr/local/lib/python3.7/dist-packages (from beautifulsoup4>=4.9.0->geeadd>=0.5.1->geemap) (2.3.1)\n",
            "Requirement already satisfied: uritemplate<4dev,>=3.0.0 in /usr/local/lib/python3.7/dist-packages (from google-api-python-client<2,>=1.12.1->earthengine-api>=0.1.230->geemap) (3.0.1)\n",
            "Requirement already satisfied: google-api-core<3dev,>=1.21.0 in /usr/local/lib/python3.7/dist-packages (from google-api-python-client<2,>=1.12.1->earthengine-api>=0.1.230->geemap) (1.26.3)\n",
            "Requirement already satisfied: protobuf>=3.12.0 in /usr/local/lib/python3.7/dist-packages (from google-api-core<3dev,>=1.21.0->google-api-python-client<2,>=1.12.1->earthengine-api>=0.1.230->geemap) (3.17.3)\n",
            "Requirement already satisfied: packaging>=14.3 in /usr/local/lib/python3.7/dist-packages (from google-api-core<3dev,>=1.21.0->google-api-python-client<2,>=1.12.1->earthengine-api>=0.1.230->geemap) (21.3)\n",
            "Requirement already satisfied: pytz in /usr/local/lib/python3.7/dist-packages (from google-api-core<3dev,>=1.21.0->google-api-python-client<2,>=1.12.1->earthengine-api>=0.1.230->geemap) (2018.9)\n",
            "Requirement already satisfied: setuptools>=40.3.0 in /usr/local/lib/python3.7/dist-packages (from google-api-core<3dev,>=1.21.0->google-api-python-client<2,>=1.12.1->earthengine-api>=0.1.230->geemap) (57.4.0)\n",
            "Requirement already satisfied: googleapis-common-protos<2.0dev,>=1.6.0 in /usr/local/lib/python3.7/dist-packages (from google-api-core<3dev,>=1.21.0->google-api-python-client<2,>=1.12.1->earthengine-api>=0.1.230->geemap) (1.54.0)\n",
            "Requirement already satisfied: rsa<5,>=3.1.4 in /usr/local/lib/python3.7/dist-packages (from google-auth>=1.4.1->earthengine-api>=0.1.230->geemap) (4.8)\n",
            "Requirement already satisfied: cachetools<5.0,>=2.0.0 in /usr/local/lib/python3.7/dist-packages (from google-auth>=1.4.1->earthengine-api>=0.1.230->geemap) (4.2.4)\n",
            "Requirement already satisfied: pyasn1-modules>=0.2.1 in /usr/local/lib/python3.7/dist-packages (from google-auth>=1.4.1->earthengine-api>=0.1.230->geemap) (0.2.8)\n",
            "Requirement already satisfied: ipywidgets<8,>=7.6.0 in /usr/local/lib/python3.7/dist-packages (from here-map-widget-for-jupyter>=1.1.1->geemap) (7.6.5)\n",
            "Requirement already satisfied: traittypes<3,>=0.2.1 in /usr/local/lib/python3.7/dist-packages (from ipyleaflet>=0.14.0->geemap) (0.2.1)\n",
            "Requirement already satisfied: widgetsnbextension~=3.5.0 in /usr/local/lib/python3.7/dist-packages (from ipywidgets<8,>=7.6.0->here-map-widget-for-jupyter>=1.1.1->geemap) (3.5.2)\n",
            "Requirement already satisfied: traitlets>=4.3.1 in /usr/local/lib/python3.7/dist-packages (from ipywidgets<8,>=7.6.0->here-map-widget-for-jupyter>=1.1.1->geemap) (5.1.1)\n",
            "Requirement already satisfied: ipykernel>=4.5.1 in /usr/local/lib/python3.7/dist-packages (from ipywidgets<8,>=7.6.0->here-map-widget-for-jupyter>=1.1.1->geemap) (4.10.1)\n",
            "Requirement already satisfied: ipython>=4.0.0 in /usr/local/lib/python3.7/dist-packages (from ipywidgets<8,>=7.6.0->here-map-widget-for-jupyter>=1.1.1->geemap) (5.5.0)\n",
            "Requirement already satisfied: jupyterlab-widgets>=1.0.0 in /usr/local/lib/python3.7/dist-packages (from ipywidgets<8,>=7.6.0->here-map-widget-for-jupyter>=1.1.1->geemap) (1.0.2)\n",
            "Requirement already satisfied: nbformat>=4.2.0 in /usr/local/lib/python3.7/dist-packages (from ipywidgets<8,>=7.6.0->here-map-widget-for-jupyter>=1.1.1->geemap) (5.1.3)\n",
            "Requirement already satisfied: ipython-genutils~=0.2.0 in /usr/local/lib/python3.7/dist-packages (from ipywidgets<8,>=7.6.0->here-map-widget-for-jupyter>=1.1.1->geemap) (0.2.0)\n",
            "Requirement already satisfied: tornado>=4.0 in /usr/local/lib/python3.7/dist-packages (from ipykernel>=4.5.1->ipywidgets<8,>=7.6.0->here-map-widget-for-jupyter>=1.1.1->geemap) (6.1)\n",
            "Requirement already satisfied: jupyter-client in /usr/local/lib/python3.7/dist-packages (from ipykernel>=4.5.1->ipywidgets<8,>=7.6.0->here-map-widget-for-jupyter>=1.1.1->geemap) (7.1.2)\n",
            "Requirement already satisfied: pickleshare in /usr/local/lib/python3.7/dist-packages (from ipython>=4.0.0->ipywidgets<8,>=7.6.0->here-map-widget-for-jupyter>=1.1.1->geemap) (0.7.5)\n",
            "Requirement already satisfied: decorator in /usr/local/lib/python3.7/dist-packages (from ipython>=4.0.0->ipywidgets<8,>=7.6.0->here-map-widget-for-jupyter>=1.1.1->geemap) (4.4.2)\n",
            "Requirement already satisfied: pygments in /usr/local/lib/python3.7/dist-packages (from ipython>=4.0.0->ipywidgets<8,>=7.6.0->here-map-widget-for-jupyter>=1.1.1->geemap) (2.6.1)\n",
            "Requirement already satisfied: simplegeneric>0.8 in /usr/local/lib/python3.7/dist-packages (from ipython>=4.0.0->ipywidgets<8,>=7.6.0->here-map-widget-for-jupyter>=1.1.1->geemap) (0.8.1)\n",
            "Requirement already satisfied: prompt-toolkit<2.0.0,>=1.0.4 in /usr/local/lib/python3.7/dist-packages (from ipython>=4.0.0->ipywidgets<8,>=7.6.0->here-map-widget-for-jupyter>=1.1.1->geemap) (1.0.18)\n",
            "Requirement already satisfied: pexpect in /usr/local/lib/python3.7/dist-packages (from ipython>=4.0.0->ipywidgets<8,>=7.6.0->here-map-widget-for-jupyter>=1.1.1->geemap) (4.8.0)\n",
            "Requirement already satisfied: MarkupSafe>=0.23 in /usr/local/lib/python3.7/dist-packages (from jinja2>=2.9->folium>=0.11.0->geemap) (2.0.1)\n",
            "Requirement already satisfied: jupyterlab-server~=2.3 in /usr/local/lib/python3.7/dist-packages (from jupyterlab>=3->geemap) (2.10.3)\n",
            "Requirement already satisfied: nbclassic~=0.2 in /usr/local/lib/python3.7/dist-packages (from jupyterlab>=3->geemap) (0.3.5)\n",
            "Requirement already satisfied: jupyter-server~=1.4 in /usr/local/lib/python3.7/dist-packages (from jupyterlab>=3->geemap) (1.13.4)\n",
            "Requirement already satisfied: jupyter-core in /usr/local/lib/python3.7/dist-packages (from jupyterlab>=3->geemap) (4.9.1)\n",
            "Requirement already satisfied: Send2Trash in /usr/local/lib/python3.7/dist-packages (from jupyter-server~=1.4->jupyterlab>=3->geemap) (1.8.0)\n",
            "Requirement already satisfied: terminado>=0.8.3 in /usr/local/lib/python3.7/dist-packages (from jupyter-server~=1.4->jupyterlab>=3->geemap) (0.12.1)\n",
            "Requirement already satisfied: anyio<4,>=3.1.0 in /usr/local/lib/python3.7/dist-packages (from jupyter-server~=1.4->jupyterlab>=3->geemap) (3.5.0)\n",
            "Requirement already satisfied: prometheus-client in /usr/local/lib/python3.7/dist-packages (from jupyter-server~=1.4->jupyterlab>=3->geemap) (0.12.0)\n",
            "Requirement already satisfied: websocket-client in /usr/local/lib/python3.7/dist-packages (from jupyter-server~=1.4->jupyterlab>=3->geemap) (1.2.3)\n",
            "Requirement already satisfied: pyzmq>=17 in /usr/local/lib/python3.7/dist-packages (from jupyter-server~=1.4->jupyterlab>=3->geemap) (22.3.0)\n",
            "Requirement already satisfied: nbconvert in /usr/local/lib/python3.7/dist-packages (from jupyter-server~=1.4->jupyterlab>=3->geemap) (6.4.1)\n",
            "Requirement already satisfied: argon2-cffi in /usr/local/lib/python3.7/dist-packages (from jupyter-server~=1.4->jupyterlab>=3->geemap) (21.3.0)\n",
            "Requirement already satisfied: sniffio>=1.1 in /usr/local/lib/python3.7/dist-packages (from anyio<4,>=3.1.0->jupyter-server~=1.4->jupyterlab>=3->geemap) (1.2.0)\n",
            "Requirement already satisfied: typing-extensions in /usr/local/lib/python3.7/dist-packages (from anyio<4,>=3.1.0->jupyter-server~=1.4->jupyterlab>=3->geemap) (3.10.0.2)\n",
            "Requirement already satisfied: idna>=2.8 in /usr/local/lib/python3.7/dist-packages (from anyio<4,>=3.1.0->jupyter-server~=1.4->jupyterlab>=3->geemap) (2.10)\n",
            "Requirement already satisfied: nest-asyncio>=1.5 in /usr/local/lib/python3.7/dist-packages (from jupyter-client->ipykernel>=4.5.1->ipywidgets<8,>=7.6.0->here-map-widget-for-jupyter>=1.1.1->geemap) (1.5.4)\n",
            "Requirement already satisfied: python-dateutil>=2.1 in /usr/local/lib/python3.7/dist-packages (from jupyter-client->ipykernel>=4.5.1->ipywidgets<8,>=7.6.0->here-map-widget-for-jupyter>=1.1.1->geemap) (2.8.2)\n",
            "Requirement already satisfied: entrypoints in /usr/local/lib/python3.7/dist-packages (from jupyter-client->ipykernel>=4.5.1->ipywidgets<8,>=7.6.0->here-map-widget-for-jupyter>=1.1.1->geemap) (0.3)\n",
            "Requirement already satisfied: babel in /usr/local/lib/python3.7/dist-packages (from jupyterlab-server~=2.3->jupyterlab>=3->geemap) (2.9.1)\n",
            "Requirement already satisfied: json5 in /usr/local/lib/python3.7/dist-packages (from jupyterlab-server~=2.3->jupyterlab>=3->geemap) (0.9.6)\n",
            "Requirement already satisfied: jsonschema>=3.0.1 in /usr/local/lib/python3.7/dist-packages (from jupyterlab-server~=2.3->jupyterlab>=3->geemap) (4.3.3)\n",
            "Requirement already satisfied: importlib-metadata in /usr/local/lib/python3.7/dist-packages (from jsonschema>=3.0.1->jupyterlab-server~=2.3->jupyterlab>=3->geemap) (4.10.1)\n",
            "Requirement already satisfied: attrs>=17.4.0 in /usr/local/lib/python3.7/dist-packages (from jsonschema>=3.0.1->jupyterlab-server~=2.3->jupyterlab>=3->geemap) (21.4.0)\n",
            "Requirement already satisfied: importlib-resources>=1.4.0 in /usr/local/lib/python3.7/dist-packages (from jsonschema>=3.0.1->jupyterlab-server~=2.3->jupyterlab>=3->geemap) (5.4.0)\n",
            "Requirement already satisfied: pyrsistent!=0.17.0,!=0.17.1,!=0.17.2,>=0.14.0 in /usr/local/lib/python3.7/dist-packages (from jsonschema>=3.0.1->jupyterlab-server~=2.3->jupyterlab>=3->geemap) (0.18.1)\n",
            "Requirement already satisfied: zipp>=3.1.0 in /usr/local/lib/python3.7/dist-packages (from importlib-resources>=1.4.0->jsonschema>=3.0.1->jupyterlab-server~=2.3->jupyterlab>=3->geemap) (3.7.0)\n",
            "Requirement already satisfied: notebook<7 in /usr/local/lib/python3.7/dist-packages (from nbclassic~=0.2->jupyterlab>=3->geemap) (5.3.1)\n",
            "Requirement already satisfied: pyparsing!=3.0.5,>=2.0.2 in /usr/local/lib/python3.7/dist-packages (from packaging>=14.3->google-api-core<3dev,>=1.21.0->google-api-python-client<2,>=1.12.1->earthengine-api>=0.1.230->geemap) (3.0.7)\n",
            "Requirement already satisfied: wcwidth in /usr/local/lib/python3.7/dist-packages (from prompt-toolkit<2.0.0,>=1.0.4->ipython>=4.0.0->ipywidgets<8,>=7.6.0->here-map-widget-for-jupyter>=1.1.1->geemap) (0.2.5)\n",
            "Requirement already satisfied: pyasn1<0.5.0,>=0.4.6 in /usr/local/lib/python3.7/dist-packages (from pyasn1-modules>=0.2.1->google-auth>=1.4.1->earthengine-api>=0.1.230->geemap) (0.4.8)\n",
            "Requirement already satisfied: chardet<4,>=3.0.2 in /usr/local/lib/python3.7/dist-packages (from requests->folium>=0.11.0->geemap) (3.0.4)\n",
            "Requirement already satisfied: certifi>=2017.4.17 in /usr/local/lib/python3.7/dist-packages (from requests->folium>=0.11.0->geemap) (2021.10.8)\n",
            "Requirement already satisfied: urllib3!=1.25.0,!=1.25.1,<1.26,>=1.21.1 in /usr/local/lib/python3.7/dist-packages (from requests->folium>=0.11.0->geemap) (1.24.3)\n",
            "Requirement already satisfied: ptyprocess in /usr/local/lib/python3.7/dist-packages (from terminado>=0.8.3->jupyter-server~=1.4->jupyterlab>=3->geemap) (0.7.0)\n",
            "Requirement already satisfied: whitebox in /usr/local/lib/python3.7/dist-packages (from whiteboxgui>=0.6.0->geemap) (2.0.3)\n",
            "Requirement already satisfied: argon2-cffi-bindings in /usr/local/lib/python3.7/dist-packages (from argon2-cffi->jupyter-server~=1.4->jupyterlab>=3->geemap) (21.2.0)\n",
            "Requirement already satisfied: cffi>=1.0.1 in /usr/local/lib/python3.7/dist-packages (from argon2-cffi-bindings->argon2-cffi->jupyter-server~=1.4->jupyterlab>=3->geemap) (1.15.0)\n",
            "Requirement already satisfied: pycparser in /usr/local/lib/python3.7/dist-packages (from cffi>=1.0.1->argon2-cffi-bindings->argon2-cffi->jupyter-server~=1.4->jupyterlab>=3->geemap) (2.21)\n",
            "Requirement already satisfied: ratelim in /usr/local/lib/python3.7/dist-packages (from geocoder->geemap) (0.1.6)\n",
            "Requirement already satisfied: google-cloud-core<2.0dev,>=1.0.0 in /usr/local/lib/python3.7/dist-packages (from google-cloud-storage->earthengine-api>=0.1.230->geemap) (1.0.3)\n",
            "Requirement already satisfied: google-resumable-media<0.5.0dev,>=0.3.1 in /usr/local/lib/python3.7/dist-packages (from google-cloud-storage->earthengine-api>=0.1.230->geemap) (0.4.1)\n",
            "Requirement already satisfied: cycler>=0.10 in /usr/local/lib/python3.7/dist-packages (from matplotlib->geemap) (0.11.0)\n",
            "Requirement already satisfied: kiwisolver>=1.0.1 in /usr/local/lib/python3.7/dist-packages (from matplotlib->geemap) (1.3.2)\n",
            "Requirement already satisfied: jupyterlab-pygments in /usr/local/lib/python3.7/dist-packages (from nbconvert->jupyter-server~=1.4->jupyterlab>=3->geemap) (0.1.2)\n",
            "Requirement already satisfied: nbclient<0.6.0,>=0.5.0 in /usr/local/lib/python3.7/dist-packages (from nbconvert->jupyter-server~=1.4->jupyterlab>=3->geemap) (0.5.10)\n",
            "Requirement already satisfied: pandocfilters>=1.4.1 in /usr/local/lib/python3.7/dist-packages (from nbconvert->jupyter-server~=1.4->jupyterlab>=3->geemap) (1.5.0)\n",
            "Requirement already satisfied: bleach in /usr/local/lib/python3.7/dist-packages (from nbconvert->jupyter-server~=1.4->jupyterlab>=3->geemap) (4.1.0)\n",
            "Requirement already satisfied: testpath in /usr/local/lib/python3.7/dist-packages (from nbconvert->jupyter-server~=1.4->jupyterlab>=3->geemap) (0.5.0)\n",
            "Requirement already satisfied: mistune<2,>=0.8.1 in /usr/local/lib/python3.7/dist-packages (from nbconvert->jupyter-server~=1.4->jupyterlab>=3->geemap) (0.8.4)\n",
            "Requirement already satisfied: defusedxml in /usr/local/lib/python3.7/dist-packages (from nbconvert->jupyter-server~=1.4->jupyterlab>=3->geemap) (0.7.1)\n",
            "Requirement already satisfied: webencodings in /usr/local/lib/python3.7/dist-packages (from bleach->nbconvert->jupyter-server~=1.4->jupyterlab>=3->geemap) (0.5.1)\n",
            "Requirement already satisfied: pyproj>=2 in /usr/local/lib/python3.7/dist-packages (from owslib->geemap) (3.2.1)\n",
            "Requirement already satisfied: pyyaml in /usr/local/lib/python3.7/dist-packages (from owslib->geemap) (3.13)\n",
            "Requirement already satisfied: tenacity>=6.2.0 in /usr/local/lib/python3.7/dist-packages (from plotly->geemap) (8.0.1)\n",
            "Requirement already satisfied: websockets>=9.0 in /usr/local/lib/python3.7/dist-packages (from voila->geemap) (10.1)\n"
          ]
        }
      ],
      "source": [
        "!pip install geemap"
      ]
    },
    {
      "cell_type": "code",
      "source": [
        "import geemap\n",
        "import ee\n",
        "\n",
        "ee.Authenticate()\n",
        "ee.Initialize()"
      ],
      "metadata": {
        "colab": {
          "base_uri": "https://localhost:8080/",
          "height": 181
        },
        "id": "phPn6QtWOedK",
        "outputId": "9d806947-d3a0-4587-de83-e085c444da22"
      },
      "execution_count": 2,
      "outputs": [
        {
          "output_type": "stream",
          "name": "stdout",
          "text": [
            "To authorize access needed by Earth Engine, open the following URL in a web browser and follow the instructions. If the web browser does not start automatically, please manually browse the URL below.\n",
            "\n",
            "    https://accounts.google.com/o/oauth2/auth?client_id=517222506229-vsmmajv00ul0bs7p89v5m89qs8eb9359.apps.googleusercontent.com&scope=https%3A%2F%2Fwww.googleapis.com%2Fauth%2Fearthengine+https%3A%2F%2Fwww.googleapis.com%2Fauth%2Fdevstorage.full_control&redirect_uri=urn%3Aietf%3Awg%3Aoauth%3A2.0%3Aoob&response_type=code&code_challenge=JvrIKPacP1FWhjvKzVntBpNNF2cLOD4Za0A_DpRzehI&code_challenge_method=S256\n",
            "\n",
            "The authorization workflow will generate a code, which you should paste in the box below. \n",
            "Enter verification code: 4/1AX4XfWjg3U-aqtN5cUokR2eLut8yEis8K-oxi20RzppWA8tvGPIx5Lb_PfA\n",
            "\n",
            "Successfully saved authorization token.\n"
          ]
        }
      ]
    },
    {
      "cell_type": "code",
      "source": [
        "wdpa_polygon = ee.FeatureCollection(\"WCMC/WDPA/current/polygons\")\n",
        "\n",
        "pa = wdpa_polygon.filter(ee.Filter.eq(\"NAME\", \"Golfe du Morbihan\"))\n",
        "\n",
        "sentinel2 = ee.ImageCollection(\"COPERNICUS/S2\")"
      ],
      "metadata": {
        "id": "RQvbv2f1PppD"
      },
      "execution_count": 3,
      "outputs": []
    },
    {
      "cell_type": "code",
      "source": [
        "# Dry season 06-09\n",
        "\n",
        "dry = sentinel2.filterBounds(pa).filterDate(\"2020-06-01\", \"2020-10-01\")\\\n",
        "                                .sort(\"CLOUDY_PIXEL_PERCENTAGE\", False)\\\n",
        "                                .mosaic().clip(pa)"
      ],
      "metadata": {
        "id": "8xiswZpCQ57N"
      },
      "execution_count": 4,
      "outputs": []
    },
    {
      "cell_type": "code",
      "source": [
        "# Wet season 10-05\n",
        "\n",
        "wet = sentinel2.filterBounds(pa).filterDate(\"2019-10-01\", \"2020-05-31\")\\\n",
        "                                .sort(\"CLOUDY_PIXEL_PERCENTAGE\", False)\\\n",
        "                                .mosaic().clip(pa)"
      ],
      "metadata": {
        "id": "ICqHeV9dWroh"
      },
      "execution_count": 5,
      "outputs": []
    },
    {
      "cell_type": "code",
      "source": [
        "# NDWI\n",
        "\n",
        "ndwi_dry = dry.normalizedDifference([\"B3\", \"B8\"])\n",
        "ndwi_wet = wet.normalizedDifference([\"B3\", \"B8\"])\n",
        "\n",
        "#Palettes\n",
        "\n",
        "true_color = {\"bands\": [\"B4\",\"B3\",\"B2\"],\n",
        "              \"min\": 0,\n",
        "              \"max\": 3000}\n",
        "\n",
        "water_palette = [\"red\", \"yellow\", \"green\",\"blue\"]"
      ],
      "metadata": {
        "id": "H2vm2n7bXPVm"
      },
      "execution_count": 6,
      "outputs": []
    },
    {
      "cell_type": "code",
      "source": [
        "Map = geemap.Map(center=[47.6532, -2.7855], zoom=10)\n",
        "Map.addLayer(dry, true_color, \"2020 Dry season true color\")\n",
        "Map.addLayerControl()\n",
        "Map"
      ],
      "metadata": {
        "colab": {
          "base_uri": "https://localhost:8080/",
          "height": 621,
          "referenced_widgets": [
            "242629d4e86441fd810a9d7684a6d501",
            "5044a06a2b9c4e0aa206c4704bf6a7de",
            "cb9f4e2169b14a72a77e6523b90d5546",
            "a9480576669b4b51bfbe0169ced591be",
            "8ee8b8c03eda4826bdaf38451212b7c0",
            "b0c1e23eb3534f1495eb859804943dea",
            "ecb1dd52010345438207db30e9aa1083",
            "7beee44b92484062a6820fd7a5698224",
            "5940471ec6c3486fa2422bccc75ceb7b",
            "f185b05658594d3fb276f31a2e58aeeb",
            "cd90b469a60446b98cecf39df4ee230c",
            "e9822f670f86443ead44d58a7c24a3ff",
            "559fc45d7a99424b92bac5a8b330625d",
            "3bee06bf61674e8692737b6e3edd6501",
            "778b7a9ef5424d7cbf6887da0d8377c4",
            "43e065c344b547edb7cd1608d6d39673",
            "41b9fa7898d241408b76d1801bb73ada",
            "054f359b32e74a698b0431aee404dad9",
            "50d3226076af4c0aa92f731654eb8481",
            "4790f5be80764a85995ff6db3a913009",
            "7ddd8977cf6e416fa712c40d8df79fbb",
            "c6e2d0300a944c298a7a66bf3075d63a",
            "9ff1c5d36578494eac70ef79b2ca32df",
            "2025727640744792aad550b899b81be6",
            "d60fbf7623ab44b297261a38e1c7c58d",
            "d1316facdd1041c3bb301d2dce428449"
          ]
        },
        "id": "K6LNYjJSYO1X",
        "outputId": "9a44911a-bc30-4e12-baeb-e337c18262b0"
      },
      "execution_count": 7,
      "outputs": [
        {
          "output_type": "display_data",
          "data": {
            "application/vnd.jupyter.widget-view+json": {
              "model_id": "242629d4e86441fd810a9d7684a6d501",
              "version_minor": 0,
              "version_major": 2
            },
            "text/plain": [
              "Map(center=[47.6532, -2.7855], controls=(WidgetControl(options=['position', 'transparent_bg'], widget=HBox(chi…"
            ]
          },
          "metadata": {
            "application/vnd.jupyter.widget-view+json": {
              "colab": {
                "custom_widget_manager": {
                  "url": "https://ssl.gstatic.com/colaboratory-static/widgets/colab-cdn-widget-manager/a8874ba6619b6106/manager.min.js"
                }
              }
            }
          }
        }
      ]
    },
    {
      "cell_type": "code",
      "source": [
        "Map2 = geemap.Map(center=[47.6532, -2.7855], zoom=10)\n",
        "Map2.addLayer(wet, true_color, \"2019-20 Wet season true color\")\n",
        "Map2.addLayerControl()\n",
        "Map2"
      ],
      "metadata": {
        "colab": {
          "base_uri": "https://localhost:8080/",
          "height": 621,
          "referenced_widgets": [
            "3a9dfc771f11445a9c8cc5e17254e937",
            "f9f1c6b85c354b5fa095fde674f94e1a",
            "5ceedbf1df5b404c96936e93885f7652",
            "af9de5edd4074015b9f2d97446153472",
            "6893e4a083394cad8acde835c49d4876",
            "4eb514946764467ca404d72b85867077",
            "6e40b9bf6b0849a19af3e69deb1acee0",
            "0d2a648993a34f1f8520d126a700b496",
            "a4553c6640224861aacf4aa9dff61e22",
            "58d6db97e96942ab9a18efce126cae58",
            "9cb4f60db1e641f3a658284a2009365b",
            "34784a0a771f4029b21680cbc2ebc885",
            "d611ecbab708476aabefb91b8390ee1b",
            "3bee06bf61674e8692737b6e3edd6501",
            "e87958281fd24d2b84808b8e2dfcebdc",
            "3922b2eca3324bbd8229195d2499b073",
            "17239f3a638c493eae7cd686877e7d1d",
            "cd2ab7c387dd45d5b134eed675ef92be",
            "6a6cd2f2a703435d9e2da47863316e80",
            "f47abf33e4ba4473997e842d7a7ea1d9",
            "0eae74ad168a4c6784b9e908bae0df54",
            "c862a74601f84834a6562d7a885d8664",
            "bee73a5684ee4fc08c4dac1c62741546",
            "dfec4e45c21d499e9ed8cee102b43ae2",
            "96cd09a95c694340a12038ec43c7fccf",
            "292f57f798e347f784990b00ac617c64"
          ]
        },
        "id": "wTdA1UulabaE",
        "outputId": "71acf2b8-b927-40aa-b271-779342efb02f"
      },
      "execution_count": 8,
      "outputs": [
        {
          "output_type": "display_data",
          "data": {
            "application/vnd.jupyter.widget-view+json": {
              "model_id": "3a9dfc771f11445a9c8cc5e17254e937",
              "version_minor": 0,
              "version_major": 2
            },
            "text/plain": [
              "Map(center=[47.6532, -2.7855], controls=(WidgetControl(options=['position', 'transparent_bg'], widget=HBox(chi…"
            ]
          },
          "metadata": {
            "application/vnd.jupyter.widget-view+json": {
              "colab": {
                "custom_widget_manager": {
                  "url": "https://ssl.gstatic.com/colaboratory-static/widgets/colab-cdn-widget-manager/a8874ba6619b6106/manager.min.js"
                }
              }
            }
          }
        }
      ]
    },
    {
      "cell_type": "markdown",
      "source": [
        "# Capturing vegetation structures\n",
        "\n",
        "ALOS-PALSAR: synthetic aperture radar (SAR) data\n",
        "\n",
        "SAR sensors:\n",
        "* Illuminate the target surface with microwave pulses\n",
        "* Backscatter (σ0) is captured by the sensor\n",
        "* The structure of vegetation is captured"
      ],
      "metadata": {
        "id": "ByFg-Q_RbrMa"
      }
    },
    {
      "cell_type": "markdown",
      "source": [
        "# Different illumination sources"
      ],
      "metadata": {
        "id": "OCj6bfECchIg"
      }
    },
    {
      "cell_type": "markdown",
      "source": [
        "The incident microwave pulses have various different wavelengths which can capture different attributes on the surface.\n",
        "\n",
        "In JERS and ALOS-PALSAR sensors:\n",
        "\n",
        "C-band: 4.8-7.5 cm\n",
        "\n",
        "L-band: 15-30 cm\n",
        "\n",
        "*Shorter wavelengths have a lower penetration ability*"
      ],
      "metadata": {
        "id": "kVejkw6zcmJX"
      }
    },
    {
      "cell_type": "markdown",
      "source": [
        "![0F9E3356-7803-435B-8316-71863B8A71C8.jpeg](data:image/jpeg;base64,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)"
      ],
      "metadata": {
        "id": "pb_1St4jdIBU"
      }
    },
    {
      "cell_type": "markdown",
      "source": [
        "# Sentinel-1 data"
      ],
      "metadata": {
        "id": "p9TA92b-dq_W"
      }
    },
    {
      "cell_type": "code",
      "source": [
        "sentinel1= ee.ImageCollection(\"COPERNICUS/S1_GRD\").filterDate(\"2016-01-01\", \"2016-05-01\")"
      ],
      "metadata": {
        "id": "tnzjjBYebEYk"
      },
      "execution_count": 13,
      "outputs": []
    },
    {
      "cell_type": "code",
      "source": [
        "vh = sentinel1.filter(ee.Filter.listContains(\"transmitterReceiverPolarisation\", \"VV\"))\\\n",
        "              .filter(ee.Filter.listContains(\"transmitterReceiverPolarisation\", \"VH\"))\\\n",
        "              .filter(ee.Filter.eq(\"instrumentMode\", \"IW\"))"
      ],
      "metadata": {
        "id": "d6bF3QetzuZ-"
      },
      "execution_count": 14,
      "outputs": []
    },
    {
      "cell_type": "code",
      "source": [
        "vhAscending = vh.filter(ee.Filter.eq(\"orbitProperties_pass\", \"ASCENDING\"))\n",
        "vhDescending = vh.filter(ee.Filter.eq(\"orbitProperties_pass\", \"DESCENDING\"))"
      ],
      "metadata": {
        "id": "JlP7yNBA2snw"
      },
      "execution_count": 15,
      "outputs": []
    },
    {
      "cell_type": "code",
      "source": [
        "composite = ee.Image.cat([vhAscending.select(\"VH\").mean(),\n",
        "                          ee.ImageCollection(vhAscending.select(\"VV\")\\\n",
        "                          .merge(vhDescending.select(\"VV\"))).mean(),\n",
        "                          vhDescending.select(\"VH\").mean()])\\\n",
        "                          .focal_median()"
      ],
      "metadata": {
        "id": "vb4enShQ3mhw"
      },
      "execution_count": 16,
      "outputs": []
    },
    {
      "cell_type": "markdown",
      "source": [
        "# Sentinel-1 visualization"
      ],
      "metadata": {
        "id": "q2pB-nW46Va7"
      }
    },
    {
      "cell_type": "code",
      "source": [
        "ffa_db = ee.Image(ee.ImageCollection(\"COPERNICUS/S1_GRD\")\\\n",
        "                  .filterBounds(pa)\\\n",
        "                  .filterDate(ee.Date(\"2019-01-01\"), ee.Date(\"2019-07-31\"))\\\n",
        "                  .median().clip(pa))"
      ],
      "metadata": {
        "id": "0yccDMUZ5Y49"
      },
      "execution_count": 17,
      "outputs": []
    },
    {
      "cell_type": "code",
      "source": [
        "rgb = ee.Image.rgb(ffa_db.select(\"VV\"),\n",
        "                   ffa_db.select(\"VH\"),\n",
        "                   ffa_db.select(\"VV\").divide(ffa_db.select(\"VH\")))"
      ],
      "metadata": {
        "id": "dTkAgHp76weJ"
      },
      "execution_count": 18,
      "outputs": []
    },
    {
      "cell_type": "code",
      "source": [
        "Map3 = geemap.Map(center=[47.6532, -2.7855], zoom=10)\n",
        "Map3.add_basemap(\"SATELLITE\")\n",
        "Map3.addLayer(rgb, {\"min\": [-20,-20,0],\n",
        "                    \"max\": [0,0,2]}, \n",
        "              \"sentinel 1\")\n",
        "\n",
        "Map3.addLayerControl()\n",
        "Map3"
      ],
      "metadata": {
        "colab": {
          "base_uri": "https://localhost:8080/",
          "height": 621,
          "referenced_widgets": [
            "29844dfc26ec4ec7ab4596ec2330ad93",
            "ac7f5a660f1249c5aaaecdb34f7127a1",
            "67c105887087401981125d385710ab48",
            "b7e794e334b84b8fa43acf38c3152863",
            "2778af8231374028accb8c284e81137b",
            "cd121857b1194deaa542e976fead350b",
            "5ee955684b054f31a8ca28f4137c6020",
            "39f4e9a89ba248649c80ca2cf980a0ab",
            "1948b132293b453c841db5b7a1a7728f",
            "e872b7808303411ba11c59bf57415e85",
            "3e1450ebe8dd4383bb7b106bef031634",
            "0c66927cb273419197b9764a2208328f",
            "8bd2fb98d4934bdf9ee9d1a7b6d22a61",
            "3bee06bf61674e8692737b6e3edd6501",
            "3343730612f04407a954b3fc073ddab7",
            "89f22782a8e14f468971d0776dbc4408",
            "eecb6f23335e4289b167598d2be45034",
            "4f1ed64dd9574ff2983a071090680e69",
            "8127d245160e41b1be16e61541211575",
            "e7df843de1d647a8805958e91b24e1a4",
            "27d8281661484e848543e0ece4e917ae",
            "f630b516ee454fa08dd37882df2e21c9",
            "64093e03c917470099ae0338f9631458",
            "1954059651cb4f0c9d27b1d2bf21fdb6",
            "d69cda85a6e346599567edeef756cf65",
            "96da21d90270412e94242b41f6f2770e",
            "b6abfca227f441c5ba639bebe31d084a"
          ]
        },
        "id": "OgF4cWsj7OnT",
        "outputId": "62266a57-44e7-4935-cf26-96c1119eb48e"
      },
      "execution_count": 19,
      "outputs": [
        {
          "output_type": "display_data",
          "data": {
            "application/vnd.jupyter.widget-view+json": {
              "model_id": "29844dfc26ec4ec7ab4596ec2330ad93",
              "version_minor": 0,
              "version_major": 2
            },
            "text/plain": [
              "Map(center=[47.6532, -2.7855], controls=(WidgetControl(options=['position', 'transparent_bg'], widget=HBox(chi…"
            ]
          },
          "metadata": {
            "application/vnd.jupyter.widget-view+json": {
              "colab": {
                "custom_widget_manager": {
                  "url": "https://ssl.gstatic.com/colaboratory-static/widgets/colab-cdn-widget-manager/a8874ba6619b6106/manager.min.js"
                }
              }
            }
          }
        }
      ]
    },
    {
      "cell_type": "markdown",
      "source": [
        "# LANDSAT Time Series"
      ],
      "metadata": {
        "id": "WzdcfN-L8qTX"
      }
    },
    {
      "cell_type": "code",
      "source": [
        "!pip install geextract"
      ],
      "metadata": {
        "colab": {
          "base_uri": "https://localhost:8080/"
        },
        "id": "mSJ6yvCT70xC",
        "outputId": "9f51ff4a-4aaa-42d7-c699-eb07d81517c8"
      },
      "execution_count": 20,
      "outputs": [
        {
          "output_type": "stream",
          "name": "stdout",
          "text": [
            "Collecting geextract\n",
            "  Downloading geextract-0.5.0.tar.gz (10.0 kB)\n",
            "Requirement already satisfied: pandas in /usr/local/lib/python3.7/dist-packages (from geextract) (1.1.5)\n",
            "Requirement already satisfied: earthengine-api in /usr/local/lib/python3.7/dist-packages (from geextract) (0.1.295)\n",
            "Requirement already satisfied: future in /usr/local/lib/python3.7/dist-packages (from earthengine-api->geextract) (0.16.0)\n",
            "Requirement already satisfied: google-api-python-client<2,>=1.12.1 in /usr/local/lib/python3.7/dist-packages (from earthengine-api->geextract) (1.12.10)\n",
            "Requirement already satisfied: httplib2shim in /usr/local/lib/python3.7/dist-packages (from earthengine-api->geextract) (0.0.3)\n",
            "Requirement already satisfied: google-cloud-storage in /usr/local/lib/python3.7/dist-packages (from earthengine-api->geextract) (1.18.1)\n",
            "Requirement already satisfied: six in /usr/local/lib/python3.7/dist-packages (from earthengine-api->geextract) (1.15.0)\n",
            "Requirement already satisfied: httplib2<1dev,>=0.9.2 in /usr/local/lib/python3.7/dist-packages (from earthengine-api->geextract) (0.17.4)\n",
            "Requirement already satisfied: google-auth>=1.4.1 in /usr/local/lib/python3.7/dist-packages (from earthengine-api->geextract) (1.35.0)\n",
            "Requirement already satisfied: google-auth-httplib2>=0.0.3 in /usr/local/lib/python3.7/dist-packages (from earthengine-api->geextract) (0.0.4)\n",
            "Requirement already satisfied: google-api-core<3dev,>=1.21.0 in /usr/local/lib/python3.7/dist-packages (from google-api-python-client<2,>=1.12.1->earthengine-api->geextract) (1.26.3)\n",
            "Requirement already satisfied: uritemplate<4dev,>=3.0.0 in /usr/local/lib/python3.7/dist-packages (from google-api-python-client<2,>=1.12.1->earthengine-api->geextract) (3.0.1)\n",
            "Requirement already satisfied: setuptools>=40.3.0 in /usr/local/lib/python3.7/dist-packages (from google-api-core<3dev,>=1.21.0->google-api-python-client<2,>=1.12.1->earthengine-api->geextract) (57.4.0)\n",
            "Requirement already satisfied: googleapis-common-protos<2.0dev,>=1.6.0 in /usr/local/lib/python3.7/dist-packages (from google-api-core<3dev,>=1.21.0->google-api-python-client<2,>=1.12.1->earthengine-api->geextract) (1.54.0)\n",
            "Requirement already satisfied: pytz in /usr/local/lib/python3.7/dist-packages (from google-api-core<3dev,>=1.21.0->google-api-python-client<2,>=1.12.1->earthengine-api->geextract) (2018.9)\n",
            "Requirement already satisfied: requests<3.0.0dev,>=2.18.0 in /usr/local/lib/python3.7/dist-packages (from google-api-core<3dev,>=1.21.0->google-api-python-client<2,>=1.12.1->earthengine-api->geextract) (2.23.0)\n",
            "Requirement already satisfied: packaging>=14.3 in /usr/local/lib/python3.7/dist-packages (from google-api-core<3dev,>=1.21.0->google-api-python-client<2,>=1.12.1->earthengine-api->geextract) (21.3)\n",
            "Requirement already satisfied: protobuf>=3.12.0 in /usr/local/lib/python3.7/dist-packages (from google-api-core<3dev,>=1.21.0->google-api-python-client<2,>=1.12.1->earthengine-api->geextract) (3.17.3)\n",
            "Requirement already satisfied: pyasn1-modules>=0.2.1 in /usr/local/lib/python3.7/dist-packages (from google-auth>=1.4.1->earthengine-api->geextract) (0.2.8)\n",
            "Requirement already satisfied: cachetools<5.0,>=2.0.0 in /usr/local/lib/python3.7/dist-packages (from google-auth>=1.4.1->earthengine-api->geextract) (4.2.4)\n",
            "Requirement already satisfied: rsa<5,>=3.1.4 in /usr/local/lib/python3.7/dist-packages (from google-auth>=1.4.1->earthengine-api->geextract) (4.8)\n",
            "Requirement already satisfied: pyparsing!=3.0.5,>=2.0.2 in /usr/local/lib/python3.7/dist-packages (from packaging>=14.3->google-api-core<3dev,>=1.21.0->google-api-python-client<2,>=1.12.1->earthengine-api->geextract) (3.0.7)\n",
            "Requirement already satisfied: pyasn1<0.5.0,>=0.4.6 in /usr/local/lib/python3.7/dist-packages (from pyasn1-modules>=0.2.1->google-auth>=1.4.1->earthengine-api->geextract) (0.4.8)\n",
            "Requirement already satisfied: certifi>=2017.4.17 in /usr/local/lib/python3.7/dist-packages (from requests<3.0.0dev,>=2.18.0->google-api-core<3dev,>=1.21.0->google-api-python-client<2,>=1.12.1->earthengine-api->geextract) (2021.10.8)\n",
            "Requirement already satisfied: chardet<4,>=3.0.2 in /usr/local/lib/python3.7/dist-packages (from requests<3.0.0dev,>=2.18.0->google-api-core<3dev,>=1.21.0->google-api-python-client<2,>=1.12.1->earthengine-api->geextract) (3.0.4)\n",
            "Requirement already satisfied: idna<3,>=2.5 in /usr/local/lib/python3.7/dist-packages (from requests<3.0.0dev,>=2.18.0->google-api-core<3dev,>=1.21.0->google-api-python-client<2,>=1.12.1->earthengine-api->geextract) (2.10)\n",
            "Requirement already satisfied: urllib3!=1.25.0,!=1.25.1,<1.26,>=1.21.1 in /usr/local/lib/python3.7/dist-packages (from requests<3.0.0dev,>=2.18.0->google-api-core<3dev,>=1.21.0->google-api-python-client<2,>=1.12.1->earthengine-api->geextract) (1.24.3)\n",
            "Requirement already satisfied: google-resumable-media<0.5.0dev,>=0.3.1 in /usr/local/lib/python3.7/dist-packages (from google-cloud-storage->earthengine-api->geextract) (0.4.1)\n",
            "Requirement already satisfied: google-cloud-core<2.0dev,>=1.0.0 in /usr/local/lib/python3.7/dist-packages (from google-cloud-storage->earthengine-api->geextract) (1.0.3)\n",
            "Requirement already satisfied: numpy>=1.15.4 in /usr/local/lib/python3.7/dist-packages (from pandas->geextract) (1.19.5)\n",
            "Requirement already satisfied: python-dateutil>=2.7.3 in /usr/local/lib/python3.7/dist-packages (from pandas->geextract) (2.8.2)\n",
            "Building wheels for collected packages: geextract\n",
            "  Building wheel for geextract (setup.py) ... \u001b[?25l\u001b[?25hdone\n",
            "  Created wheel for geextract: filename=geextract-0.5.0-py3-none-any.whl size=12848 sha256=291063893a60b70802c9a7804dd0d885cad70bc6e2ba65fff5fbb4e8cd3c21cb\n",
            "  Stored in directory: /root/.cache/pip/wheels/2e/1a/8e/d123e50525e5101db2cee6f4686c6e7637534f83d4e87f0e5e\n",
            "Successfully built geextract\n",
            "Installing collected packages: geextract\n",
            "Successfully installed geextract-0.5.0\n"
          ]
        }
      ]
    },
    {
      "cell_type": "code",
      "source": [
        "from geextract import ts_extract, get_date\n",
        "from datetime import datetime\n",
        "import numpy as np\n",
        "import matplotlib.pyplot as plt\n",
        "%matplotlib inline\n",
        "\n",
        "plt.figure(figsize=[10,5])"
      ],
      "metadata": {
        "colab": {
          "base_uri": "https://localhost:8080/",
          "height": 53
        },
        "id": "eIKU-Gbz8ylm",
        "outputId": "6fd0bfc0-2168-4dc1-ef07-57457516db3f"
      },
      "execution_count": 21,
      "outputs": [
        {
          "output_type": "execute_result",
          "data": {
            "text/plain": [
              "<Figure size 720x360 with 0 Axes>"
            ]
          },
          "metadata": {},
          "execution_count": 21
        },
        {
          "output_type": "display_data",
          "data": {
            "text/plain": [
              "<Figure size 720x360 with 0 Axes>"
            ]
          },
          "metadata": {}
        }
      ]
    },
    {
      "cell_type": "code",
      "source": [
        "lat=47.6532\n",
        "lon=-2.7855019\n",
        "\n",
        "raw_dict=ts_extract(lon=lon, lat=lat, sensor=\"LT5\",start=datetime(1984,1,1),radius=300)"
      ],
      "metadata": {
        "id": "lCHw0uoL9BxG"
      },
      "execution_count": 22,
      "outputs": []
    },
    {
      "cell_type": "code",
      "source": [
        "def ndvi(x):\n",
        "  try:\n",
        "    return (x[\"B4\"]-x[\"B3\"])/(x[\"B4\"]+x[\"B3\"])\n",
        "  except:\n",
        "    pass"
      ],
      "metadata": {
        "id": "XSDa7XEG92Pl"
      },
      "execution_count": 23,
      "outputs": []
    },
    {
      "cell_type": "code",
      "source": [
        "x= np.array([get_date(d[\"id\"])for d in raw_dict])\n",
        "y= np.array([ndvi(d) for d in raw_dict], dtype=np.float)\n",
        "\n",
        "x= x[~np.isnan(y)]\n",
        "y= y[~np.isnan(y)]"
      ],
      "metadata": {
        "id": "kMwyZsxx-KVR"
      },
      "execution_count": 24,
      "outputs": []
    },
    {
      "cell_type": "code",
      "source": [
        "plt.plot_date(x,y,\"--\")\n",
        "plt.plot_date(x,y)\n",
        "plt.title(\"LANDSAT5 NDVI Time Series Gulf of Morbihan\")\n",
        "plt.ylabel(\"NDVI (-)\")\n",
        "plt.grid(True)"
      ],
      "metadata": {
        "colab": {
          "base_uri": "https://localhost:8080/",
          "height": 281
        },
        "id": "CjLPnAdE-8mx",
        "outputId": "67b40a20-e601-4c8e-ecfe-28190798ae21"
      },
      "execution_count": 25,
      "outputs": [
        {
          "output_type": "display_data",
          "data": {
            "image/png": "[encoded data removed]",
            "text/plain": [
              "<Figure size 432x288 with 1 Axes>"
            ]
          },
          "metadata": {
            "needs_background": "light"
          }
        }
      ]
    },
    {
      "cell_type": "code",
      "source": [
        ""
      ],
      "metadata": {
        "id": "wzRmvoQi_77W"
      },
      "execution_count": 25,
      "outputs": []
    },
    {
      "cell_type": "markdown",
      "source": [
        "# HydroSHEDS Demo"
      ],
      "metadata": {
        "id": "TkJ3sReKseKK"
      }
    },
    {
      "cell_type": "code",
      "source": [
        "Map = geemap.Map()\n",
        "\n",
        "tr = ee.FeatureCollection(\"FAO/GAUL/2015/level0\")\\\n",
        "                  .filter(ee.Filter.eq(\"ADM0_NAME\", \"Turkey\"))\n",
        "\n",
        "Map.centerObject(tr, 4)\n",
        "Map.add_basemap(\"SATELLITE\")\n",
        "hydro_tr = ee.FeatureCollection(\"WWF/HydroSHEDS/v1/Basins/hybas_12\")\\\n",
        "                  .filterBounds(tr)\n",
        "\n",
        "Map.addLayer(hydro_tr, {}, \"Basins\")\n",
        "Map.addLayerControl()\n",
        "Map\n",
        "\n",
        "# Point (29.5573, 40.6491) at 76m/px\n",
        "# Basins: Feature (13 properties)\n",
        "# COAST: 0\n",
        "# DIST_MAIN: 0\n",
        "#  DIST_SINK: 0\n",
        "#  ENDO: 0\n",
        "#  HYBAS_ID: 2120003340\n",
        "#  MAIN_BAS: 2120003340\n",
        "#  NEXT_DOWN: 0\n",
        "#  NEXT_SINK: 2120003340\n",
        "#  ORDER: 1\n",
        "#  PFAF_ID: 211059040100\n",
        "#  SORT: 2141\n",
        "#  SUB_AREA: 112\n",
        "#  UP_AREA: 284.9"
      ],
      "metadata": {
        "colab": {
          "base_uri": "https://localhost:8080/",
          "height": 621,
          "referenced_widgets": [
            "0245e164c7504687b8a36bedfd20e182",
            "533560c2950a41ff814704a18887c51a",
            "97ddd2cc707040219d0dcf3bd0ec259a",
            "ae9b952f38c844b297641eb2b0233be4",
            "e2ae9a9d726645e2ac44819664796233",
            "f05af585015b4f229d63542d5dff5e6a",
            "4218464f87cc456aa96f3888d80fbfdd",
            "d529ecc9ce774b0cb1e6fcade2465e95",
            "4e9907c9c8904ec189eb1db780da0628",
            "7f84a502592146c6833bfcde435f87c9",
            "e8bb9c143d8f4e0b9f14487cc2835af4",
            "c1cefdf74c4b4d0a845739ca64eeaf23",
            "45922d5bd988488d85f2a8b6123e4c89",
            "3bee06bf61674e8692737b6e3edd6501",
            "3343730612f04407a954b3fc073ddab7",
            "321eb8b23f3f4a26ae8e36a572045e85",
            "0f577b61de4342caaea9a6310623811a",
            "322f65b2a408439996fa511a14ce1c8f",
            "851aaa3e39ad4db1b087d56f4585690d",
            "6583573224d64084bac8bafbb3dfb1e7",
            "cc3e210583b34a1f94b15f2a5510a2de",
            "edd001e6bac6492084bfbe9a37137d55",
            "74087db731bf47a2ae1d3d0fc90b5054",
            "1c06baa8d7614f6eb0752db774a82d38",
            "26efbe6ec1fe46a6ac798d3ea568fa47",
            "1f74ab469ea847a7830d2c674d5d513d",
            "be8889bd156b45b0a2c13659522c7bd2"
          ]
        },
        "id": "kgMRlPpqsgLU",
        "outputId": "58a1c32a-a1f4-46a6-f90e-b94b17825f8a"
      },
      "execution_count": 26,
      "outputs": [
        {
          "output_type": "display_data",
          "data": {
            "application/vnd.jupyter.widget-view+json": {
              "model_id": "0245e164c7504687b8a36bedfd20e182",
              "version_minor": 0,
              "version_major": 2
            },
            "text/plain": [
              "Map(center=[39.13706909469105, 35.179063494008986], controls=(WidgetControl(options=['position', 'transparent_…"
            ]
          },
          "metadata": {
            "application/vnd.jupyter.widget-view+json": {
              "colab": {
                "custom_widget_manager": {
                  "url": "https://ssl.gstatic.com/colaboratory-static/widgets/colab-cdn-widget-manager/a8874ba6619b6106/manager.min.js"
                }
              }
            }
          }
        }
      ]
    },
    {
      "cell_type": "code",
      "source": [
        "Map2 = geemap.Map(center=[40.6485, 29.5572],zoom=10)\n",
        "\n",
        "karamursel = ee.FeatureCollection(\"WWF/HydroSHEDS/v1/Basins/hybas_12\")\\\n",
        "                  .filter(ee.Filter.eq(\"PFAF_ID\", 211059040100))\n",
        "Map2.add_basemap(\"SATELLITE\")\n",
        "hydro = ee.FeatureCollection(\"WWF/HydroSHEDS/v1/Basins/hybas_12\")\\\n",
        "                  .filterBounds(karamursel)\n",
        "\n",
        "Map2.addLayer(hydro, {}, \"Basins\")\n",
        "Map2.addLayerControl()\n",
        "Map2"
      ],
      "metadata": {
        "colab": {
          "base_uri": "https://localhost:8080/",
          "height": 621,
          "referenced_widgets": [
            "6b8b2546253f41b8a319ca733bc5d54c",
            "c9edde2b23b540ecb10c93737fbe9629",
            "0c4a1c1e1b3e4388a87be01026d1ae12",
            "aec8b27b9aed47dcb16fb6e7967c7c7d",
            "45049a75e0e84a0fbdd911d488f81545",
            "53b0a22599b34af59bcdbdebf3b1075c",
            "61619766948149aa9b8ea445c1cb2f18",
            "1247d56314524b1da2ba227ae5ba801d",
            "04fd74daf092420f954636c65550ffdb",
            "947a7ddc695a497392e85068e789df4d",
            "e93a8b3b6d2d490d92b20c8fdb015909",
            "8e4339ff13104ded8e73c760d6d9f57d",
            "d7568b967c194760876bd5429589181e",
            "3bee06bf61674e8692737b6e3edd6501",
            "3343730612f04407a954b3fc073ddab7",
            "15a2d238f1684002bb16205c68b17441",
            "4aee64379fb7400184d85950e80af268",
            "8b33e1713aa54d5f80dde6939f6b1c06",
            "35f44f0b1e464e108f4c890d19092586",
            "416bb92964904d73a353ae63252ecac0",
            "67c02763998f4ca98d08e5d4338dc8ad",
            "969f0375ba954588a54327904f507b01",
            "f2a4c8b39b3840578331684abef5b26d",
            "afc54cb6398b4552aa2643bfda722c90",
            "ad4a04072c2f4afc8fa555aff59e62a8",
            "80af84c3b09541dbae2cfb784161ddb6",
            "787641f67c0244a09f5c45f034f6e632"
          ]
        },
        "id": "wcezl_ZfuPlc",
        "outputId": "46ad17f3-48e1-4382-867e-94c28f75b4c8"
      },
      "execution_count": 27,
      "outputs": [
        {
          "output_type": "display_data",
          "data": {
            "application/vnd.jupyter.widget-view+json": {
              "model_id": "6b8b2546253f41b8a319ca733bc5d54c",
              "version_minor": 0,
              "version_major": 2
            },
            "text/plain": [
              "Map(center=[40.6485, 29.5572], controls=(WidgetControl(options=['position', 'transparent_bg'], widget=HBox(chi…"
            ]
          },
          "metadata": {
            "application/vnd.jupyter.widget-view+json": {
              "colab": {
                "custom_widget_manager": {
                  "url": "https://ssl.gstatic.com/colaboratory-static/widgets/colab-cdn-widget-manager/a8874ba6619b6106/manager.min.js"
                }
              }
            }
          }
        }
      ]
    },
    {
      "cell_type": "code",
      "source": [
        "lat=40.6485\n",
        "lon=29.5572\n",
        "\n",
        "raw_dict=ts_extract(lon=lon, lat=lat, sensor=\"LT5\",start=datetime(1984,1,1),radius=300)\n",
        "\n",
        "def ndvi(x):\n",
        "  try:\n",
        "    return (x[\"B4\"]-x[\"B3\"])/(x[\"B4\"]+x[\"B3\"])\n",
        "  except:\n",
        "    pass\n",
        "\n",
        "x= np.array([get_date(d[\"id\"])for d in raw_dict])\n",
        "y= np.array([ndvi(d) for d in raw_dict], dtype=np.float)\n",
        "\n",
        "x= x[~np.isnan(y)]\n",
        "y= y[~np.isnan(y)]\n",
        "\n",
        "\n",
        "plt.plot_date(x,y,\"--\")\n",
        "plt.plot_date(x,y)\n",
        "plt.title(\"LANDSAT5 NDVI Time Series (Karamursel)\")\n",
        "plt.ylabel(\"NDVI (-)\")\n",
        "plt.grid(True)"
      ],
      "metadata": {
        "colab": {
          "base_uri": "https://localhost:8080/",
          "height": 281
        },
        "id": "fbAcH8m9zhJQ",
        "outputId": "1ed37fd3-21e8-4907-f954-a8fb64ef6e2f"
      },
      "execution_count": 29,
      "outputs": [
        {
          "output_type": "display_data",
          "data": {
            "image/png": "[encoded data removed]",
            "text/plain": [
              "<Figure size 432x288 with 1 Axes>"
            ]
          },
          "metadata": {
            "needs_background": "light"
          }
        }
      ]
    },
    {
      "cell_type": "code",
      "source": [
        "lat=40.6485\n",
        "lon=29.5572\n",
        "\n",
        "raw_dict=ts_extract(lon=lon, lat=lat, sensor=\"LT5\",start=datetime(2000,1,1),radius=300)\n",
        "\n",
        "def ndvi(x):\n",
        "  try:\n",
        "    return (x[\"B4\"]-x[\"B3\"])/(x[\"B4\"]+x[\"B3\"])\n",
        "  except:\n",
        "    pass\n",
        "\n",
        "x= np.array([get_date(d[\"id\"])for d in raw_dict])\n",
        "y= np.array([ndvi(d) for d in raw_dict], dtype=np.float)\n",
        "\n",
        "x= x[~np.isnan(y)]\n",
        "y= y[~np.isnan(y)]\n",
        "\n",
        "\n",
        "plt.plot_date(x,y,\" \")\n",
        "plt.plot_date(x,y)\n",
        "plt.title(\"LANDSAT5 NDVI Time Series (Karamursel)\")\n",
        "plt.ylabel(\"NDVI (-)\")\n",
        "plt.grid(True)"
      ],
      "metadata": {
        "colab": {
          "base_uri": "https://localhost:8080/",
          "height": 281
        },
        "id": "eXbYz-a_-YFp",
        "outputId": "74474049-8c65-4396-f680-b4990595820a"
      },
      "execution_count": 30,
      "outputs": [
        {
          "output_type": "display_data",
          "data": {
            "image/png": "[encoded data removed]",
            "text/plain": [
              "<Figure size 432x288 with 1 Axes>"
            ]
          },
          "metadata": {
            "needs_background": "light"
          }
        }
      ]
    },
    {
      "cell_type": "code",
      "source": [
        "import pandas as pd\n",
        "import altair as alt\n",
        "import numpy as np\n",
        "import folium"
      ],
      "metadata": {
        "id": "UiGkew35-4zE"
      },
      "execution_count": 31,
      "outputs": []
    },
    {
      "cell_type": "code",
      "source": [
        "def create_reduce_region_function(geometry,\n",
        "                                  reducer=ee.Reducer.mean(),\n",
        "                                  scale=1000,\n",
        "                                  crs='EPSG:4326',\n",
        "                                  bestEffort=True,\n",
        "                                  maxPixels=1e13,\n",
        "                                  tileScale=4):\n",
        "\n",
        "  def reduce_region_function(img):\n",
        "\n",
        "    stat = img.reduceRegion(\n",
        "        reducer=reducer,\n",
        "        geometry=geometry,\n",
        "        scale=scale,\n",
        "        crs=crs,\n",
        "        bestEffort=bestEffort,\n",
        "        maxPixels=maxPixels,\n",
        "        tileScale=tileScale)\n",
        "\n",
        "    return ee.Feature(geometry, stat).set({'millis': img.date().millis()})\n",
        "  return reduce_region_function"
      ],
      "metadata": {
        "id": "e-F94MMNAcji"
      },
      "execution_count": 32,
      "outputs": []
    },
    {
      "cell_type": "code",
      "source": [
        "def fc_to_dict(fc):\n",
        "  prop_names = fc.first().propertyNames()\n",
        "  prop_lists = fc.reduceColumns(\n",
        "      reducer=ee.Reducer.toList().repeat(prop_names.size()),\n",
        "      selectors=prop_names).get('list')\n",
        "\n",
        "  return ee.Dictionary.fromLists(prop_names, prop_lists)"
      ],
      "metadata": {
        "id": "TJxShnM5BCDi"
      },
      "execution_count": 33,
      "outputs": []
    },
    {
      "cell_type": "code",
      "source": [
        "today = ee.Date(pd.to_datetime('today'))\n",
        "date_range = ee.DateRange(today.advance(-20, 'years'), today)\n",
        "\n",
        "ndvi = ee.ImageCollection('MODIS/006/MOD13A2').filterDate(date_range).select('NDVI')\n",
        "\n",
        "reduce_ndvi = create_reduce_region_function(\n",
        "    geometry=karamursel, reducer=ee.Reducer.mean(), scale=1000, crs='EPSG:3310')\n",
        "\n",
        "ndvi_stat_fc = ee.FeatureCollection(ndvi.map(reduce_ndvi)).filter(\n",
        "    ee.Filter.notNull(ndvi.first().bandNames()))"
      ],
      "metadata": {
        "id": "PoN2gG-T_cg7"
      },
      "execution_count": 34,
      "outputs": []
    },
    {
      "cell_type": "code",
      "source": [
        "Map3 = geemap.Map(center=[40.6485, 29.5572],zoom=15)\n",
        "Map3.add_basemap(\"SATELLITE\")\n",
        "\n",
        "Map3.addLayer(ndvi_stat_fc, {}, \"NDVI\")\n",
        "Map3.addLayerControl()\n",
        "Map3"
      ],
      "metadata": {
        "id": "9mdu-nbH__mP",
        "colab": {
          "base_uri": "https://localhost:8080/",
          "height": 621,
          "referenced_widgets": [
            "4592ae5370c64a31a01593f5c686f478",
            "71984e9c1d1c487f840b609f621d7eaf",
            "1ff89efac66b47a39077e62942047f8f",
            "918256ea4e784b68979b74397fb07bc1",
            "9d137b4e64c340bdbf1fd9d0c9f14c35",
            "4029536d1d3b4087b4f715d901f32872",
            "55d9b915a4cb4ecda7afba84af418ab3",
            "c304c447c0ac4f2492092920d95d92f6",
            "6d9042caa7ba4675bd42acc4d50257b4",
            "36271cd7ba48472c87e14b37e978962c",
            "8df5ddc00e734dd681200b53c28c7832",
            "ed319b35461b4539948bccd440ed897c",
            "6df041a9f6c84066a002e2635395db6d",
            "3bee06bf61674e8692737b6e3edd6501",
            "3343730612f04407a954b3fc073ddab7",
            "23524aa756a5416fa8a578531ba0dec0",
            "b5dc3d6551dc4a14947ef638614873c8",
            "b317b60f2ec348308f2a5ff90e698ce8",
            "33d80a40a2b443af8d3715080d722e22",
            "c7834c4273a449e0904e5df3837467d1",
            "a8c53a03eb534ab186051b9aa1797f06",
            "0d0cbcf501904f2da65281a122044c06",
            "de95aaf05a2e40928f77451829fce090",
            "50f0b03a2a7840d9b76dc721098ce73d",
            "a6bdf0abf8214d2fa1398b8b56824cc7",
            "0455865ea4344e3db8010d1d4b0b7537",
            "20269f93cb994de09221b69382fc2f4a"
          ]
        },
        "outputId": "ee5ad34d-af3b-4439-90bb-4717d5373452"
      },
      "execution_count": 39,
      "outputs": [
        {
          "output_type": "display_data",
          "data": {
            "application/vnd.jupyter.widget-view+json": {
              "model_id": "4592ae5370c64a31a01593f5c686f478",
              "version_minor": 0,
              "version_major": 2
            },
            "text/plain": [
              "Map(center=[40.6485, 29.5572], controls=(WidgetControl(options=['position', 'transparent_bg'], widget=HBox(chi…"
            ]
          },
          "metadata": {
            "application/vnd.jupyter.widget-view+json": {
              "colab": {
                "custom_widget_manager": {
                  "url": "https://ssl.gstatic.com/colaboratory-static/widgets/colab-cdn-widget-manager/a8874ba6619b6106/manager.min.js"
                }
              }
            }
          }
        }
      ]
    }
  ]
}